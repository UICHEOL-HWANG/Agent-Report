{
 "cells": [
  {
   "cell_type": "markdown",
   "metadata": {},
   "source": [
    "# 캐싱 및 DB 저장"
   ]
  },
  {
   "cell_type": "code",
   "execution_count": 8,
   "metadata": {},
   "outputs": [],
   "source": [
    "import json\n",
    "import pandas as pd\n",
    "import os"
   ]
  },
  {
   "cell_type": "code",
   "execution_count": 9,
   "metadata": {},
   "outputs": [],
   "source": [
    "df_transcript = pd.read_csv(\"../data/transcript_data.csv\")\n",
    "df_summary = pd.read_csv(\"../data/summaries.csv\")"
   ]
  },
  {
   "cell_type": "code",
   "execution_count": 10,
   "metadata": {},
   "outputs": [],
   "source": [
    "df_merged = pd.merge(df_transcript, df_summary, on=\"video_id\")"
   ]
  },
  {
   "cell_type": "code",
   "execution_count": 11,
   "metadata": {},
   "outputs": [],
   "source": [
    "data_to_cache = df_merged.to_dict(orient=\"records\")\n",
    "cache_path = \"../data/cached_summary.json\""
   ]
  },
  {
   "cell_type": "code",
   "execution_count": 12,
   "metadata": {},
   "outputs": [
    {
     "name": "stdout",
     "output_type": "stream",
     "text": [
      "✅ 캐시 저장 완료 → ../data/cached_summary.json\n"
     ]
    }
   ],
   "source": [
    "data_to_cache = df_merged.to_dict(orient=\"records\")\n",
    "cache_path = \"../data/cached_summary.json\"\n",
    "\n",
    "with open(cache_path, \"w\", encoding=\"utf-8\") as f:\n",
    "    json.dump(data_to_cache, f, ensure_ascii=False, indent=2)\n",
    "\n",
    "print(f\"✅ 캐시 저장 완료 → {cache_path}\")"
   ]
  },
  {
   "cell_type": "code",
   "execution_count": 13,
   "metadata": {},
   "outputs": [],
   "source": [
    "with open(cache_path, \"r\", encoding=\"utf-8\") as f:\n",
    "    loaded_data = json.load(f)"
   ]
  },
  {
   "cell_type": "code",
   "execution_count": 14,
   "metadata": {},
   "outputs": [
    {
     "name": "stdout",
     "output_type": "stream",
     "text": [
      "📦 캐시에서 불러온 영상 수: 5\n",
      "\n",
      "예시 영상 요약:\n",
      "제목 ID: iwUYHUPwL30\n",
      "요약 내용: 인트로: 데이터의 특성은 존재적 특성과 단위적 특성으로 나뉘며, 존재적 특성은 팩트를 기반으로 한 데이터를 의미하고, 단위적 특성은 가공이나 변형된 데이터를 의미한다.\n",
      "\n",
      "1. [존재적 특성과 단위적 특성]\n",
      "- 존재적 특성은 팩트를 기반으로 한 데이터를 의미하며, 단위적 특성은 가공이나 변형된 데이터를 의미한다.\n",
      "\n",
      "2. [정성적 데이터와 정량적 데이터]\n",
      "- 정성적 데이터는 주관적이고 주관적이며, 정량적 데이터는 객관적이고 측정 가능한 데이터를 의미한다.\n",
      "\n",
      "3. [정형 데이터, 비정형 데이터, 반정형 데이터]\n",
      "- 정형 데이터는 연산이 \n"
     ]
    }
   ],
   "source": [
    "print(\"📦 캐시에서 불러온 영상 수:\", len(loaded_data))\n",
    "print(\"\\n예시 영상 요약:\")\n",
    "print(\"제목 ID:\", loaded_data[0][\"video_id\"])\n",
    "print(\"요약 내용:\", loaded_data[0][\"summary\"][:300])"
   ]
  },
  {
   "cell_type": "code",
   "execution_count": null,
   "metadata": {},
   "outputs": [],
   "source": []
  }
 ],
 "metadata": {
  "kernelspec": {
   "display_name": "base",
   "language": "python",
   "name": "python3"
  },
  "language_info": {
   "codemirror_mode": {
    "name": "ipython",
    "version": 3
   },
   "file_extension": ".py",
   "mimetype": "text/x-python",
   "name": "python",
   "nbconvert_exporter": "python",
   "pygments_lexer": "ipython3",
   "version": "3.12.3"
  }
 },
 "nbformat": 4,
 "nbformat_minor": 2
}
