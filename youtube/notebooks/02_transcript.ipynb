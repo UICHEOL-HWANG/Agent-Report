{
 "cells": [
  {
   "cell_type": "markdown",
   "metadata": {},
   "source": [
    "pip install youtube-transcript-api"
   ]
  },
  {
   "cell_type": "markdown",
   "metadata": {},
   "source": [
    "# GPT 요약"
   ]
  },
  {
   "cell_type": "code",
   "execution_count": 8,
   "metadata": {},
   "outputs": [],
   "source": [
    "from youtube_transcript_api import YouTubeTranscriptApi\n",
    "import pandas as pd"
   ]
  },
  {
   "cell_type": "code",
   "execution_count": 9,
   "metadata": {},
   "outputs": [],
   "source": [
    "# JSON 로드\n",
    "import json\n",
    "\n",
    "with open(\"../data/video_meta.json\", \"r\", encoding=\"utf-8\") as f:\n",
    "    video_meta = json.load(f)"
   ]
  },
  {
   "cell_type": "code",
   "execution_count": 10,
   "metadata": {},
   "outputs": [],
   "source": [
    "# 1. 자막 추출 함수 정의\n",
    "def get_transcript(video_id):\n",
    "    try:\n",
    "        transcript = YouTubeTranscriptApi.get_transcript(video_id, languages=['ko', 'en'])\n",
    "        full_text = \" \".join([seg['text'] for seg in transcript])\n",
    "        return full_text\n",
    "    except Exception as e:\n",
    "        print(f\"오류: (ID: {video_id}):\", e)\n",
    "        return None"
   ]
  },
  {
   "cell_type": "code",
   "execution_count": 11,
   "metadata": {},
   "outputs": [],
   "source": [
    "dataset = []\n",
    "for video in video_meta:\n",
    "    transcript = get_transcript(video[\"video_id\"])\n",
    "    if transcript:\n",
    "        dataset.append({\n",
    "            \"video_id\": video[\"video_id\"],\n",
    "            \"title\": video[\"title\"],\n",
    "            \"url\": video[\"url\"],\n",
    "            \"channel\": video.get(\"channel\", \"\"),\n",
    "            \"published\": video.get(\"published\", \"\"),\n",
    "            \"transcript\": transcript\n",
    "        })"
   ]
  },
  {
   "cell_type": "code",
   "execution_count": 12,
   "metadata": {},
   "outputs": [
    {
     "data": {
      "text/html": [
       "<div>\n",
       "<style scoped>\n",
       "    .dataframe tbody tr th:only-of-type {\n",
       "        vertical-align: middle;\n",
       "    }\n",
       "\n",
       "    .dataframe tbody tr th {\n",
       "        vertical-align: top;\n",
       "    }\n",
       "\n",
       "    .dataframe thead th {\n",
       "        text-align: right;\n",
       "    }\n",
       "</style>\n",
       "<table border=\"1\" class=\"dataframe\">\n",
       "  <thead>\n",
       "    <tr style=\"text-align: right;\">\n",
       "      <th></th>\n",
       "      <th>video_id</th>\n",
       "      <th>title</th>\n",
       "      <th>url</th>\n",
       "      <th>channel</th>\n",
       "      <th>published</th>\n",
       "      <th>transcript</th>\n",
       "    </tr>\n",
       "  </thead>\n",
       "  <tbody>\n",
       "    <tr>\n",
       "      <th>0</th>\n",
       "      <td>iwUYHUPwL30</td>\n",
       "      <td>ADsP 핵심요약 5시간 벼락치기 특강 | 미어캣 [편집본] | adsp 독학</td>\n",
       "      <td>https://www.youtube.com/watch?v=iwUYHUPwL30</td>\n",
       "      <td>비빅터</td>\n",
       "      <td>1 year ago</td>\n",
       "      <td>데이터의 특성에서 존재적 특성과 단위적으로 나온 거 있잖아요 요거 요게 그냥 다 단...</td>\n",
       "    </tr>\n",
       "    <tr>\n",
       "      <th>1</th>\n",
       "      <td>m6Vez0J2Xig</td>\n",
       "      <td>ADsP 핵심요약 5시간 벼락치기 특강 _live stream 녹화</td>\n",
       "      <td>https://www.youtube.com/watch?v=m6Vez0J2Xig</td>\n",
       "      <td>위키북스</td>\n",
       "      <td>Streamed 2 years ago</td>\n",
       "      <td>안녕하세요 기다리고 계신 분들도 계시네요 인사 먼저 드릴게요 저는 오늘 죄송합니다 ...</td>\n",
       "    </tr>\n",
       "    <tr>\n",
       "      <th>2</th>\n",
       "      <td>8YN9vZp495E</td>\n",
       "      <td>[ADsP 1과목] 데이터의 이해 - 기다리던 총정리 시간</td>\n",
       "      <td>https://www.youtube.com/watch?v=8YN9vZp495E</td>\n",
       "      <td>EduAtoZ - Programming</td>\n",
       "      <td>3 years ago</td>\n",
       "      <td>1과목 데이터에 이에 대해서 교환을 보면서 쭉 정리하는 시간을 갖도록 하겠습니다 짜...</td>\n",
       "    </tr>\n",
       "    <tr>\n",
       "      <th>3</th>\n",
       "      <td>_ZrneQl69Lo</td>\n",
       "      <td>ADsP 핵심이론 5시간 완성 ｜ 시험 전 벼락치기 필수 영상🔥 ｜ 와우패스 김계철...</td>\n",
       "      <td>https://www.youtube.com/watch?v=_ZrneQl69Lo</td>\n",
       "      <td>와우패스</td>\n",
       "      <td>2 years ago</td>\n",
       "      <td>자 안녕하십니까 자 강의에 관련된 내용들은 우리 교재 2권에 해당되는 2023년 a...</td>\n",
       "    </tr>\n",
       "    <tr>\n",
       "      <th>4</th>\n",
       "      <td>MuJUhXoM-9E</td>\n",
       "      <td>[ADsP 3과목] 데이터 분석 - Part 3 - 기다리던 총정리 시간</td>\n",
       "      <td>https://www.youtube.com/watch?v=MuJUhXoM-9E</td>\n",
       "      <td>EduAtoZ - Programming</td>\n",
       "      <td>3 years ago</td>\n",
       "      <td>3 밤 호 파트 3 정형 데이터 마이닝 부터 쪽 요약해 보도록 하겠습니다 보면은 데...</td>\n",
       "    </tr>\n",
       "  </tbody>\n",
       "</table>\n",
       "</div>"
      ],
      "text/plain": [
       "      video_id                                              title  \\\n",
       "0  iwUYHUPwL30        ADsP 핵심요약 5시간 벼락치기 특강 | 미어캣 [편집본] | adsp 독학   \n",
       "1  m6Vez0J2Xig              ADsP 핵심요약 5시간 벼락치기 특강 _live stream 녹화   \n",
       "2  8YN9vZp495E                   [ADsP 1과목] 데이터의 이해 - 기다리던 총정리 시간   \n",
       "3  _ZrneQl69Lo  ADsP 핵심이론 5시간 완성 ｜ 시험 전 벼락치기 필수 영상🔥 ｜ 와우패스 김계철...   \n",
       "4  MuJUhXoM-9E           [ADsP 3과목] 데이터 분석 - Part 3 - 기다리던 총정리 시간   \n",
       "\n",
       "                                           url                channel  \\\n",
       "0  https://www.youtube.com/watch?v=iwUYHUPwL30                    비빅터   \n",
       "1  https://www.youtube.com/watch?v=m6Vez0J2Xig                   위키북스   \n",
       "2  https://www.youtube.com/watch?v=8YN9vZp495E  EduAtoZ - Programming   \n",
       "3  https://www.youtube.com/watch?v=_ZrneQl69Lo                   와우패스   \n",
       "4  https://www.youtube.com/watch?v=MuJUhXoM-9E  EduAtoZ - Programming   \n",
       "\n",
       "              published                                         transcript  \n",
       "0            1 year ago  데이터의 특성에서 존재적 특성과 단위적으로 나온 거 있잖아요 요거 요게 그냥 다 단...  \n",
       "1  Streamed 2 years ago  안녕하세요 기다리고 계신 분들도 계시네요 인사 먼저 드릴게요 저는 오늘 죄송합니다 ...  \n",
       "2           3 years ago  1과목 데이터에 이에 대해서 교환을 보면서 쭉 정리하는 시간을 갖도록 하겠습니다 짜...  \n",
       "3           2 years ago  자 안녕하십니까 자 강의에 관련된 내용들은 우리 교재 2권에 해당되는 2023년 a...  \n",
       "4           3 years ago  3 밤 호 파트 3 정형 데이터 마이닝 부터 쪽 요약해 보도록 하겠습니다 보면은 데...  "
      ]
     },
     "execution_count": 12,
     "metadata": {},
     "output_type": "execute_result"
    }
   ],
   "source": [
    "transcript_df = pd.DataFrame(dataset)\n",
    "transcript_df.head()"
   ]
  },
  {
   "cell_type": "code",
   "execution_count": 13,
   "metadata": {},
   "outputs": [],
   "source": [
    "data_path = \"../data/transcript_data.csv\"\n",
    "transcript_df.to_csv(data_path, index=False, encoding=\"utf-8-sig\")"
   ]
  },
  {
   "cell_type": "code",
   "execution_count": 14,
   "metadata": {},
   "outputs": [
    {
     "name": "stdout",
     "output_type": "stream",
     "text": [
      " ADsP 핵심요약 5시간 벼락치기 특강 | 미어캣 [편집본] | adsp 독학 (비빅터)\n",
      "URL: https://www.youtube.com/watch?v=iwUYHUPwL30\n",
      "데이터의 특성에서 존재적 특성과 단위적으로 나온 거 있잖아요 요거 요게 그냥 다 단어가 어떤 의미다 정도 예 그런 정도만 알고 있으면 돼요 존재적 특성 그냥 있는 그대로에 사실 얘는 팩트를 얘기하는 겁니다 그냥 그냥 팩트예요 팩트를 얘기하는 거고 여기는 뭐가 들어 얘는 수학 80.0 100점 어떤 어 존재적 특성은 팩트에 기반한 존재적 데이터가 특성을 갖고 있다는 거고 당위적 특성은 이게 가공이 된다거나 변형이 된다거나 집계가 된다 그러면 어떤 의미를 갖는다는 거죠 그래서 평균 90점 3학년 1반의 평균 90점 근데 3학년 2반의 평균은 70점 이러면 평균 점수 90점 70점은 의미를 갖죠 어떤 의미를 갖느냐 1반이 더 잘하네 그죠 이반보이스 데와 정보는 무엇이 다를까 이런 것도 그냥 읽어 보시고 넘어가시면 되고요 정성적 데이터와 정량적 데이터라는 부분이 있는데 요게 예전 기출 문제에 잠깐 나온게 있는데 별 하나라고 달아둔 거는 이렇게 크게 많이 이렇게 뭐 어렵거나 그런 문제도 아니\n",
      "\n",
      "====================================================================================================\n",
      "\n",
      " ADsP 핵심요약 5시간 벼락치기 특강 _live stream 녹화 (위키북스)\n",
      "URL: https://www.youtube.com/watch?v=m6Vez0J2Xig\n",
      "안녕하세요 기다리고 계신 분들도 계시네요 인사 먼저 드릴게요 저는 오늘 죄송합니다 실방이다 보니까 오디오가 동시에 들어갔네 저는 adsp 시중에 이제 미어캣이라고 부르는 미어캣 책이라 부르는 책을 전용운이라고 합니다 되게 만나뵙게 돼서 되게 반갑구요 얘기를 하면서 강의가 이제 뭐 좀 하면 어떻겠느냐 이런 조금 제한이 있었고 그래서 이제 처음에는 사실은 이렇게 아이 뭐 강의하겠습니다 이렇게 하고 그렇게 하고 나서 이제 돌아서 곰곰이 생각을 해보니까 되게 많이 부담스럽더라구요 왜냐하면 그 여러분들은 정말 뭐 취업을 준비하시는 분들 계실 거고 또 회사에서 뭐 승진이라든지 그런 것 때문에 공부하시는 분들 계실 거고 대학생분들도 계실 거고 여러분들의 그 시간을 좀 헛되게 하면 안 되겠다라는 생각이 좀 들어가지고 되게 좀 부담이 많이 쓰러웠어요 게다가 또 라이브 방송이기도 하고 그래서 일반 뭐 대학에서 강의하던 거라든가 이런 거랑 좀 더 느낌이 많이 다릅니다 지금 말소리가 잘 나가고 있는지 네\n",
      "\n",
      "====================================================================================================\n",
      "\n",
      " [ADsP 1과목] 데이터의 이해 - 기다리던 총정리 시간 (EduAtoZ - Programming)\n",
      "URL: https://www.youtube.com/watch?v=8YN9vZp495E\n",
      "1과목 데이터에 이에 대해서 교환을 보면서 쭉 정리하는 시간을 갖도록 하겠습니다 짜 가장 먼저 데이터의 정 의 데이터 라는 것은 자체로는 의미가 중요하지 않은 객관적인 사실인데 굉장히 중요하죠 왜냐하면 추론 예측 전망 추정을 위한 근거로 기능 하는 특성을 갖고 다른 객체와 의 상호관계 속에서 가치를 간 닌 것이기 때문이에요 이게 이제 재료가 되는 거죠 자 데이터 유형 반드시 9분할 수 있으셔야 합니다 정성적 데이터와 정량적 돼 있다 콜 l 티브 콘티 타 티브 그래서 얘는 질적인 거 얘는 양적인 거죠 정상적인 돼 있다는 자료에 성질과 특징을 자세히 풀어 쓰는 방식으로 언어 문자로 기술 된다 라고 나오고 설문조사에 주관 지금 다 sns 에 올린 글 기상특보 그래서 길게 에게 소수 해주는 그런 형태로 설명해주고 있어요 자 그리고 수치 기호 도형 으로 표시한다 라는 것이 종량제 적 그래서 지역 열 온도 풍속 가 음영 처럼 플러스 마이너스 꼬끼오 나 어떤 숫자 나 뭐 이런 것들로 표현될 수 \n",
      "\n",
      "====================================================================================================\n",
      "\n",
      " ADsP 핵심이론 5시간 완성 ｜ 시험 전 벼락치기 필수 영상🔥 ｜ 와우패스 김계철 교수님 (와우패스)\n",
      "URL: https://www.youtube.com/watch?v=_ZrneQl69Lo\n",
      "자 안녕하십니까 자 강의에 관련된 내용들은 우리 교재 2권에 해당되는 2023년 adsp 항공으로 끝내기 요약 플러스 문제집 파트에 넘버링 185개를 중심으로 해서 여러분과 함께 강의를 진행하도록 할게요 자 이같이 넘버링 강의로 진행하는 이유는 여러가지가 이유가 있는데요 대부분 여러분 adsp 시험을 응시하는 대부분 학생분들 또는 직장인분들 절대 학습 시간이 부족하다 할 수가 있겠습니다 따라서 학습에 필요한 구체적인 학습 불량을 제시하는 거 굉장히 의미가 있다 할 수가 있겠습니다 따라서 이와 같은 이유로 인해서 넘버링 185개를 충분하게 학습하고 이해한다면 합격할 수 있다는 의미에서 넘버링 수업을 진행한다 할 수가 있겠습니다 또한 해당되는 넘버링 수업 185개나 우리 최근 4년 동안 합격 유지하는 객관적 지표를 통해서 입증된 콘텐츠라는 것도 다시 한번 강조해서 말씀을 드리도록 합니다 강의 내용도 역시 짤막하게 쪼개서 여러분이대 이용하거나 또는 자가용으로 이용하시면서 쉽게 여러분 다가\n",
      "\n",
      "====================================================================================================\n",
      "\n",
      " [ADsP 3과목] 데이터 분석 - Part 3 - 기다리던 총정리 시간 (EduAtoZ - Programming)\n",
      "URL: https://www.youtube.com/watch?v=MuJUhXoM-9E\n",
      "3 밤 호 파트 3 정형 데이터 마이닝 부터 쪽 요약해 보도록 하겠습니다 보면은 데이터마이닝 에 개요 라고 해서 데이터 마이닝의 이제 정의 나오고 있죠 그래서 보시면 모든 사용 가능한 원천 데이터를 기반으로 감춰진 지시 기대하지 못했던 경향 또는 새로운 규칙 등을 발견하고 이를 실제 비즈니스 의사 결정 등이 유용한 정보로 활용하는 1년을 작업을 말합니다 그래서 데이터마이닝 목적 정의의 데이터 준비 데다 가공 데이터 마이닝 기법 적용 검증 의 단계로 되어 있구요 자 이게 이제 중요한 거죠 데이터 마이닝 기법의 종류 6가지 분류 라고 하는 것은 새롭게 나타난 현상을 검토해서 기존의 분류 정의의 집합의 배정하는 것이다 그래서 특성에 맞게끔 나누는 것을 생각하시면 되는거구요 추정 이라는 것은 주어지지 입력 데이터를 사용해서 알려지지 않은 결과에 값을 추정하는 것이다 자 그리고 연관 분석 잘 알아두셔야 되는데 뒤쪽에서 더 나오죠 사실은 그래서 용강 분석은 뒤쪽에서 좀더 보시면 되요 같이 팔리\n",
      "\n",
      "====================================================================================================\n",
      "\n"
     ]
    }
   ],
   "source": [
    "for row in dataset:\n",
    "    print(f\" {row['title']} ({row['channel']})\")\n",
    "    print(f\"URL: {row['url']}\")\n",
    "    print(row['transcript'][:500])\n",
    "    print(\"\\n\" + \"=\" * 100 + \"\\n\")"
   ]
  }
 ],
 "metadata": {
  "kernelspec": {
   "display_name": "base",
   "language": "python",
   "name": "python3"
  },
  "language_info": {
   "codemirror_mode": {
    "name": "ipython",
    "version": 3
   },
   "file_extension": ".py",
   "mimetype": "text/x-python",
   "name": "python",
   "nbconvert_exporter": "python",
   "pygments_lexer": "ipython3",
   "version": "3.12.3"
  }
 },
 "nbformat": 4,
 "nbformat_minor": 2
}
