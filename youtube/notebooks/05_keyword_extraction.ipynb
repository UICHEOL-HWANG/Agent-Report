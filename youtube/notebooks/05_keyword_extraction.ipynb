{
 "cells": [
  {
   "cell_type": "markdown",
   "metadata": {},
   "source": [
    "# 키워드 추출 X"
   ]
  },
  {
   "cell_type": "code",
   "execution_count": 9,
   "metadata": {},
   "outputs": [],
   "source": [
    "import pandas as pd\n",
    "from sklearn.feature_extraction.text import TfidfVectorizer\n",
    "import matplotlib.pyplot as plt\n",
    "import re"
   ]
  },
  {
   "cell_type": "code",
   "execution_count": 10,
   "metadata": {},
   "outputs": [],
   "source": [
    "# 📥 1. 요약 데이터 불러오기\n",
    "summary_df = pd.read_csv(\"../data/summaries.csv\")\n",
    "summary_df.dropna(inplace=True)"
   ]
  },
  {
   "cell_type": "code",
   "execution_count": 11,
   "metadata": {},
   "outputs": [],
   "source": [
    "# 🧪 2. 조사 제거 전처리 함수\n",
    "def remove_josa(text):\n",
    "    stop_words = [\"입니다\", \"있습니다\", \"하는\", \"그리고\", \"하지만\", \"또한\", \"이런\", \"저는\", \"그는\",\n",
    "                   \"그녀는\", \"것은\", \"에서는\", \"으로\", \"이다\", \"을\", \"은\", \"를\", \"이\", \"가\",\n",
    "                    \"의\", \"에\", \"와\", \"과\", \"한\", \"하는\", \"에서\", \"으로\", \"로\", \"에게\", \"께서\"\n",
    "                    \"들\", \"이들\", \"그들\", \"저들\", \"이런\", \"저런\", \"그런\", \"이런저런\",\n",
    "                    \"그런저런\", \"이런저런\", \"그런\", \"이런\", \"저런\", \"이런\", \"저런\"]\n",
    "    for sw in stop_words:\n",
    "        text = text.replace(sw, \"\")\n",
    "    text = re.sub(r\"[^\\w가-힣\\s]\", \"\", text)  # 특수문자 제거\n",
    "    return text"
   ]
  },
  {
   "cell_type": "code",
   "execution_count": 12,
   "metadata": {},
   "outputs": [],
   "source": [
    "summary_df['clean_summary'] = summary_df['summary'].apply(remove_josa)"
   ]
  },
  {
   "cell_type": "code",
   "execution_count": 13,
   "metadata": {},
   "outputs": [],
   "source": [
    "# 3. TF-IDF 벡터화\n",
    "vectorizer = TfidfVectorizer(max_features=20)\n",
    "X = vectorizer.fit_transform(summary_df['clean_summary'])\n",
    "keywords = vectorizer.get_feature_names_out()"
   ]
  },
  {
   "cell_type": "code",
   "execution_count": 14,
   "metadata": {},
   "outputs": [],
   "source": [
    "# 4. 전체 요약문 기준 상위 키워드 시각화\n",
    "import numpy as np\n",
    "avg_scores = X.mean(axis=0).tolist()[0]\n",
    "keyword_scores = dict(zip(keywords, avg_scores))"
   ]
  },
  {
   "cell_type": "code",
   "execution_count": 15,
   "metadata": {},
   "outputs": [],
   "source": [
    "# 상위 10개 키워드 추출\n",
    "sorted_keywords = sorted(keyword_scores.items(), key=lambda x: x[1], reverse=True)[:10]\n"
   ]
  },
  {
   "cell_type": "code",
   "execution_count": 16,
   "metadata": {},
   "outputs": [
    {
     "name": "stdout",
     "output_type": "stream",
     "text": [
      " TF-IDF 키워드:\n",
      "데터: 0.3186\n",
      "특성: 0.2548\n",
      "데터는: 0.2487\n",
      "지식: 0.1793\n",
      "adsp: 0.1434\n",
      "암묵지: 0.1303\n",
      "형식지: 0.1303\n",
      "분류: 0.1272\n",
      "시험서: 0.1202\n",
      "시험: 0.1188\n"
     ]
    }
   ],
   "source": [
    "# 결과 출력\n",
    "print(\" TF-IDF 키워드:\")\n",
    "for word, score in sorted_keywords:\n",
    "    print(f\"{word}: {score:.4f}\")"
   ]
  }
 ],
 "metadata": {
  "kernelspec": {
   "display_name": "base",
   "language": "python",
   "name": "python3"
  },
  "language_info": {
   "codemirror_mode": {
    "name": "ipython",
    "version": 3
   },
   "file_extension": ".py",
   "mimetype": "text/x-python",
   "name": "python",
   "nbconvert_exporter": "python",
   "pygments_lexer": "ipython3",
   "version": "3.12.3"
  }
 },
 "nbformat": 4,
 "nbformat_minor": 2
}
