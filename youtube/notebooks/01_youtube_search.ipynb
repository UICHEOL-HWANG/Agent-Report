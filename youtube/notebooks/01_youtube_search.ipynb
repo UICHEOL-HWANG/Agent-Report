{
 "cells": [
  {
   "cell_type": "markdown",
   "metadata": {},
   "source": [
    "pip install youtube-search-python"
   ]
  },
  {
   "cell_type": "markdown",
   "metadata": {},
   "source": [
    "# 유튜브 검색"
   ]
  },
  {
   "cell_type": "code",
   "execution_count": 33,
   "metadata": {},
   "outputs": [],
   "source": [
    "from youtubesearchpython import VideosSearch\n",
    "import pandas as pd\n",
    "\n",
    "# 1. 사용자 입력 질의\n",
    "query = \"뉴진스 논란 정리\"\n",
    "\n",
    "# 2. 유튜브 영상 검색\n",
    "search = VideosSearch(query, limit=5)\n",
    "results = search.result()['result']"
   ]
  },
  {
   "cell_type": "code",
   "execution_count": 34,
   "metadata": {},
   "outputs": [],
   "source": [
    "# 3. 검색 결과 정리\n",
    "video_list = []\n",
    "for res in results:\n",
    "    video_list.append({\n",
    "        \"title\": res['title'],\n",
    "        \"url\": res['link'],\n",
    "        \"video_id\": res['id'],\n",
    "        \"duration\": res['duration'],\n",
    "        \"channel\": res['channel']['name'],\n",
    "        \"published\": res['publishedTime'],\n",
    "        \"thumbnail\": res['thumbnails'][0]['url']\n",
    "    })"
   ]
  },
  {
   "cell_type": "code",
   "execution_count": 35,
   "metadata": {},
   "outputs": [
    {
     "data": {
      "text/html": [
       "<div>\n",
       "<style scoped>\n",
       "    .dataframe tbody tr th:only-of-type {\n",
       "        vertical-align: middle;\n",
       "    }\n",
       "\n",
       "    .dataframe tbody tr th {\n",
       "        vertical-align: top;\n",
       "    }\n",
       "\n",
       "    .dataframe thead th {\n",
       "        text-align: right;\n",
       "    }\n",
       "</style>\n",
       "<table border=\"1\" class=\"dataframe\">\n",
       "  <thead>\n",
       "    <tr style=\"text-align: right;\">\n",
       "      <th></th>\n",
       "      <th>title</th>\n",
       "      <th>url</th>\n",
       "      <th>video_id</th>\n",
       "      <th>duration</th>\n",
       "      <th>channel</th>\n",
       "      <th>published</th>\n",
       "      <th>thumbnail</th>\n",
       "    </tr>\n",
       "  </thead>\n",
       "  <tbody>\n",
       "    <tr>\n",
       "      <th>0</th>\n",
       "      <td>[자막뉴스] 뉴진스, 법원 결정에 초강수... 미래 달린 '핵심 증거' / YTN</td>\n",
       "      <td>https://www.youtube.com/watch?v=P36piGYsC5U</td>\n",
       "      <td>P36piGYsC5U</td>\n",
       "      <td>3:08</td>\n",
       "      <td>YTN</td>\n",
       "      <td>2 days ago</td>\n",
       "      <td>https://i.ytimg.com/vi/P36piGYsC5U/hq720.jpg?s...</td>\n",
       "    </tr>\n",
       "    <tr>\n",
       "      <th>1</th>\n",
       "      <td>민희진부터 NJZ까지...뉴진스의 미래는? / YTN</td>\n",
       "      <td>https://www.youtube.com/watch?v=5khtUEkUXu8</td>\n",
       "      <td>5khtUEkUXu8</td>\n",
       "      <td>3:25</td>\n",
       "      <td>YTN</td>\n",
       "      <td>4 days ago</td>\n",
       "      <td>https://i.ytimg.com/vi/5khtUEkUXu8/hq720.jpg?s...</td>\n",
       "    </tr>\n",
       "    <tr>\n",
       "      <th>2</th>\n",
       "      <td>[씬속뉴스] 뉴진스까지 나서서 최후통첩 날린 이유…'하이브-민희진 사태' 2분 요약...</td>\n",
       "      <td>https://www.youtube.com/watch?v=8RzIdsBEWjs</td>\n",
       "      <td>8RzIdsBEWjs</td>\n",
       "      <td>2:32</td>\n",
       "      <td>연합뉴스TV</td>\n",
       "      <td>6 months ago</td>\n",
       "      <td>https://i.ytimg.com/vi/8RzIdsBEWjs/hq720.jpg?s...</td>\n",
       "    </tr>\n",
       "    <tr>\n",
       "      <th>3</th>\n",
       "      <td>[자막] 질문 없이 끝난 배우 김수현 기자회견</td>\n",
       "      <td>https://www.youtube.com/watch?v=S3SwYIgwisY</td>\n",
       "      <td>S3SwYIgwisY</td>\n",
       "      <td>35:01</td>\n",
       "      <td>엠빅뉴스</td>\n",
       "      <td>2 days ago</td>\n",
       "      <td>https://i.ytimg.com/vi/S3SwYIgwisY/hq720.jpg?s...</td>\n",
       "    </tr>\n",
       "    <tr>\n",
       "      <th>4</th>\n",
       "      <td>K팝 변호사가 본 뉴진스 주장이 안 먹힌 진짜 이유 / 스브스뉴스</td>\n",
       "      <td>https://www.youtube.com/watch?v=XuMrShxaV48</td>\n",
       "      <td>XuMrShxaV48</td>\n",
       "      <td>5:31</td>\n",
       "      <td>스브스뉴스 SUBUSUNEWS</td>\n",
       "      <td>8 days ago</td>\n",
       "      <td>https://i.ytimg.com/vi/XuMrShxaV48/hq720.jpg?s...</td>\n",
       "    </tr>\n",
       "  </tbody>\n",
       "</table>\n",
       "</div>"
      ],
      "text/plain": [
       "                                               title  \\\n",
       "0      [자막뉴스] 뉴진스, 법원 결정에 초강수... 미래 달린 '핵심 증거' / YTN   \n",
       "1                      민희진부터 NJZ까지...뉴진스의 미래는? / YTN   \n",
       "2  [씬속뉴스] 뉴진스까지 나서서 최후통첩 날린 이유…'하이브-민희진 사태' 2분 요약...   \n",
       "3                          [자막] 질문 없이 끝난 배우 김수현 기자회견   \n",
       "4               K팝 변호사가 본 뉴진스 주장이 안 먹힌 진짜 이유 / 스브스뉴스   \n",
       "\n",
       "                                           url     video_id duration  \\\n",
       "0  https://www.youtube.com/watch?v=P36piGYsC5U  P36piGYsC5U     3:08   \n",
       "1  https://www.youtube.com/watch?v=5khtUEkUXu8  5khtUEkUXu8     3:25   \n",
       "2  https://www.youtube.com/watch?v=8RzIdsBEWjs  8RzIdsBEWjs     2:32   \n",
       "3  https://www.youtube.com/watch?v=S3SwYIgwisY  S3SwYIgwisY    35:01   \n",
       "4  https://www.youtube.com/watch?v=XuMrShxaV48  XuMrShxaV48     5:31   \n",
       "\n",
       "            channel     published  \\\n",
       "0               YTN    2 days ago   \n",
       "1               YTN    4 days ago   \n",
       "2            연합뉴스TV  6 months ago   \n",
       "3              엠빅뉴스    2 days ago   \n",
       "4  스브스뉴스 SUBUSUNEWS    8 days ago   \n",
       "\n",
       "                                           thumbnail  \n",
       "0  https://i.ytimg.com/vi/P36piGYsC5U/hq720.jpg?s...  \n",
       "1  https://i.ytimg.com/vi/5khtUEkUXu8/hq720.jpg?s...  \n",
       "2  https://i.ytimg.com/vi/8RzIdsBEWjs/hq720.jpg?s...  \n",
       "3  https://i.ytimg.com/vi/S3SwYIgwisY/hq720.jpg?s...  \n",
       "4  https://i.ytimg.com/vi/XuMrShxaV48/hq720.jpg?s...  "
      ]
     },
     "execution_count": 35,
     "metadata": {},
     "output_type": "execute_result"
    }
   ],
   "source": [
    "video_df = pd.DataFrame(video_list)\n",
    "video_df"
   ]
  },
  {
   "cell_type": "code",
   "execution_count": null,
   "metadata": {},
   "outputs": [
    {
     "name": "stdout",
     "output_type": "stream",
     "text": [
      "[1] [자막뉴스] 뉴진스, 법원 결정에 초강수... 미래 달린 '핵심 증거' / YTN (3:08) - https://www.youtube.com/watch?v=P36piGYsC5U\n",
      "채널:  YTN | 업로드일: 2 days ago\n",
      "썸네일: https://i.ytimg.com/vi/P36piGYsC5U/hq720.jpg?sqp=-oaymwEcCOgCEMoBSFXyq4qpAw4IARUAAIhCGAFwAcABBg==&rs=AOn4CLBhaDfP_KNGWR54AlmUqPQGfLK7pQ\n",
      "--------------------------------------------------------------------------------\n",
      "[2] 민희진부터 NJZ까지...뉴진스의 미래는? / YTN (3:25) - https://www.youtube.com/watch?v=5khtUEkUXu8\n",
      "채널:  YTN | 업로드일: 4 days ago\n",
      "썸네일: https://i.ytimg.com/vi/5khtUEkUXu8/hq720.jpg?sqp=-oaymwEcCOgCEMoBSFXyq4qpAw4IARUAAIhCGAFwAcABBg==&rs=AOn4CLAqhnuj7t6BAV-LhrEV25WKx0zCag\n",
      "--------------------------------------------------------------------------------\n",
      "[3] [씬속뉴스] 뉴진스까지 나서서 최후통첩 날린 이유…'하이브-민희진 사태' 2분 요약 / 연합뉴스TV (YonhapnewsTV) (2:32) - https://www.youtube.com/watch?v=8RzIdsBEWjs\n",
      "채널: 연합뉴스TV | 업로드일: 6 months ago\n",
      "썸네일: https://i.ytimg.com/vi/8RzIdsBEWjs/hq720.jpg?sqp=-oaymwEcCOgCEMoBSFXyq4qpAw4IARUAAIhCGAFwAcABBg==&rs=AOn4CLBYyLAUqb71t6YT3I_AuaYeS8ydoQ\n",
      "--------------------------------------------------------------------------------\n",
      "[4] [자막] 질문 없이 끝난 배우 김수현 기자회견 (35:01) - https://www.youtube.com/watch?v=S3SwYIgwisY\n",
      "채널: 엠빅뉴스 | 업로드일: 2 days ago\n",
      "썸네일: https://i.ytimg.com/vi/S3SwYIgwisY/hq720.jpg?sqp=-oaymwEcCOgCEMoBSFXyq4qpAw4IARUAAIhCGAFwAcABBg==&rs=AOn4CLC7JCCzJ7f5ddhPisb9lLKmTglRFg\n",
      "--------------------------------------------------------------------------------\n",
      "[5] K팝 변호사가 본 뉴진스 주장이 안 먹힌 진짜 이유 / 스브스뉴스 (5:31) - https://www.youtube.com/watch?v=XuMrShxaV48\n",
      "채널: 스브스뉴스 SUBUSUNEWS | 업로드일: 8 days ago\n",
      "썸네일: https://i.ytimg.com/vi/XuMrShxaV48/hq720.jpg?sqp=-oaymwEcCOgCEMoBSFXyq4qpAw4IARUAAIhCGAFwAcABBg==&rs=AOn4CLDUbtPCKXEe2B6Mx8UAecvbFAYdcg\n",
      "--------------------------------------------------------------------------------\n"
     ]
    }
   ],
   "source": [
    "for i, v in enumerate(video_list):\n",
    "    print(f\"[{i+1}] {v['title']} ({v['duration']}) - {v['url']}\")\n",
    "    print(f\"채널: {v['channel']} | 업로드일: {v['published']}\")\n",
    "    print(\"썸네일:\", v['thumbnail'])\n",
    "    print(\"-\" * 80)  # 구분선"
   ]
  },
  {
   "cell_type": "code",
   "execution_count": 22,
   "metadata": {},
   "outputs": [
    {
     "name": "stdout",
     "output_type": "stream",
     "text": [
      "✅ 영상 메타데이터 저장 완료 → video_meta.json\n"
     ]
    }
   ],
   "source": [
    "# 6. JSON 저장\n",
    "import json\n",
    "\n",
    "with open(\"../data/video_meta.json\", \"w\", encoding=\"utf-8\") as f:\n",
    "    json.dump(video_list, f, ensure_ascii=False, indent=2)\n",
    "\n",
    "print(\"✅ 영상 메타데이터 저장 완료 → video_meta.json\")"
   ]
  }
 ],
 "metadata": {
  "kernelspec": {
   "display_name": "base",
   "language": "python",
   "name": "python3"
  },
  "language_info": {
   "codemirror_mode": {
    "name": "ipython",
    "version": 3
   },
   "file_extension": ".py",
   "mimetype": "text/x-python",
   "name": "python",
   "nbconvert_exporter": "python",
   "pygments_lexer": "ipython3",
   "version": "3.12.3"
  }
 },
 "nbformat": 4,
 "nbformat_minor": 2
}
