{
 "cells": [
  {
   "cell_type": "markdown",
   "metadata": {},
   "source": [
    "pip install youtube-search-python"
   ]
  },
  {
   "cell_type": "markdown",
   "metadata": {},
   "source": [
    "# 유튜브 검색"
   ]
  },
  {
   "cell_type": "code",
   "execution_count": 30,
   "metadata": {},
   "outputs": [],
   "source": [
    "from youtubesearchpython import VideosSearch\n",
    "import pandas as pd\n",
    "\n",
    "# 1. 사용자 입력 질의\n",
    "query = \"검색해도 안나오는것들\"\n",
    "\n",
    "# 2. 유튜브 영상 검색\n",
    "search = VideosSearch(query, limit=5)\n",
    "results = search.result()['result']"
   ]
  },
  {
   "cell_type": "code",
   "execution_count": 31,
   "metadata": {},
   "outputs": [],
   "source": [
    "# 3. 검색 결과 정리\n",
    "video_list = []\n",
    "for res in results:\n",
    "    video_list.append({\n",
    "        \"title\": res['title'],\n",
    "        \"url\": res['link'],\n",
    "        \"video_id\": res['id'],\n",
    "        \"duration\": res['duration'],\n",
    "        \"channel\": res['channel']['name'],\n",
    "        \"published\": res['publishedTime'],\n",
    "        \"thumbnail\": res['thumbnails'][0]['url']\n",
    "    })"
   ]
  },
  {
   "cell_type": "code",
   "execution_count": 32,
   "metadata": {},
   "outputs": [
    {
     "data": {
      "text/html": [
       "<div>\n",
       "<style scoped>\n",
       "    .dataframe tbody tr th:only-of-type {\n",
       "        vertical-align: middle;\n",
       "    }\n",
       "\n",
       "    .dataframe tbody tr th {\n",
       "        vertical-align: top;\n",
       "    }\n",
       "\n",
       "    .dataframe thead th {\n",
       "        text-align: right;\n",
       "    }\n",
       "</style>\n",
       "<table border=\"1\" class=\"dataframe\">\n",
       "  <thead>\n",
       "    <tr style=\"text-align: right;\">\n",
       "      <th></th>\n",
       "      <th>title</th>\n",
       "      <th>url</th>\n",
       "      <th>video_id</th>\n",
       "      <th>duration</th>\n",
       "      <th>channel</th>\n",
       "      <th>published</th>\n",
       "      <th>thumbnail</th>\n",
       "    </tr>\n",
       "  </thead>\n",
       "  <tbody>\n",
       "    <tr>\n",
       "      <th>0</th>\n",
       "      <td>와..이건 구글에 당장 검색해 보세요</td>\n",
       "      <td>https://www.youtube.com/watch?v=YBHAmNTLYrE</td>\n",
       "      <td>YBHAmNTLYrE</td>\n",
       "      <td>0:38</td>\n",
       "      <td>톡앤 IT</td>\n",
       "      <td>1 year ago</td>\n",
       "      <td>https://i.ytimg.com/vi/YBHAmNTLYrE/hq720.jpg?s...</td>\n",
       "    </tr>\n",
       "    <tr>\n",
       "      <th>1</th>\n",
       "      <td>아주웃긴 노래</td>\n",
       "      <td>https://www.youtube.com/watch?v=qj5ghM1vdIA</td>\n",
       "      <td>qj5ghM1vdIA</td>\n",
       "      <td>0:37</td>\n",
       "      <td>Wonjun Lee</td>\n",
       "      <td>7 years ago</td>\n",
       "      <td>https://i.ytimg.com/vi/qj5ghM1vdIA/hq720.jpg?s...</td>\n",
       "    </tr>\n",
       "    <tr>\n",
       "      <th>2</th>\n",
       "      <td>뽀로로의 기괴한 학교 안전사고</td>\n",
       "      <td>https://www.youtube.com/watch?v=d-mleHImuaY</td>\n",
       "      <td>d-mleHImuaY</td>\n",
       "      <td>1:39</td>\n",
       "      <td>해변가의 아들 Son of a Beach</td>\n",
       "      <td>2 years ago</td>\n",
       "      <td>https://i.ytimg.com/vi/d-mleHImuaY/hq720.jpg?s...</td>\n",
       "    </tr>\n",
       "    <tr>\n",
       "      <th>3</th>\n",
       "      <td>웃음참기 레벨 9.999.999</td>\n",
       "      <td>https://www.youtube.com/watch?v=YnhMKE-_vEw</td>\n",
       "      <td>YnhMKE-_vEw</td>\n",
       "      <td>5:03</td>\n",
       "      <td>턱형 (GOD-TUK)</td>\n",
       "      <td>7 years ago</td>\n",
       "      <td>https://i.ytimg.com/vi/YnhMKE-_vEw/hq720.jpg?s...</td>\n",
       "    </tr>\n",
       "    <tr>\n",
       "      <th>4</th>\n",
       "      <td>뭔가 이상한 뽀로로 오프닝</td>\n",
       "      <td>https://www.youtube.com/watch?v=Sd8im3XT_oE</td>\n",
       "      <td>Sd8im3XT_oE</td>\n",
       "      <td>1:01</td>\n",
       "      <td>DStoon</td>\n",
       "      <td>3 years ago</td>\n",
       "      <td>https://i.ytimg.com/vi/Sd8im3XT_oE/hq720.jpg?s...</td>\n",
       "    </tr>\n",
       "  </tbody>\n",
       "</table>\n",
       "</div>"
      ],
      "text/plain": [
       "                  title                                          url  \\\n",
       "0  와..이건 구글에 당장 검색해 보세요  https://www.youtube.com/watch?v=YBHAmNTLYrE   \n",
       "1               아주웃긴 노래  https://www.youtube.com/watch?v=qj5ghM1vdIA   \n",
       "2      뽀로로의 기괴한 학교 안전사고  https://www.youtube.com/watch?v=d-mleHImuaY   \n",
       "3     웃음참기 레벨 9.999.999  https://www.youtube.com/watch?v=YnhMKE-_vEw   \n",
       "4        뭔가 이상한 뽀로로 오프닝  https://www.youtube.com/watch?v=Sd8im3XT_oE   \n",
       "\n",
       "      video_id duration                 channel    published  \\\n",
       "0  YBHAmNTLYrE     0:38                   톡앤 IT   1 year ago   \n",
       "1  qj5ghM1vdIA     0:37              Wonjun Lee  7 years ago   \n",
       "2  d-mleHImuaY     1:39  해변가의 아들 Son of a Beach  2 years ago   \n",
       "3  YnhMKE-_vEw     5:03            턱형 (GOD-TUK)  7 years ago   \n",
       "4  Sd8im3XT_oE     1:01                  DStoon  3 years ago   \n",
       "\n",
       "                                           thumbnail  \n",
       "0  https://i.ytimg.com/vi/YBHAmNTLYrE/hq720.jpg?s...  \n",
       "1  https://i.ytimg.com/vi/qj5ghM1vdIA/hq720.jpg?s...  \n",
       "2  https://i.ytimg.com/vi/d-mleHImuaY/hq720.jpg?s...  \n",
       "3  https://i.ytimg.com/vi/YnhMKE-_vEw/hq720.jpg?s...  \n",
       "4  https://i.ytimg.com/vi/Sd8im3XT_oE/hq720.jpg?s...  "
      ]
     },
     "execution_count": 32,
     "metadata": {},
     "output_type": "execute_result"
    }
   ],
   "source": [
    "video_df = pd.DataFrame(video_list)\n",
    "video_df"
   ]
  },
  {
   "cell_type": "code",
   "execution_count": 21,
   "metadata": {},
   "outputs": [
    {
     "name": "stdout",
     "output_type": "stream",
     "text": [
      "[1] ADsP 핵심요약 5시간 벼락치기 특강 | 미어캣 [편집본] | adsp 독학 (4:29:23) - https://www.youtube.com/watch?v=iwUYHUPwL30\n",
      "채널: 비빅터 | 업로드일: 1 year ago\n",
      "썸네일: https://i.ytimg.com/vi/iwUYHUPwL30/hq720.jpg?sqp=-oaymwEcCOgCEMoBSFXyq4qpAw4IARUAAIhCGAFwAcABBg==&rs=AOn4CLBFLUKXhPjYW2xGQE8jfUJT45SkHg\n",
      "--------------------------------------------------------------------------------\n",
      "[2] ADsP 핵심요약 5시간 벼락치기 특강 _live stream 녹화 (4:49:21) - https://www.youtube.com/watch?v=m6Vez0J2Xig\n",
      "채널: 위키북스 | 업로드일: Streamed 2 years ago\n",
      "썸네일: https://i.ytimg.com/vi/m6Vez0J2Xig/hq720.jpg?sqp=-oaymwEcCOgCEMoBSFXyq4qpAw4IARUAAIhCGAFwAcABBg==&rs=AOn4CLDzhGCjf1TarqSe2vYka4KeEyuSJw\n",
      "--------------------------------------------------------------------------------\n",
      "[3] [ADsP 1과목] 데이터의 이해 - 기다리던 총정리 시간 (39:04) - https://www.youtube.com/watch?v=8YN9vZp495E\n",
      "채널: EduAtoZ - Programming | 업로드일: 3 years ago\n",
      "썸네일: https://i.ytimg.com/vi/8YN9vZp495E/hq720.jpg?sqp=-oaymwEcCOgCEMoBSFXyq4qpAw4IARUAAIhCGAFwAcABBg==&rs=AOn4CLDqbBf7PdWaniP5KkqG8czA6QK3UQ\n",
      "--------------------------------------------------------------------------------\n",
      "[4] [ADsP 3과목] 데이터 분석 - Part 3 - 기다리던 총정리 시간 (43:15) - https://www.youtube.com/watch?v=MuJUhXoM-9E\n",
      "채널: EduAtoZ - Programming | 업로드일: 3 years ago\n",
      "썸네일: https://i.ytimg.com/vi/MuJUhXoM-9E/hq720.jpg?sqp=-oaymwEcCOgCEMoBSFXyq4qpAw4IARUAAIhCGAFwAcABBg==&rs=AOn4CLAsKnfGgwB70dBqbVB1qzrP4pS7TQ\n",
      "--------------------------------------------------------------------------------\n",
      "[5] ADsP 핵심이론 5시간 완성 ｜ 시험 전 벼락치기 필수 영상🔥 ｜ 와우패스 김계철 교수님 (4:51:51) - https://www.youtube.com/watch?v=_ZrneQl69Lo\n",
      "채널: 와우패스 | 업로드일: 2 years ago\n",
      "썸네일: https://i.ytimg.com/vi/_ZrneQl69Lo/hq720.jpg?sqp=-oaymwEcCOgCEMoBSFXyq4qpAw4IARUAAIhCGAFwAcABBg==&rs=AOn4CLAt8lxjTlZxecgtfQ7yeVX01LWOKQ\n",
      "--------------------------------------------------------------------------------\n"
     ]
    }
   ],
   "source": [
    "for i, v in enumerate(video_list):\n",
    "    print(f\"[{i+1}] {v['title']} ({v['duration']}) - {v['url']}\")\n",
    "    print(f\"채널: {v['channel']} | 업로드일: {v['published']}\")\n",
    "    print(\"썸네일:\", v['thumbnail'])\n",
    "    print(\"-\" * 80)  # 구분선"
   ]
  },
  {
   "cell_type": "code",
   "execution_count": 22,
   "metadata": {},
   "outputs": [
    {
     "name": "stdout",
     "output_type": "stream",
     "text": [
      "✅ 영상 메타데이터 저장 완료 → video_meta.json\n"
     ]
    }
   ],
   "source": [
    "# 6. JSON 저장\n",
    "import json\n",
    "\n",
    "with open(\"../data/video_meta.json\", \"w\", encoding=\"utf-8\") as f:\n",
    "    json.dump(video_list, f, ensure_ascii=False, indent=2)\n",
    "\n",
    "print(\"✅ 영상 메타데이터 저장 완료 → video_meta.json\")"
   ]
  }
 ],
 "metadata": {
  "kernelspec": {
   "display_name": "base",
   "language": "python",
   "name": "python3"
  },
  "language_info": {
   "codemirror_mode": {
    "name": "ipython",
    "version": 3
   },
   "file_extension": ".py",
   "mimetype": "text/x-python",
   "name": "python",
   "nbconvert_exporter": "python",
   "pygments_lexer": "ipython3",
   "version": "3.12.3"
  }
 },
 "nbformat": 4,
 "nbformat_minor": 2
}
