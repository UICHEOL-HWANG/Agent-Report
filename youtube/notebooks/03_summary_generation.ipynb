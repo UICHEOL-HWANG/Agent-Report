{
 "cells": [
  {
   "cell_type": "markdown",
   "metadata": {},
   "source": [
    "# 자막 추출\n",
    "### pip install openai"
   ]
  },
  {
   "cell_type": "code",
   "execution_count": 13,
   "metadata": {},
   "outputs": [],
   "source": [
    "\n",
    "import openai\n",
    "import pandas as pd\n",
    "import os\n"
   ]
  },
  {
   "cell_type": "code",
   "execution_count": null,
   "metadata": {},
   "outputs": [],
   "source": [
    "openai.api_key = os.getenv(\"OPENAI_API_KEY\")  # 또는 직접 입력 가능"
   ]
  },
  {
   "cell_type": "code",
   "execution_count": 16,
   "metadata": {},
   "outputs": [],
   "source": [
    "# 자막 DataFrame 불러오기\n",
    "transcript_df = pd.read_csv(\"../data/transcript_data.csv\")\n",
    "transcript_df.dropna(subset=[\"transcript\"], inplace=True)"
   ]
  },
  {
   "cell_type": "code",
   "execution_count": null,
   "metadata": {},
   "outputs": [],
   "source": [
    "CATEGORY_CLASSIFY_PROMPT_KO = \"\"\"\n",
    "다음은 유튜브 영상의 자막입니다.\n",
    "내용을 분석한 뒤, 아래 카테고리 중 가장 적절한 하나를 선택해서 반환하세요.\n",
    "\n",
    "- 뉴스\n",
    "- 엔터테인먼트\n",
    "- 사건/사고\n",
    "- 사회이슈\n",
    "- 기타\n",
    "\n",
    "※ 설명은 하지 말고, 카테고리명만 정확하게 출력하세요.\n",
    "\n",
    "자막:\n",
    "{text}\n",
    "\"\"\""
   ]
  },
  {
   "cell_type": "code",
   "execution_count": 18,
   "metadata": {},
   "outputs": [],
   "source": [
    "def classify_category_ko(transcript):\n",
    "    try:\n",
    "        prompt = CATEGORY_CLASSIFY_PROMPT_KO.format(text=transcript[:1500])\n",
    "        res = openai.ChatCompletion.create(\n",
    "            model=\"gpt-3.5-turbo\",\n",
    "            messages=[{\"role\": \"user\", \"content\": prompt}],\n",
    "            temperature=0.2,\n",
    "            max_tokens=10\n",
    "        )\n",
    "        return res[\"choices\"][0][\"message\"][\"content\"].strip()\n",
    "    except Exception as e:\n",
    "        print(\"오류:\", e)\n",
    "        return \"기타\"\n"
   ]
  },
  {
   "cell_type": "code",
   "execution_count": 19,
   "metadata": {},
   "outputs": [],
   "source": [
    "STRUCTURED_SUMMARY_PROMPT_KO = \"\"\"\n",
    "다음은 유튜브 영상의 자막입니다.\n",
    "이 자막을 기반으로 다음과 같은 구조로 깔끔하게 요약해 주세요:\n",
    "\n",
    "1. 먼저, 영상 전체 내용을 한 문장으로 요약해 주세요 (인트로 요약).\n",
    "2. 이후에는 각 핵심 주제를 번호(1, 2, 3...)로 나누어 정리해 주세요.\n",
    "3. 각 항목은 [소제목] + 내용 설명 형식으로 작성해 주세요.\n",
    "4. 불필요한 대화나 반복은 생략하고, 개념, 사례, 시사점을 중심으로 요약해 주세요.\n",
    "5. 너무 길게 쓰지 말고, 한 항목당 2~4문장 정도로 압축해 주세요.\n",
    "\n",
    "자막:\n",
    "{transcript}\n",
    "\"\"\""
   ]
  },
  {
   "cell_type": "code",
   "execution_count": 20,
   "metadata": {},
   "outputs": [],
   "source": [
    "def summarize_structured_with_category_ko(transcript):\n",
    "    category = classify_category_ko(transcript)\n",
    "    prompt = STRUCTURED_SUMMARY_PROMPT_KO.format(transcript=transcript[:3000])\n",
    "\n",
    "    try:\n",
    "        res = openai.ChatCompletion.create(\n",
    "            model=\"gpt-3.5-turbo\",\n",
    "            messages=[{\"role\": \"user\", \"content\": prompt}],\n",
    "            temperature=0.5,\n",
    "            max_tokens=700\n",
    "        )\n",
    "        return category, res[\"choices\"][0][\"message\"][\"content\"].strip()\n",
    "    except Exception as e:\n",
    "        print(\"요약 실패:\", e)\n",
    "        return category, None"
   ]
  },
  {
   "cell_type": "code",
   "execution_count": 21,
   "metadata": {},
   "outputs": [],
   "source": [
    "summaries = []"
   ]
  },
  {
   "cell_type": "code",
   "execution_count": 22,
   "metadata": {},
   "outputs": [],
   "source": [
    "for idx, row in transcript_df.iterrows():\n",
    "    category, summary = summarize_structured_with_category_ko(row[\"transcript\"])\n",
    "    summaries.append({\n",
    "        \"video_id\": row[\"video_id\"],\n",
    "        \"title\": row[\"title\"],\n",
    "        \"url\": row[\"url\"],\n",
    "        \"channel\": row[\"channel\"],\n",
    "        \"published\": row[\"published\"],\n",
    "        \"category\": category,\n",
    "        \"summary\": summary\n",
    "    })"
   ]
  },
  {
   "cell_type": "code",
   "execution_count": 23,
   "metadata": {},
   "outputs": [
    {
     "data": {
      "text/html": [
       "<div>\n",
       "<style scoped>\n",
       "    .dataframe tbody tr th:only-of-type {\n",
       "        vertical-align: middle;\n",
       "    }\n",
       "\n",
       "    .dataframe tbody tr th {\n",
       "        vertical-align: top;\n",
       "    }\n",
       "\n",
       "    .dataframe thead th {\n",
       "        text-align: right;\n",
       "    }\n",
       "</style>\n",
       "<table border=\"1\" class=\"dataframe\">\n",
       "  <thead>\n",
       "    <tr style=\"text-align: right;\">\n",
       "      <th></th>\n",
       "      <th>video_id</th>\n",
       "      <th>title</th>\n",
       "      <th>url</th>\n",
       "      <th>channel</th>\n",
       "      <th>published</th>\n",
       "      <th>category</th>\n",
       "      <th>summary</th>\n",
       "    </tr>\n",
       "  </thead>\n",
       "  <tbody>\n",
       "    <tr>\n",
       "      <th>0</th>\n",
       "      <td>iwUYHUPwL30</td>\n",
       "      <td>ADsP 핵심요약 5시간 벼락치기 특강 | 미어캣 [편집본] | adsp 독학</td>\n",
       "      <td>https://www.youtube.com/watch?v=iwUYHUPwL30</td>\n",
       "      <td>비빅터</td>\n",
       "      <td>1 year ago</td>\n",
       "      <td>기타</td>\n",
       "      <td>인트로: 데이터의 특성은 존재적 특성과 단위적 특성으로 나뉘며, 존재적 특성은 팩트...</td>\n",
       "    </tr>\n",
       "    <tr>\n",
       "      <th>1</th>\n",
       "      <td>m6Vez0J2Xig</td>\n",
       "      <td>ADsP 핵심요약 5시간 벼락치기 특강 _live stream 녹화</td>\n",
       "      <td>https://www.youtube.com/watch?v=m6Vez0J2Xig</td>\n",
       "      <td>위키북스</td>\n",
       "      <td>Streamed 2 years ago</td>\n",
       "      <td>엔터테인먼트</td>\n",
       "      <td>인트로 요약: 오디오 문제로 죄송하다며 강의 시작, adsp 시험 대비 전략 소개\\...</td>\n",
       "    </tr>\n",
       "    <tr>\n",
       "      <th>2</th>\n",
       "      <td>8YN9vZp495E</td>\n",
       "      <td>[ADsP 1과목] 데이터의 이해 - 기다리던 총정리 시간</td>\n",
       "      <td>https://www.youtube.com/watch?v=8YN9vZp495E</td>\n",
       "      <td>EduAtoZ - Programming</td>\n",
       "      <td>3 years ago</td>\n",
       "      <td>기타</td>\n",
       "      <td>인트로: 데이터의 정의와 유형에 대해 쭉 정리하는 시간을 갖도록 하겠습니다.\\n\\n...</td>\n",
       "    </tr>\n",
       "    <tr>\n",
       "      <th>3</th>\n",
       "      <td>_ZrneQl69Lo</td>\n",
       "      <td>ADsP 핵심이론 5시간 완성 ｜ 시험 전 벼락치기 필수 영상🔥 ｜ 와우패스 김계철...</td>\n",
       "      <td>https://www.youtube.com/watch?v=_ZrneQl69Lo</td>\n",
       "      <td>와우패스</td>\n",
       "      <td>2 years ago</td>\n",
       "      <td>기타</td>\n",
       "      <td>인트로: 2023년 adsp 항공으로 끝내기 요약 플러스 문제집 파트에는 185개의...</td>\n",
       "    </tr>\n",
       "    <tr>\n",
       "      <th>4</th>\n",
       "      <td>MuJUhXoM-9E</td>\n",
       "      <td>[ADsP 3과목] 데이터 분석 - Part 3 - 기다리던 총정리 시간</td>\n",
       "      <td>https://www.youtube.com/watch?v=MuJUhXoM-9E</td>\n",
       "      <td>EduAtoZ - Programming</td>\n",
       "      <td>3 years ago</td>\n",
       "      <td>기타</td>\n",
       "      <td>인트로: 데이터 마이닝은 데이터를 기반으로 감춰진 정보를 발견하여 비즈니스 의사 결...</td>\n",
       "    </tr>\n",
       "  </tbody>\n",
       "</table>\n",
       "</div>"
      ],
      "text/plain": [
       "      video_id                                              title  \\\n",
       "0  iwUYHUPwL30        ADsP 핵심요약 5시간 벼락치기 특강 | 미어캣 [편집본] | adsp 독학   \n",
       "1  m6Vez0J2Xig              ADsP 핵심요약 5시간 벼락치기 특강 _live stream 녹화   \n",
       "2  8YN9vZp495E                   [ADsP 1과목] 데이터의 이해 - 기다리던 총정리 시간   \n",
       "3  _ZrneQl69Lo  ADsP 핵심이론 5시간 완성 ｜ 시험 전 벼락치기 필수 영상🔥 ｜ 와우패스 김계철...   \n",
       "4  MuJUhXoM-9E           [ADsP 3과목] 데이터 분석 - Part 3 - 기다리던 총정리 시간   \n",
       "\n",
       "                                           url                channel  \\\n",
       "0  https://www.youtube.com/watch?v=iwUYHUPwL30                    비빅터   \n",
       "1  https://www.youtube.com/watch?v=m6Vez0J2Xig                   위키북스   \n",
       "2  https://www.youtube.com/watch?v=8YN9vZp495E  EduAtoZ - Programming   \n",
       "3  https://www.youtube.com/watch?v=_ZrneQl69Lo                   와우패스   \n",
       "4  https://www.youtube.com/watch?v=MuJUhXoM-9E  EduAtoZ - Programming   \n",
       "\n",
       "              published category  \\\n",
       "0            1 year ago       기타   \n",
       "1  Streamed 2 years ago   엔터테인먼트   \n",
       "2           3 years ago       기타   \n",
       "3           2 years ago       기타   \n",
       "4           3 years ago       기타   \n",
       "\n",
       "                                             summary  \n",
       "0  인트로: 데이터의 특성은 존재적 특성과 단위적 특성으로 나뉘며, 존재적 특성은 팩트...  \n",
       "1  인트로 요약: 오디오 문제로 죄송하다며 강의 시작, adsp 시험 대비 전략 소개\\...  \n",
       "2  인트로: 데이터의 정의와 유형에 대해 쭉 정리하는 시간을 갖도록 하겠습니다.\\n\\n...  \n",
       "3  인트로: 2023년 adsp 항공으로 끝내기 요약 플러스 문제집 파트에는 185개의...  \n",
       "4  인트로: 데이터 마이닝은 데이터를 기반으로 감춰진 정보를 발견하여 비즈니스 의사 결...  "
      ]
     },
     "execution_count": 23,
     "metadata": {},
     "output_type": "execute_result"
    }
   ],
   "source": [
    "summary_df = pd.DataFrame(summaries)\n",
    "summary_df.to_csv(\"../data/summaries.csv\", index=False, encoding=\"utf-8-sig\")\n",
    "summary_df.head()"
   ]
  },
  {
   "cell_type": "code",
   "execution_count": 24,
   "metadata": {},
   "outputs": [
    {
     "name": "stdout",
     "output_type": "stream",
     "text": [
      "      video_id                                              title  \\\n",
      "0  iwUYHUPwL30        ADsP 핵심요약 5시간 벼락치기 특강 | 미어캣 [편집본] | adsp 독학   \n",
      "1  m6Vez0J2Xig              ADsP 핵심요약 5시간 벼락치기 특강 _live stream 녹화   \n",
      "2  8YN9vZp495E                   [ADsP 1과목] 데이터의 이해 - 기다리던 총정리 시간   \n",
      "3  _ZrneQl69Lo  ADsP 핵심이론 5시간 완성 ｜ 시험 전 벼락치기 필수 영상🔥 ｜ 와우패스 김계철...   \n",
      "4  MuJUhXoM-9E           [ADsP 3과목] 데이터 분석 - Part 3 - 기다리던 총정리 시간   \n",
      "\n",
      "                                           url                channel  \\\n",
      "0  https://www.youtube.com/watch?v=iwUYHUPwL30                    비빅터   \n",
      "1  https://www.youtube.com/watch?v=m6Vez0J2Xig                   위키북스   \n",
      "2  https://www.youtube.com/watch?v=8YN9vZp495E  EduAtoZ - Programming   \n",
      "3  https://www.youtube.com/watch?v=_ZrneQl69Lo                   와우패스   \n",
      "4  https://www.youtube.com/watch?v=MuJUhXoM-9E  EduAtoZ - Programming   \n",
      "\n",
      "              published category  \\\n",
      "0            1 year ago       기타   \n",
      "1  Streamed 2 years ago   엔터테인먼트   \n",
      "2           3 years ago       기타   \n",
      "3           2 years ago       기타   \n",
      "4           3 years ago       기타   \n",
      "\n",
      "                                             summary  \n",
      "0  인트로: 데이터의 특성은 존재적 특성과 단위적 특성으로 나뉘며, 존재적 특성은 팩트...  \n",
      "1  인트로 요약: 오디오 문제로 죄송하다며 강의 시작, adsp 시험 대비 전략 소개\\...  \n",
      "2  인트로: 데이터의 정의와 유형에 대해 쭉 정리하는 시간을 갖도록 하겠습니다.\\n\\n...  \n",
      "3  인트로: 2023년 adsp 항공으로 끝내기 요약 플러스 문제집 파트에는 185개의...  \n",
      "4  인트로: 데이터 마이닝은 데이터를 기반으로 감춰진 정보를 발견하여 비즈니스 의사 결...  \n"
     ]
    }
   ],
   "source": [
    "print(summary_df)"
   ]
  }
 ],
 "metadata": {
  "kernelspec": {
   "display_name": "base",
   "language": "python",
   "name": "python3"
  },
  "language_info": {
   "codemirror_mode": {
    "name": "ipython",
    "version": 3
   },
   "file_extension": ".py",
   "mimetype": "text/x-python",
   "name": "python",
   "nbconvert_exporter": "python",
   "pygments_lexer": "ipython3",
   "version": "3.12.3"
  }
 },
 "nbformat": 4,
 "nbformat_minor": 2
}
