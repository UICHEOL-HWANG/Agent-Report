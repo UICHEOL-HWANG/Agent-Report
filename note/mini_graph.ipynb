{
 "cells": [
  {
   "cell_type": "code",
   "execution_count": 3,
   "metadata": {},
   "outputs": [],
   "source": [
    "from typing import TypedDict, Optional, List, Dict \n",
    "\n",
    "class AgentState(TypedDict):\n",
    "    question: str\n",
    "    result : List[Dict]\n",
    "    selected_index: Optional[int]\n",
    "    deep_summary: Optional[str]\n",
    "    feedback: str\n",
    "    history: List[int]  # 이전에 본 것들 추적\n",
    "    \n",
    "    \n"
   ]
  },
  {
   "cell_type": "code",
   "execution_count": 4,
   "metadata": {},
   "outputs": [],
   "source": [
    "from langchain.tools import tool"
   ]
  },
  {
   "cell_type": "code",
   "execution_count": 1,
   "metadata": {},
   "outputs": [
    {
     "data": {
      "text/plain": [
       "True"
      ]
     },
     "execution_count": 1,
     "metadata": {},
     "output_type": "execute_result"
    }
   ],
   "source": [
    "import os \n",
    "from dotenv import load_dotenv\n",
    "\n",
    "load_dotenv()\n",
    "\n",
    "# os.environ[\"TAVILY_API_KEY\"]\n",
    "# os.environ[\"GOOGLE_API_KEY\"]\n",
    "# os.environ[\"OPENAI_API_KEY\"]"
   ]
  },
  {
   "cell_type": "code",
   "execution_count": 6,
   "metadata": {},
   "outputs": [],
   "source": [
    "from langchain_community.tools.tavily_search import TavilySearchResults\n",
    "\n",
    "tavily_tool = TavilySearchResults()"
   ]
  },
  {
   "cell_type": "code",
   "execution_count": 1,
   "metadata": {},
   "outputs": [],
   "source": [
    "from langchain_openai import ChatOpenAI\n",
    "from langgraph.prebuilt import create_react_agent\n",
    "from langchain.prompts import ChatPromptTemplate\n",
    "from langgraph.graph import StateGraph, END\n",
    "from typing_extensions import TypedDict\n",
    "from langchain_core.messages import BaseMessage\n",
    "from typing import List\n",
    "from langchain_community.tools.tavily_search import TavilySearchResults\n",
    "\n",
    "import operator\n",
    "from typing import Annotated, Sequence\n",
    "from typing_extensions import TypedDict\n",
    "from langchain_core.messages import BaseMessage\n",
    "\n",
    "from langchain_core.messages import HumanMessage\n",
    "from langchain_openai import ChatOpenAI\n",
    "from langgraph.prebuilt import create_react_agent\n",
    "from langgraph.graph import MessagesState\n",
    "\n",
    "# Tavily tool (실제 API 키 필요)\n",
    "tavily_tool = TavilySearchResults(k=5)\n",
    "\n",
    "class AgentState(TypedDict):\n",
    "    messages: Annotated[\n",
    "        Sequence[BaseMessage], operator.add\n",
    "    ]  \n",
    "    sender: Annotated[str, \"The sender of the last message\"] \n",
    "    user_feedback: str\n",
    "    \n",
    "# OpenAI 모델\n",
    "# researcher = ChatOpenAI(model=\"gpt-4o-2024-11-20\")\n",
    "\n",
    "from langchain_google_genai import ChatGoogleGenerativeAI\n",
    "\n",
    "llm = ChatGoogleGenerativeAI(\n",
    "    model=\"gemini-1.5-pro\",\n",
    "    temperature=0,\n",
    "    max_tokens=None,\n",
    "    timeout=None,\n",
    "    max_retries=2,\n",
    "    # other params...\n",
    ")\n",
    "\n",
    "def make_system_prompt(suffix: str) -> str:\n",
    "    return (\n",
    "        \"You are a helpful AI assistant, collaborating with other assistants.\"\n",
    "        \" Use the provided tools to progress towards answering the question.\"\n",
    "        \" If you are unable to fully answer, that's OK, another assistant with different tools \"\n",
    "        \" will help where you left off. Execute what you can to make progress.\"\n",
    "        \" If you or any of the other assistants have the final answer or deliverable,\"\n",
    "        \" prefix your response with FINAL ANSWER so the team knows to stop.\"\n",
    "        f\"\\n{suffix}\"\n",
    "    )\n",
    "    \n",
    "research_agent = create_react_agent(\n",
    "    llm,\n",
    "    tools=[tavily_tool],\n",
    "    state_modifier=make_system_prompt(\n",
    "        \"당신은 검색을 통해 내용을 정리해주는 전문적인 리서치 엔지니어 입니다. 들어오는 데이터를 기반으로 내용을 정리해야합니다.\"\n",
    "        \"내용은 제목, 서론, 본론 등으로 나누어 정리해주세요.\"\n",
    "    ),\n",
    ")\n",
    "\n",
    "\n",
    "def research_node(state: AgentState) -> AgentState:\n",
    "    result = research_agent.invoke(state)\n",
    "    last_message = HumanMessage(\n",
    "        content=result[\"messages\"][-1].content, name=\"researcher\"\n",
    "    )\n",
    "    return {\n",
    "        \"messages\": [last_message],\n",
    "        \"user_feedback\": \"\",  # 피드백은 다음 노드에서 받음\n",
    "    }\n"
   ]
  },
  {
   "cell_type": "code",
   "execution_count": 3,
   "metadata": {},
   "outputs": [],
   "source": [
    "def user_feedback_node(state: AgentState) -> AgentState:\n",
    "    # 실제 서비스에서는 여기에 사용자 입력을 받는 로직 추가\n",
    "    print(\"유저에게 보여줄 메시지:\", state[\"messages\"][-1].content)\n",
    "    \n",
    "    # 지금은 시뮬레이션 (ex: \"심화 정리\" or \"그대로 좋아요\")\n",
    "    feedback = input()  # 여기에 따라 분기 처리\n",
    "\n",
    "    return {\n",
    "        **state,\n",
    "        \"user_feedback\": feedback,\n",
    "        \"sender\": \"user\"\n",
    "    }\n"
   ]
  },
  {
   "cell_type": "code",
   "execution_count": null,
   "metadata": {},
   "outputs": [],
   "source": []
  },
  {
   "cell_type": "code",
   "execution_count": 24,
   "metadata": {},
   "outputs": [],
   "source": [
    "from langgraph.graph import StateGraph, START, END\n",
    "from langgraph.checkpoint.memory import MemorySaver\n",
    "\n",
    "# 워크플로우 정의\n",
    "workflow = StateGraph(AgentState)\n",
    "\n",
    "# 노드 등록\n",
    "workflow.add_node(\"researcher\", research_node)\n",
    "workflow.add_node(\"user_feedbacks\", user_feedback_node)\n",
    "\n",
    "# 흐름 연결\n",
    "workflow.add_edge(START, \"researcher\")\n",
    "workflow.add_edge(\"researcher\", \"user_feedbacks\")\n",
    "workflow.add_edge(\"user_feedbacks\", END)\n",
    "\n",
    "# 워크플로우 컴파일 (researcher 실행 후 중단 설정)\n",
    "app = workflow.compile(\n",
    "    checkpointer=MemorySaver(),\n",
    "    interrupt_after=[\"researcher\"]\n",
    ")"
   ]
  },
  {
   "cell_type": "code",
   "execution_count": 25,
   "metadata": {},
   "outputs": [
    {
     "data": {
      "image/png": "[encoded data removed]",
      "text/plain": [
       "<langgraph.graph.state.CompiledStateGraph object at 0x00000205C9479300>"
      ]
     },
     "execution_count": 25,
     "metadata": {},
     "output_type": "execute_result"
    }
   ],
   "source": [
    "app"
   ]
  },
  {
   "cell_type": "code",
   "execution_count": null,
   "metadata": {},
   "outputs": [],
   "source": []
  },
  {
   "cell_type": "code",
   "execution_count": 47,
   "metadata": {},
   "outputs": [],
   "source": [
    "from langchain_core.runnables import RunnableConfig\n",
    "from langchain_teddynote.messages import random_uuid, invoke_graph\n",
    "\n",
    "config = RunnableConfig(recursion_limit=10, configurable={\"thread_id\": random_uuid()})\n",
    "\n",
    "inputs = {\n",
    "    \"messages\": [\n",
    "        HumanMessage(\n",
    "            content=\"김수현 관련 내용 검색해서 정리해줘 \"\n",
    "        )\n",
    "    ],\n",
    "}"
   ]
  },
  {
   "cell_type": "code",
   "execution_count": 48,
   "metadata": {},
   "outputs": [],
   "source": [
    "# researcher 노드까지 실행한 뒤 중지 (interrupt_after로 설정된 researcher까지)\n",
    "ss = app.invoke(inputs, config={\"configurable\": {\"thread_id\": \"test_thread\"}})"
   ]
  },
  {
   "cell_type": "code",
   "execution_count": 49,
   "metadata": {},
   "outputs": [
    {
     "data": {
      "text/plain": [
       "{'messages': [HumanMessage(content='김수현 관련 내용 검색해서 정리해줘 ', additional_kwargs={}, response_metadata={}, id='43b47727-a47e-4371-93ae-5fc71e444ae7'),\n",
       "  HumanMessage(content=\"## 김수현 관련 내용 정리\\n\\n### 제목: 배우 김수현\\n\\n### 서론\\n\\n김수현은 대한민국의 유명 배우로, 드라마와 영화에서 다양한 역할을 소화하며 뛰어난 연기력으로 인정받고 있습니다. 높은 출연료를 받는 배우 중 한 명이며, 백상예술대상, 대종상 영화제, 청룡영화상 등 다수의 상을 수상한 경력이 있습니다. 또한, 포브스 파워 셀러브리티 40인 및 30세 이하 아시아 30인에 선정되었으며, 갤럽코리아 올해의 탤런트로 뽑히기도 했습니다.\\n\\n### 본론\\n\\n* **출생 및 성장**: 1988년 2월 16일 서울에서 태어났으며, 내성적인 성격을 극복하기 위해 어머니의 권유로 연극을 시작하게 되었습니다. 고등학교 시절부터 연기에 대한 열정을 보였으며, 꾸준히 연습하며 배우의 꿈을 키웠습니다. 아버지는 록밴드 세븐돌핀스의 보컬 김충훈입니다.\\n\\n* **데뷔 및 활동**: 2007년 MBC 시트콤 '김치 치즈 스마일'로 데뷔하여, 이후 드라마 '해를 품은 달', '별에서 온 그대', '프로듀사', '사이코지만 괜찮아', '어느 날' 등 다수의 작품에서 주연을 맡아 큰 인기를 얻었습니다. 영화 '도둑들', '은밀하게 위대하게', '리얼' 등에도 출연하며 스크린에서도 활약했습니다.\\n\\n* **수상 경력**: 백상예술대상 5회, 대종상 영화제 2회, 청룡영화상 1회 등 다수의 상을 수상하며 연기력을 인정받았습니다.\\n\\n* **특징**: 180cm의 큰 키와 준수한 외모를 지녔으며, 뛰어난 연기력과 다양한 캐릭터 소화력으로 많은 사랑을 받고 있습니다.\\n\\n\\n### 결론\\n\\n김수현은 대한민국을 대표하는 배우 중 한 명으로, 꾸준한 작품 활동과 뛰어난 연기력으로 앞으로도 더욱 발전된 모습을 보여줄 것으로 기대됩니다.\", additional_kwargs={}, response_metadata={}, name='researcher', id='fd7f6534-4a87-44c4-ac22-46aa64fb829c'),\n",
       "  HumanMessage(content='김수현 관련 내용 검색해서 정리해줘 ', additional_kwargs={}, response_metadata={}, id='43b47727-a47e-4371-93ae-5fc71e444ae7'),\n",
       "  HumanMessage(content=\"## 김수현 관련 내용 정리\\n\\n### 제목: 배우 김수현\\n\\n### 서론\\n\\n김수현은 대한민국의 유명 배우로, 드라마와 영화에서 다양한 역할을 소화하며 뛰어난 연기력으로 인정받고 있습니다. 높은 출연료를 받는 배우 중 한 명이며, 백상예술대상, 대종상 영화제, 청룡영화상 등 다수의 상을 수상한 경력이 있습니다. 또한, 포브스 파워 셀러브리티 40인 및 30세 이하 아시아 30인에 선정되었으며, 갤럽코리아 올해의 탤런트로 뽑히기도 했습니다.\\n\\n### 본론\\n\\n* **출생 및 성장**: 1988년 2월 16일 서울에서 태어났으며, 내성적인 성격을 극복하기 위해 어머니의 권유로 연극을 시작하게 되었습니다. 고등학교 시절부터 연기에 대한 열정을 보였으며, 꾸준히 연습하며 배우의 꿈을 키웠습니다. 아버지는 록밴드 세븐돌핀스의 보컬 김충훈입니다.\\n\\n* **데뷔 및 활동**: 2007년 MBC 시트콤 '김치 치즈 스마일'로 데뷔하여, 이후 드라마 '해를 품은 달', '별에서 온 그대', '프로듀사', '사이코지만 괜찮아', '어느 날' 등 다수의 작품에서 주연을 맡아 큰 인기를 얻었습니다. 영화 '도둑들', '은밀하게 위대하게', '리얼' 등에도 출연하며 스크린에서도 활약했습니다.\\n\\n* **수상 경력**: 백상예술대상 5회, 대종상 영화제 2회, 청룡영화상 1회 등 다수의 상을 수상하며 연기력을 인정받았습니다.\\n\\n* **특징**: 180cm의 큰 키와 준수한 외모를 지녔으며, 뛰어난 연기력과 다양한 캐릭터 소화력으로 많은 사랑을 받고 있습니다.\\n\\n\\n### 결론\\n\\n김수현은 대한민국을 대표하는 배우 중 한 명으로, 꾸준한 작품 활동과 뛰어난 연기력으로 앞으로도 더욱 발전된 모습을 보여줄 것으로 기대됩니다.\", additional_kwargs={}, response_metadata={}, name='researcher', id='46923d5f-0cf9-4ab9-8156-6766c73ef395'),\n",
       "  HumanMessage(content=\"FINAL ANSWER:\\n\\n## 김수현 관련 내용 정리\\n\\n### 제목: 배우 김수현\\n\\n### 서론\\n\\n김수현은 대한민국의 유명 배우로, 드라마와 영화에서 다양한 역할을 소화하며 뛰어난 연기력으로 인정받고 있습니다. 그는 높은 출연료를 받는 배우 중 한 명이며, 백상예술대상, 대종상 영화제, 청룡영화상 등 다수의 상을 수상한 경력이 있습니다. 또한, 포브스 파워 셀러브리티 40인 및 30세 이하 아시아 30인에 선정되었으며, 갤럽코리아 올해의 탤런트로 뽑히기도 했습니다.\\n\\n### 본론\\n\\n* **출생 및 성장**: 1988년 2월 16일 서울에서 태어났으며, 내성적인 성격을 극복하기 위해 어머니의 권유로 연극을 시작하게 되었습니다. 고등학교 시절부터 연기에 대한 열정을 보였으며, 꾸준히 연습하며 배우의 꿈을 키웠습니다. 아버지는 록밴드 세븐돌핀스의 보컬 김충훈입니다.\\n\\n* **데뷔 및 활동**: 2007년 MBC 시트콤 '김치 치즈 스마일'로 데뷔하여, 이후 드라마 '해를 품은 달', '별에서 온 그대', '프로듀사', '사이코지만 괜찮아', '어느 날' 등 다수의 작품에서 주연을 맡아 큰 인기를 얻었습니다. 영화 '도둑들', '은밀하게 위대하게', '리얼' 등에도 출연하며 스크린에서도 활약했습니다.\\n\\n* **수상 경력**: 백상예술대상 5회, 대종상 영화제 2회, 청룡영화상 1회 등 다수의 상을 수상하며 연기력을 인정받았습니다.\\n\\n* **특징**: 180cm의 큰 키와 준수한 외모를 지녔으며, 뛰어난 연기력과 다양한 캐릭터 소화력으로 많은 사랑을 받고 있습니다.  그는 왼손잡이이며, 중앙대학교 연극영화과를 중퇴했습니다.\\n\\n\\n### 결론\\n\\n김수현은 대한민국을 대표하는 배우 중 한 명으로, 꾸준한 작품 활동과 뛰어난 연기력으로 앞으로도 더욱 발전된 모습을 보여줄 것으로 기대됩니다.\", additional_kwargs={}, response_metadata={}, name='researcher', id='38804796-b534-468e-80ea-80a0fdda4b91'),\n",
       "  HumanMessage(content='김수현 관련 내용 검색해서 정리해줘 ', additional_kwargs={}, response_metadata={}, id='8cef35c1-913a-492a-972c-556efc94ef9f'),\n",
       "  HumanMessage(content=\"FINAL ANSWER:\\n\\n## 김수현 관련 내용 정리\\n\\n### 제목: 배우 김수현\\n\\n### 서론\\n\\n김수현은 대한민국의 유명 배우로, 드라마와 영화에서 다양한 역할을 소화하며 뛰어난 연기력으로 인정받고 있습니다. 높은 출연료를 받는 배우 중 한 명이며, 백상예술대상, 대종상 영화제, 청룡영화상 등 다수의 상을 수상한 경력이 있습니다. 또한, 포브스 파워 셀러브리티 40인 및 30세 이하 아시아 30인에 선정되었으며, 갤럽코리아 올해의 탤런트로 뽑히기도 했습니다.\\n\\n### 본론\\n\\n* **출생 및 성장**: 1988년 2월 16일 서울에서 태어났으며, 내성적인 성격을 극복하기 위해 어머니의 권유로 연극을 시작하게 되었습니다. 고등학교 시절부터 연기에 대한 열정을 보였으며, 꾸준히 연습하며 배우의 꿈을 키웠습니다. 아버지는 록밴드 세븐돌핀스의 보컬 김충훈입니다.\\n\\n* **데뷔 및 활동**: 2007년 MBC 시트콤 '김치 치즈 스마일'로 데뷔하여, 이후 드라마 '해를 품은 달', '별에서 온 그대', '프로듀사', '사이코지만 괜찮아', '어느 날' 등 다수의 작품에서 주연을 맡아 큰 인기를 얻었습니다. 영화 '도둑들', '은밀하게 위대하게', '리얼' 등에도 출연하며 스크린에서도 활약했습니다.\\n\\n* **수상 경력**: 백상예술대상 5회, 대종상 영화제 2회, 청룡영화상 1회 등 다수의 상을 수상하며 연기력을 인정받았습니다.\\n\\n* **특징**: 180cm의 큰 키와 준수한 외모를 지녔으며, 뛰어난 연기력과 다양한 캐릭터 소화력으로 많은 사랑을 받고 있습니다.  그는 왼손잡이이며, 중앙대학교 연극영화과를 중퇴했습니다.\\n\\n\\n### 결론\\n\\n김수현은 대한민국을 대표하는 배우 중 한 명으로, 꾸준한 작품 활동과 뛰어난 연기력으로 앞으로도 더욱 발전된 모습을 보여줄 것으로 기대됩니다.\", additional_kwargs={}, response_metadata={}, name='researcher')],\n",
       " 'user_feedback': ''}"
      ]
     },
     "execution_count": 49,
     "metadata": {},
     "output_type": "execute_result"
    }
   ],
   "source": [
    "ss"
   ]
  },
  {
   "cell_type": "code",
   "execution_count": 35,
   "metadata": {},
   "outputs": [],
   "source": [
    "ss[\"user_feedback\"] = \"김수현 사건 관련한 내용 검색해줘\""
   ]
  },
  {
   "cell_type": "code",
   "execution_count": 37,
   "metadata": {},
   "outputs": [],
   "source": [
    "ss_final = app.invoke(ss, config={\"configurable\": {\"thread_id\": \"test_thread\"}})"
   ]
  },
  {
   "cell_type": "code",
   "execution_count": 46,
   "metadata": {},
   "outputs": [
    {
     "data": {
      "text/plain": [
       "\"FINAL ANSWER:\\n\\n## 김수현 관련 내용 정리\\n\\n### 제목: 배우 김수현\\n\\n### 서론\\n\\n김수현은 대한민국의 유명 배우로, 드라마와 영화에서 다양한 역할을 소화하며 뛰어난 연기력으로 인정받고 있습니다. 그는 높은 출연료를 받는 배우 중 한 명이며, 백상예술대상, 대종상 영화제, 청룡영화상 등 다수의 상을 수상한 경력이 있습니다. 또한, 포브스 파워 셀러브리티 40인 및 30세 이하 아시아 30인에 선정되었으며, 갤럽코리아 올해의 탤런트로 뽑히기도 했습니다.\\n\\n### 본론\\n\\n* **출생 및 성장**: 1988년 2월 16일 서울에서 태어났으며, 내성적인 성격을 극복하기 위해 어머니의 권유로 연극을 시작하게 되었습니다. 고등학교 시절부터 연기에 대한 열정을 보였으며, 꾸준히 연습하며 배우의 꿈을 키웠습니다. 아버지는 록밴드 세븐돌핀스의 보컬 김충훈입니다.\\n\\n* **데뷔 및 활동**: 2007년 MBC 시트콤 '김치 치즈 스마일'로 데뷔하여, 이후 드라마 '해를 품은 달', '별에서 온 그대', '프로듀사', '사이코지만 괜찮아', '어느 날' 등 다수의 작품에서 주연을 맡아 큰 인기를 얻었습니다. 영화 '도둑들', '은밀하게 위대하게', '리얼' 등에도 출연하며 스크린에서도 활약했습니다.\\n\\n* **수상 경력**: 백상예술대상 5회, 대종상 영화제 2회, 청룡영화상 1회 등 다수의 상을 수상하며 연기력을 인정받았습니다.\\n\\n* **특징**: 180cm의 큰 키와 준수한 외모를 지녔으며, 뛰어난 연기력과 다양한 캐릭터 소화력으로 많은 사랑을 받고 있습니다.  그는 왼손잡이이며, 중앙대학교 연극영화과를 중퇴했습니다.\\n\\n\\n### 결론\\n\\n김수현은 대한민국을 대표하는 배우 중 한 명으로, 꾸준한 작품 활동과 뛰어난 연기력으로 앞으로도 더욱 발전된 모습을 보여줄 것으로 기대됩니다.\""
      ]
     },
     "execution_count": 46,
     "metadata": {},
     "output_type": "execute_result"
    }
   ],
   "source": [
    "ss_final[\"messages\"][4].content"
   ]
  }
 ],
 "metadata": {
  "kernelspec": {
   "display_name": "venv",
   "language": "python",
   "name": "python3"
  },
  "language_info": {
   "codemirror_mode": {
    "name": "ipython",
    "version": 3
   },
   "file_extension": ".py",
   "mimetype": "text/x-python",
   "name": "python",
   "nbconvert_exporter": "python",
   "pygments_lexer": "ipython3",
   "version": "3.10.0"
  }
 },
 "nbformat": 4,
 "nbformat_minor": 2
}
