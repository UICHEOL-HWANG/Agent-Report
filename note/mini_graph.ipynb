{
 "cells": [
  {
   "cell_type": "code",
   "execution_count": 3,
   "metadata": {},
   "outputs": [],
   "source": [
    "from typing import TypedDict, Optional, List, Dict \n",
    "\n",
    "class AgentState(TypedDict):\n",
    "    question: str\n",
    "    result : List[Dict]\n",
    "    selected_index: Optional[int]\n",
    "    deep_summary: Optional[str]\n",
    "    feedback: str\n",
    "    history: List[int]  # 이전에 본 것들 추적\n",
    "    \n",
    "    \n"
   ]
  },
  {
   "cell_type": "code",
   "execution_count": 4,
   "metadata": {},
   "outputs": [],
   "source": [
    "from langchain.tools import tool"
   ]
  },
  {
   "cell_type": "code",
   "execution_count": null,
   "metadata": {},
   "outputs": [
    {
     "data": {
      "text/plain": [
       "True"
      ]
     },
     "execution_count": 156,
     "metadata": {},
     "output_type": "execute_result"
    }
   ],
   "source": [
    "import os \n",
    "from dotenv import load_dotenv\n",
    "\n",
    "load_dotenv()\n",
    "\n",
    "os.environ[\"TAVILY_API_KEY\"]\n",
    "os.environ[\"GOOGLE_API_KEY\"]\n",
    "os.environ[\"OPENAI_API_KEY\"]"
   ]
  },
  {
   "cell_type": "code",
   "execution_count": 6,
   "metadata": {},
   "outputs": [],
   "source": [
    "from langchain_community.tools.tavily_search import TavilySearchResults\n",
    "\n",
    "tavily_tool = TavilySearchResults()"
   ]
  },
  {
   "cell_type": "code",
   "execution_count": 150,
   "metadata": {},
   "outputs": [],
   "source": [
    "from langchain_openai import ChatOpenAI\n",
    "from langgraph.prebuilt import create_react_agent\n",
    "from langchain.prompts import ChatPromptTemplate\n",
    "from langgraph.graph import StateGraph, END\n",
    "from typing_extensions import TypedDict\n",
    "from langchain_core.messages import BaseMessage\n",
    "from typing import List\n",
    "from langchain_community.tools.tavily_search import TavilySearchResults\n",
    "\n",
    "import operator\n",
    "from typing import Annotated, Sequence\n",
    "from typing_extensions import TypedDict\n",
    "from langchain_core.messages import BaseMessage\n",
    "\n",
    "from langchain_core.messages import HumanMessage\n",
    "from langchain_openai import ChatOpenAI\n",
    "from langgraph.prebuilt import create_react_agent\n",
    "from langgraph.graph import MessagesState\n",
    "\n",
    "# Tavily tool (실제 API 키 필요)\n",
    "tavily_tool = TavilySearchResults(k=5)\n",
    "\n",
    "class AgentState(TypedDict):\n",
    "    messages: Annotated[\n",
    "        Sequence[BaseMessage], operator.add\n",
    "    ]  \n",
    "    sender: Annotated[str, \"The sender of the last message\"] \n",
    "    user_feedback: str\n",
    "    \n",
    "# OpenAI 모델\n",
    "# researcher = ChatOpenAI(model=\"gpt-4o-2024-11-20\")\n",
    "\n",
    "from langchain_google_genai import ChatGoogleGenerativeAI\n",
    "\n",
    "llm = ChatGoogleGenerativeAI(\n",
    "    model=\"gemini-1.5-pro\",\n",
    "    temperature=0,\n",
    "    max_tokens=None,\n",
    "    timeout=None,\n",
    "    max_retries=2,\n",
    "    # other params...\n",
    ")\n",
    "\n",
    "def make_system_prompt(suffix: str) -> str:\n",
    "    return (\n",
    "        \"You are a helpful AI assistant, collaborating with other assistants.\"\n",
    "        \" Use the provided tools to progress towards answering the question.\"\n",
    "        \" If you are unable to fully answer, that's OK, another assistant with different tools \"\n",
    "        \" will help where you left off. Execute what you can to make progress.\"\n",
    "        \" If you or any of the other assistants have the final answer or deliverable,\"\n",
    "        \" prefix your response with FINAL ANSWER so the team knows to stop.\"\n",
    "        f\"\\n{suffix}\"\n",
    "    )\n",
    "    \n",
    "research_agent = create_react_agent(\n",
    "    llm,\n",
    "    tools=[tavily_tool],\n",
    "    state_modifier=make_system_prompt(\n",
    "        \"당신은 검색을 통해 내용을 정리해주는 전문적인 리서치 엔지니어 입니다. 들어오는 데이터를 기반으로 내용을 정리해야합니다.\"\n",
    "        \"내용은 제목, 서론, 본론 등으로 나누어 정리해주세요.\"\n",
    "    ),\n",
    ")\n",
    "\n",
    "\n",
    "def research_node(state: AgentState) -> AgentState:\n",
    "    result = research_agent.invoke(state)\n",
    "    last_message = HumanMessage(\n",
    "        content=result[\"messages\"][-1].content, name=\"researcher\"\n",
    "    )\n",
    "    return {\n",
    "        \"messages\": [last_message],\n",
    "        \"user_feedback\": \"\",  # 피드백은 다음 노드에서 받음\n",
    "    }\n"
   ]
  },
  {
   "cell_type": "code",
   "execution_count": 151,
   "metadata": {},
   "outputs": [],
   "source": [
    "def user_feedback_node(state: AgentState) -> AgentState:\n",
    "    # 실제 서비스에서는 여기에 사용자 입력을 받는 로직 추가\n",
    "    print(\"유저에게 보여줄 메시지:\", state[\"messages\"][-1].content)\n",
    "    \n",
    "    # 지금은 시뮬레이션 (ex: \"심화 정리\" or \"그대로 좋아요\")\n",
    "    feedback = input()  # 여기에 따라 분기 처리\n",
    "\n",
    "    return {\n",
    "        **state,\n",
    "        \"user_feedback\": feedback,\n",
    "        \"sender\": \"user\"\n",
    "    }\n"
   ]
  },
  {
   "cell_type": "code",
   "execution_count": null,
   "metadata": {},
   "outputs": [],
   "source": []
  },
  {
   "cell_type": "code",
   "execution_count": 152,
   "metadata": {},
   "outputs": [],
   "source": [
    "from langgraph.graph import StateGraph, START, END\n",
    "from langgraph.checkpoint.memory import MemorySaver\n",
    "\n",
    "workflow = StateGraph(AgentState)\n",
    "workflow.add_node(\"researcher\", research_node)\n",
    "workflow.add_edge(START, \"researcher\")\n",
    "workflow.add_edge(\"researcher\", END)\n",
    "\n",
    "app = workflow.compile(checkpointer=MemorySaver(), interrupt_after=[\"researcher\"])"
   ]
  },
  {
   "cell_type": "code",
   "execution_count": 153,
   "metadata": {},
   "outputs": [
    {
     "data": {
      "image/png": "[encoded data removed]",
      "text/plain": [
       "<langgraph.graph.state.CompiledStateGraph object at 0x00000215B798A3E0>"
      ]
     },
     "execution_count": 153,
     "metadata": {},
     "output_type": "execute_result"
    }
   ],
   "source": [
    "app"
   ]
  },
  {
   "cell_type": "code",
   "execution_count": null,
   "metadata": {},
   "outputs": [],
   "source": []
  },
  {
   "cell_type": "code",
   "execution_count": 154,
   "metadata": {},
   "outputs": [],
   "source": [
    "from langchain_core.runnables import RunnableConfig\n",
    "from langchain_teddynote.messages import random_uuid, invoke_graph\n",
    "\n",
    "config = RunnableConfig(recursion_limit=10, configurable={\"thread_id\": random_uuid()})\n",
    "\n",
    "inputs = {\n",
    "    \"messages\": [\n",
    "        HumanMessage(\n",
    "            content=\"2010년 ~ 2024년까지의 대한민국의 1인당 GDP 추이를 그래프로 시각화 해주세요.\"\n",
    "        )\n",
    "    ],\n",
    "}"
   ]
  },
  {
   "cell_type": "code",
   "execution_count": 155,
   "metadata": {},
   "outputs": [
    {
     "name": "stdout",
     "output_type": "stream",
     "text": [
      "\n",
      "==================================================\n",
      "🔄 Node: \u001b[1;36mresearcher\u001b[0m 🔄\n",
      "- - - - - - - - - - - - - - - - - - - - - - - - - \n",
      "================================\u001b[1m Human Message \u001b[0m=================================\n",
      "Name: researcher\n",
      "\n",
      "2010년부터 2024년까지 대한민국 1인당 GDP 추이를 그래프로 시각화하는 데 필요한 구체적인 데이터를 찾지 못했습니다. 검색 결과에서 1인당 GDP와 관련된 정보를 제공하는 웹사이트들을 찾았지만, 해당 기간의 데이터를 표 형태로 제공하는 사이트는 없었습니다. \n",
      "\n",
      "하지만, Trading Economics 사이트에서 2023년까지의 1인당 GDP 데이터와 2024년, 2025년 예상치를 확인할 수 있었습니다. 또한, 한국은행, CEIC, KOSIS 등에서 1인당 GDP와 관련된 추가 정보를 얻을 수 있을 것으로 예상됩니다.\n",
      "\n",
      "다음 단계로, 그래프 시각화를 위해 2010년부터 2023년까지의 1인당 GDP 데이터를 표 형태로 정리하고, 2024년 예상치를 추가하여 그래프를 생성해야 합니다.  데이터를 찾으면 matplotlib 또는 seaborn과 같은 라이브러리를 사용하여 그래프를 만들 수 있습니다.\n",
      "\u001b[1;32muser_feedback\u001b[0m:\n",
      "\n",
      "==================================================\n"
     ]
    }
   ],
   "source": [
    "invoke_graph(app, inputs, config, node_names=[\"researcher\"]) "
   ]
  }
 ],
 "metadata": {
  "kernelspec": {
   "display_name": "venv",
   "language": "python",
   "name": "python3"
  },
  "language_info": {
   "codemirror_mode": {
    "name": "ipython",
    "version": 3
   },
   "file_extension": ".py",
   "mimetype": "text/x-python",
   "name": "python",
   "nbconvert_exporter": "python",
   "pygments_lexer": "ipython3",
   "version": "3.10.0"
  }
 },
 "nbformat": 4,
 "nbformat_minor": 2
}
