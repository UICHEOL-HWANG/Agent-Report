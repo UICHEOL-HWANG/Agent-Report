{
 "cells": [
  {
   "cell_type": "code",
   "execution_count": 1,
   "metadata": {},
   "outputs": [
    {
     "name": "stdout",
     "output_type": "stream",
     "text": [
      "Collecting langchain\n",
      "  Using cached langchain-0.3.20-py3-none-any.whl (1.0 MB)\n",
      "Collecting openai\n",
      "  Using cached openai-1.66.3-py3-none-any.whl (567 kB)\n",
      "Collecting langchain-community\n",
      "  Using cached langchain_community-0.3.19-py3-none-any.whl (2.5 MB)\n",
      "Collecting PyYAML>=5.3\n",
      "  Using cached PyYAML-6.0.2-cp310-cp310-win_amd64.whl (161 kB)\n",
      "Collecting langchain-text-splitters<1.0.0,>=0.3.6\n",
      "  Using cached langchain_text_splitters-0.3.6-py3-none-any.whl (31 kB)\n",
      "Collecting langsmith<0.4,>=0.1.17\n",
      "  Using cached langsmith-0.3.15-py3-none-any.whl (343 kB)\n",
      "Collecting langchain-core<1.0.0,>=0.3.41\n",
      "  Using cached langchain_core-0.3.45-py3-none-any.whl (415 kB)\n",
      "Requirement already satisfied: requests<3,>=2 in c:\\users\\user\\desktop\\agent\\venv\\lib\\site-packages (from langchain) (2.32.3)\n",
      "Collecting SQLAlchemy<3,>=1.4\n",
      "  Using cached sqlalchemy-2.0.39-cp310-cp310-win_amd64.whl (2.1 MB)\n",
      "Requirement already satisfied: pydantic<3.0.0,>=2.7.4 in c:\\users\\user\\desktop\\agent\\venv\\lib\\site-packages (from langchain) (2.10.6)\n",
      "Collecting async-timeout<5.0.0,>=4.0.0\n",
      "  Using cached async_timeout-4.0.3-py3-none-any.whl (5.7 kB)\n",
      "Collecting distro<2,>=1.7.0\n",
      "  Using cached distro-1.9.0-py3-none-any.whl (20 kB)\n",
      "Collecting jiter<1,>=0.4.0\n",
      "  Using cached jiter-0.9.0-cp310-cp310-win_amd64.whl (208 kB)\n",
      "Collecting tqdm>4\n",
      "  Using cached tqdm-4.67.1-py3-none-any.whl (78 kB)\n",
      "Requirement already satisfied: anyio<5,>=3.5.0 in c:\\users\\user\\desktop\\agent\\venv\\lib\\site-packages (from openai) (4.9.0)\n",
      "Requirement already satisfied: typing-extensions<5,>=4.11 in c:\\users\\user\\desktop\\agent\\venv\\lib\\site-packages (from openai) (4.12.2)\n",
      "Requirement already satisfied: sniffio in c:\\users\\user\\desktop\\agent\\venv\\lib\\site-packages (from openai) (1.3.1)\n",
      "Collecting httpx<1,>=0.23.0\n",
      "  Using cached httpx-0.28.1-py3-none-any.whl (73 kB)\n",
      "Collecting tenacity!=8.4.0,<10,>=8.1.0\n",
      "  Using cached tenacity-9.0.0-py3-none-any.whl (28 kB)\n",
      "Collecting pydantic-settings<3.0.0,>=2.4.0\n",
      "  Using cached pydantic_settings-2.8.1-py3-none-any.whl (30 kB)\n",
      "Collecting httpx-sse<1.0.0,>=0.4.0\n",
      "  Using cached httpx_sse-0.4.0-py3-none-any.whl (7.8 kB)\n",
      "Collecting dataclasses-json<0.7,>=0.5.7\n",
      "  Using cached dataclasses_json-0.6.7-py3-none-any.whl (28 kB)\n",
      "Collecting aiohttp<4.0.0,>=3.8.3\n",
      "  Using cached aiohttp-3.11.14-cp310-cp310-win_amd64.whl (442 kB)\n",
      "Collecting numpy<3,>=1.26.2\n",
      "  Using cached numpy-2.2.4-cp310-cp310-win_amd64.whl (12.9 MB)\n",
      "Collecting multidict<7.0,>=4.5\n",
      "  Using cached multidict-6.1.0-cp310-cp310-win_amd64.whl (28 kB)\n",
      "Collecting attrs>=17.3.0\n",
      "  Using cached attrs-25.3.0-py3-none-any.whl (63 kB)\n",
      "Collecting frozenlist>=1.1.1\n",
      "  Using cached frozenlist-1.5.0-cp310-cp310-win_amd64.whl (51 kB)\n",
      "Collecting aiohappyeyeballs>=2.3.0\n",
      "  Using cached aiohappyeyeballs-2.6.1-py3-none-any.whl (15 kB)\n",
      "Collecting propcache>=0.2.0\n",
      "  Using cached propcache-0.3.0-cp310-cp310-win_amd64.whl (44 kB)\n",
      "Collecting aiosignal>=1.1.2\n",
      "  Using cached aiosignal-1.3.2-py2.py3-none-any.whl (7.6 kB)\n",
      "Collecting yarl<2.0,>=1.17.0\n",
      "  Using cached yarl-1.18.3-cp310-cp310-win_amd64.whl (90 kB)\n",
      "Requirement already satisfied: exceptiongroup>=1.0.2 in c:\\users\\user\\desktop\\agent\\venv\\lib\\site-packages (from anyio<5,>=3.5.0->openai) (1.2.2)\n",
      "Requirement already satisfied: idna>=2.8 in c:\\users\\user\\desktop\\agent\\venv\\lib\\site-packages (from anyio<5,>=3.5.0->openai) (3.10)\n",
      "Collecting typing-inspect<1,>=0.4.0\n",
      "  Using cached typing_inspect-0.9.0-py3-none-any.whl (8.8 kB)\n",
      "Collecting marshmallow<4.0.0,>=3.18.0\n",
      "  Using cached marshmallow-3.26.1-py3-none-any.whl (50 kB)\n",
      "Requirement already satisfied: certifi in c:\\users\\user\\desktop\\agent\\venv\\lib\\site-packages (from httpx<1,>=0.23.0->openai) (2025.1.31)\n",
      "Requirement already satisfied: httpcore==1.* in c:\\users\\user\\desktop\\agent\\venv\\lib\\site-packages (from httpx<1,>=0.23.0->openai) (1.0.7)\n",
      "Requirement already satisfied: h11<0.15,>=0.13 in c:\\users\\user\\desktop\\agent\\venv\\lib\\site-packages (from httpcore==1.*->httpx<1,>=0.23.0->openai) (0.14.0)\n",
      "Collecting jsonpatch<2.0,>=1.33\n",
      "  Using cached jsonpatch-1.33-py2.py3-none-any.whl (12 kB)\n",
      "Requirement already satisfied: packaging<25,>=23.2 in c:\\users\\user\\desktop\\agent\\venv\\lib\\site-packages (from langchain-core<1.0.0,>=0.3.41->langchain) (24.2)\n",
      "Collecting jsonpointer>=1.9\n",
      "  Using cached jsonpointer-3.0.0-py2.py3-none-any.whl (7.6 kB)\n",
      "Collecting orjson<4.0.0,>=3.9.14\n",
      "  Using cached orjson-3.10.15-cp310-cp310-win_amd64.whl (133 kB)\n",
      "Requirement already satisfied: requests-toolbelt<2.0.0,>=1.0.0 in c:\\users\\user\\desktop\\agent\\venv\\lib\\site-packages (from langsmith<0.4,>=0.1.17->langchain) (1.0.0)\n",
      "Requirement already satisfied: zstandard<0.24.0,>=0.23.0 in c:\\users\\user\\desktop\\agent\\venv\\lib\\site-packages (from langsmith<0.4,>=0.1.17->langchain) (0.23.0)\n",
      "Requirement already satisfied: annotated-types>=0.6.0 in c:\\users\\user\\desktop\\agent\\venv\\lib\\site-packages (from pydantic<3.0.0,>=2.7.4->langchain) (0.7.0)\n",
      "Requirement already satisfied: pydantic-core==2.27.2 in c:\\users\\user\\desktop\\agent\\venv\\lib\\site-packages (from pydantic<3.0.0,>=2.7.4->langchain) (2.27.2)\n",
      "Collecting python-dotenv>=0.21.0\n",
      "  Using cached python_dotenv-1.0.1-py3-none-any.whl (19 kB)\n",
      "Requirement already satisfied: urllib3<3,>=1.21.1 in c:\\users\\user\\desktop\\agent\\venv\\lib\\site-packages (from requests<3,>=2->langchain) (2.3.0)\n",
      "Requirement already satisfied: charset-normalizer<4,>=2 in c:\\users\\user\\desktop\\agent\\venv\\lib\\site-packages (from requests<3,>=2->langchain) (3.4.1)\n",
      "Collecting greenlet!=0.4.17\n",
      "  Using cached greenlet-3.1.1-cp310-cp310-win_amd64.whl (298 kB)\n",
      "Requirement already satisfied: colorama in c:\\users\\user\\desktop\\agent\\venv\\lib\\site-packages (from tqdm>4->openai) (0.4.6)\n",
      "Collecting mypy-extensions>=0.3.0\n",
      "  Using cached mypy_extensions-1.0.0-py3-none-any.whl (4.7 kB)\n",
      "Installing collected packages: orjson, jsonpointer, httpx, tenacity, PyYAML, langsmith, jsonpatch, propcache, mypy-extensions, multidict, langchain-core, greenlet, frozenlist, yarl, typing-inspect, SQLAlchemy, python-dotenv, marshmallow, langchain-text-splitters, attrs, async-timeout, aiosignal, aiohappyeyeballs, tqdm, pydantic-settings, numpy, langchain, jiter, httpx-sse, distro, dataclasses-json, aiohttp, openai, langchain-community\n"
     ]
    },
    {
     "name": "stderr",
     "output_type": "stream",
     "text": [
      "ERROR: Could not install packages due to an OSError: [WinError 32] 다른 프로세스가 파일을 사용 중이기 때문에 프로세스가 액세스 할 수 없습니다: 'C:\\\\Users\\\\user\\\\Desktop\\\\agent\\\\venv\\\\Lib\\\\site-packages\\\\numpy\\\\random\\\\tests\\\\test_generator_mt19937_regressions.py'\n",
      "Check the permissions.\n",
      "\n",
      "WARNING: You are using pip version 21.2.3; however, version 25.0.1 is available.\n",
      "You should consider upgrading via the 'C:\\Users\\user\\Desktop\\agent\\venv\\Scripts\\python.exe -m pip install --upgrade pip' command.\n"
     ]
    }
   ],
   "source": [
    "! pip install langchain openai langchain-community"
   ]
  },
  {
   "cell_type": "code",
   "execution_count": 2,
   "metadata": {},
   "outputs": [
    {
     "name": "stdout",
     "output_type": "stream",
     "text": [
      "Requirement already satisfied: pip in c:\\users\\user\\desktop\\agent\\venv\\lib\\site-packages (25.0.1)\n"
     ]
    }
   ],
   "source": [
    "! python.exe -m pip install --upgrade pip"
   ]
  },
  {
   "cell_type": "code",
   "execution_count": 3,
   "metadata": {},
   "outputs": [
    {
     "name": "stdout",
     "output_type": "stream",
     "text": [
      "Requirement already satisfied: langchain_core in c:\\users\\user\\desktop\\agent\\venv\\lib\\site-packages (0.3.45)\n",
      "Requirement already satisfied: typing_extensions in c:\\users\\user\\desktop\\agent\\venv\\lib\\site-packages (4.12.2)\n",
      "Requirement already satisfied: langsmith<0.4,>=0.1.125 in c:\\users\\user\\desktop\\agent\\venv\\lib\\site-packages (from langchain_core) (0.3.15)\n",
      "Requirement already satisfied: tenacity!=8.4.0,<10.0.0,>=8.1.0 in c:\\users\\user\\desktop\\agent\\venv\\lib\\site-packages (from langchain_core) (9.0.0)\n",
      "Requirement already satisfied: jsonpatch<2.0,>=1.33 in c:\\users\\user\\desktop\\agent\\venv\\lib\\site-packages (from langchain_core) (1.33)\n",
      "Requirement already satisfied: PyYAML>=5.3 in c:\\users\\user\\desktop\\agent\\venv\\lib\\site-packages (from langchain_core) (6.0.2)\n",
      "Requirement already satisfied: packaging<25,>=23.2 in c:\\users\\user\\desktop\\agent\\venv\\lib\\site-packages (from langchain_core) (24.2)\n",
      "Requirement already satisfied: pydantic<3.0.0,>=2.5.2 in c:\\users\\user\\desktop\\agent\\venv\\lib\\site-packages (from langchain_core) (2.10.6)\n",
      "Requirement already satisfied: jsonpointer>=1.9 in c:\\users\\user\\desktop\\agent\\venv\\lib\\site-packages (from jsonpatch<2.0,>=1.33->langchain_core) (3.0.0)\n",
      "Requirement already satisfied: httpx<1,>=0.23.0 in c:\\users\\user\\desktop\\agent\\venv\\lib\\site-packages (from langsmith<0.4,>=0.1.125->langchain_core) (0.28.1)\n",
      "Requirement already satisfied: orjson<4.0.0,>=3.9.14 in c:\\users\\user\\desktop\\agent\\venv\\lib\\site-packages (from langsmith<0.4,>=0.1.125->langchain_core) (3.10.15)\n",
      "Requirement already satisfied: requests<3,>=2 in c:\\users\\user\\desktop\\agent\\venv\\lib\\site-packages (from langsmith<0.4,>=0.1.125->langchain_core) (2.32.3)\n",
      "Requirement already satisfied: requests-toolbelt<2.0.0,>=1.0.0 in c:\\users\\user\\desktop\\agent\\venv\\lib\\site-packages (from langsmith<0.4,>=0.1.125->langchain_core) (1.0.0)\n",
      "Requirement already satisfied: zstandard<0.24.0,>=0.23.0 in c:\\users\\user\\desktop\\agent\\venv\\lib\\site-packages (from langsmith<0.4,>=0.1.125->langchain_core) (0.23.0)\n",
      "Requirement already satisfied: annotated-types>=0.6.0 in c:\\users\\user\\desktop\\agent\\venv\\lib\\site-packages (from pydantic<3.0.0,>=2.5.2->langchain_core) (0.7.0)\n",
      "Requirement already satisfied: pydantic-core==2.27.2 in c:\\users\\user\\desktop\\agent\\venv\\lib\\site-packages (from pydantic<3.0.0,>=2.5.2->langchain_core) (2.27.2)\n",
      "Requirement already satisfied: anyio in c:\\users\\user\\desktop\\agent\\venv\\lib\\site-packages (from httpx<1,>=0.23.0->langsmith<0.4,>=0.1.125->langchain_core) (4.9.0)\n",
      "Requirement already satisfied: certifi in c:\\users\\user\\desktop\\agent\\venv\\lib\\site-packages (from httpx<1,>=0.23.0->langsmith<0.4,>=0.1.125->langchain_core) (2025.1.31)\n",
      "Requirement already satisfied: httpcore==1.* in c:\\users\\user\\desktop\\agent\\venv\\lib\\site-packages (from httpx<1,>=0.23.0->langsmith<0.4,>=0.1.125->langchain_core) (1.0.7)\n",
      "Requirement already satisfied: idna in c:\\users\\user\\desktop\\agent\\venv\\lib\\site-packages (from httpx<1,>=0.23.0->langsmith<0.4,>=0.1.125->langchain_core) (3.10)\n",
      "Requirement already satisfied: h11<0.15,>=0.13 in c:\\users\\user\\desktop\\agent\\venv\\lib\\site-packages (from httpcore==1.*->httpx<1,>=0.23.0->langsmith<0.4,>=0.1.125->langchain_core) (0.14.0)\n",
      "Requirement already satisfied: charset-normalizer<4,>=2 in c:\\users\\user\\desktop\\agent\\venv\\lib\\site-packages (from requests<3,>=2->langsmith<0.4,>=0.1.125->langchain_core) (3.4.1)\n",
      "Requirement already satisfied: urllib3<3,>=1.21.1 in c:\\users\\user\\desktop\\agent\\venv\\lib\\site-packages (from requests<3,>=2->langsmith<0.4,>=0.1.125->langchain_core) (2.3.0)\n",
      "Requirement already satisfied: exceptiongroup>=1.0.2 in c:\\users\\user\\desktop\\agent\\venv\\lib\\site-packages (from anyio->httpx<1,>=0.23.0->langsmith<0.4,>=0.1.125->langchain_core) (1.2.2)\n",
      "Requirement already satisfied: sniffio>=1.1 in c:\\users\\user\\desktop\\agent\\venv\\lib\\site-packages (from anyio->httpx<1,>=0.23.0->langsmith<0.4,>=0.1.125->langchain_core) (1.3.1)\n"
     ]
    }
   ],
   "source": [
    "! pip install langchain_core typing_extensions"
   ]
  },
  {
   "cell_type": "code",
   "execution_count": 1,
   "metadata": {},
   "outputs": [
    {
     "data": {
      "text/plain": [
       "True"
      ]
     },
     "execution_count": 1,
     "metadata": {},
     "output_type": "execute_result"
    }
   ],
   "source": [
    "import os \n",
    "from dotenv import load_dotenv\n",
    "\n",
    "load_dotenv(\"C:/Users/user/Desktop/agent/.env\")\n",
    "# os.getenv(\"OPENAI_API_KEY\")\n"
   ]
  },
  {
   "cell_type": "code",
   "execution_count": 7,
   "metadata": {},
   "outputs": [
    {
     "name": "stdout",
     "output_type": "stream",
     "text": [
      "Collecting langchain_experimental\n",
      "  Using cached langchain_experimental-0.3.4-py3-none-any.whl.metadata (1.7 kB)\n",
      "Requirement already satisfied: langchain-community<0.4.0,>=0.3.0 in c:\\users\\user\\desktop\\agent\\venv\\lib\\site-packages (from langchain_experimental) (0.3.19)\n",
      "Requirement already satisfied: langchain-core<0.4.0,>=0.3.28 in c:\\users\\user\\desktop\\agent\\venv\\lib\\site-packages (from langchain_experimental) (0.3.45)\n",
      "Requirement already satisfied: langchain<1.0.0,>=0.3.20 in c:\\users\\user\\desktop\\agent\\venv\\lib\\site-packages (from langchain-community<0.4.0,>=0.3.0->langchain_experimental) (0.3.20)\n",
      "Requirement already satisfied: SQLAlchemy<3,>=1.4 in c:\\users\\user\\desktop\\agent\\venv\\lib\\site-packages (from langchain-community<0.4.0,>=0.3.0->langchain_experimental) (2.0.39)\n",
      "Requirement already satisfied: requests<3,>=2 in c:\\users\\user\\desktop\\agent\\venv\\lib\\site-packages (from langchain-community<0.4.0,>=0.3.0->langchain_experimental) (2.32.3)\n",
      "Requirement already satisfied: PyYAML>=5.3 in c:\\users\\user\\desktop\\agent\\venv\\lib\\site-packages (from langchain-community<0.4.0,>=0.3.0->langchain_experimental) (6.0.2)\n",
      "Requirement already satisfied: aiohttp<4.0.0,>=3.8.3 in c:\\users\\user\\desktop\\agent\\venv\\lib\\site-packages (from langchain-community<0.4.0,>=0.3.0->langchain_experimental) (3.11.14)\n",
      "Requirement already satisfied: tenacity!=8.4.0,<10,>=8.1.0 in c:\\users\\user\\desktop\\agent\\venv\\lib\\site-packages (from langchain-community<0.4.0,>=0.3.0->langchain_experimental) (9.0.0)\n",
      "Requirement already satisfied: dataclasses-json<0.7,>=0.5.7 in c:\\users\\user\\desktop\\agent\\venv\\lib\\site-packages (from langchain-community<0.4.0,>=0.3.0->langchain_experimental) (0.6.7)\n",
      "Requirement already satisfied: pydantic-settings<3.0.0,>=2.4.0 in c:\\users\\user\\desktop\\agent\\venv\\lib\\site-packages (from langchain-community<0.4.0,>=0.3.0->langchain_experimental) (2.8.1)\n",
      "Requirement already satisfied: langsmith<0.4,>=0.1.125 in c:\\users\\user\\desktop\\agent\\venv\\lib\\site-packages (from langchain-community<0.4.0,>=0.3.0->langchain_experimental) (0.3.15)\n",
      "Requirement already satisfied: httpx-sse<1.0.0,>=0.4.0 in c:\\users\\user\\desktop\\agent\\venv\\lib\\site-packages (from langchain-community<0.4.0,>=0.3.0->langchain_experimental) (0.4.0)\n",
      "Requirement already satisfied: numpy<3,>=1.26.2 in c:\\users\\user\\desktop\\agent\\venv\\lib\\site-packages (from langchain-community<0.4.0,>=0.3.0->langchain_experimental) (2.2.4)\n",
      "Requirement already satisfied: jsonpatch<2.0,>=1.33 in c:\\users\\user\\desktop\\agent\\venv\\lib\\site-packages (from langchain-core<0.4.0,>=0.3.28->langchain_experimental) (1.33)\n",
      "Requirement already satisfied: packaging<25,>=23.2 in c:\\users\\user\\desktop\\agent\\venv\\lib\\site-packages (from langchain-core<0.4.0,>=0.3.28->langchain_experimental) (24.2)\n",
      "Requirement already satisfied: typing-extensions>=4.7 in c:\\users\\user\\desktop\\agent\\venv\\lib\\site-packages (from langchain-core<0.4.0,>=0.3.28->langchain_experimental) (4.12.2)\n",
      "Requirement already satisfied: pydantic<3.0.0,>=2.5.2 in c:\\users\\user\\desktop\\agent\\venv\\lib\\site-packages (from langchain-core<0.4.0,>=0.3.28->langchain_experimental) (2.10.6)\n",
      "Requirement already satisfied: aiohappyeyeballs>=2.3.0 in c:\\users\\user\\desktop\\agent\\venv\\lib\\site-packages (from aiohttp<4.0.0,>=3.8.3->langchain-community<0.4.0,>=0.3.0->langchain_experimental) (2.6.1)\n",
      "Requirement already satisfied: aiosignal>=1.1.2 in c:\\users\\user\\desktop\\agent\\venv\\lib\\site-packages (from aiohttp<4.0.0,>=3.8.3->langchain-community<0.4.0,>=0.3.0->langchain_experimental) (1.3.2)\n",
      "Requirement already satisfied: async-timeout<6.0,>=4.0 in c:\\users\\user\\desktop\\agent\\venv\\lib\\site-packages (from aiohttp<4.0.0,>=3.8.3->langchain-community<0.4.0,>=0.3.0->langchain_experimental) (4.0.3)\n",
      "Requirement already satisfied: attrs>=17.3.0 in c:\\users\\user\\desktop\\agent\\venv\\lib\\site-packages (from aiohttp<4.0.0,>=3.8.3->langchain-community<0.4.0,>=0.3.0->langchain_experimental) (25.3.0)\n",
      "Requirement already satisfied: frozenlist>=1.1.1 in c:\\users\\user\\desktop\\agent\\venv\\lib\\site-packages (from aiohttp<4.0.0,>=3.8.3->langchain-community<0.4.0,>=0.3.0->langchain_experimental) (1.5.0)\n",
      "Requirement already satisfied: multidict<7.0,>=4.5 in c:\\users\\user\\desktop\\agent\\venv\\lib\\site-packages (from aiohttp<4.0.0,>=3.8.3->langchain-community<0.4.0,>=0.3.0->langchain_experimental) (6.1.0)\n",
      "Requirement already satisfied: propcache>=0.2.0 in c:\\users\\user\\desktop\\agent\\venv\\lib\\site-packages (from aiohttp<4.0.0,>=3.8.3->langchain-community<0.4.0,>=0.3.0->langchain_experimental) (0.3.0)\n",
      "Requirement already satisfied: yarl<2.0,>=1.17.0 in c:\\users\\user\\desktop\\agent\\venv\\lib\\site-packages (from aiohttp<4.0.0,>=3.8.3->langchain-community<0.4.0,>=0.3.0->langchain_experimental) (1.18.3)\n",
      "Requirement already satisfied: marshmallow<4.0.0,>=3.18.0 in c:\\users\\user\\desktop\\agent\\venv\\lib\\site-packages (from dataclasses-json<0.7,>=0.5.7->langchain-community<0.4.0,>=0.3.0->langchain_experimental) (3.26.1)\n",
      "Requirement already satisfied: typing-inspect<1,>=0.4.0 in c:\\users\\user\\desktop\\agent\\venv\\lib\\site-packages (from dataclasses-json<0.7,>=0.5.7->langchain-community<0.4.0,>=0.3.0->langchain_experimental) (0.9.0)\n",
      "Requirement already satisfied: jsonpointer>=1.9 in c:\\users\\user\\desktop\\agent\\venv\\lib\\site-packages (from jsonpatch<2.0,>=1.33->langchain-core<0.4.0,>=0.3.28->langchain_experimental) (3.0.0)\n",
      "Requirement already satisfied: langchain-text-splitters<1.0.0,>=0.3.6 in c:\\users\\user\\desktop\\agent\\venv\\lib\\site-packages (from langchain<1.0.0,>=0.3.20->langchain-community<0.4.0,>=0.3.0->langchain_experimental) (0.3.6)\n",
      "Requirement already satisfied: httpx<1,>=0.23.0 in c:\\users\\user\\desktop\\agent\\venv\\lib\\site-packages (from langsmith<0.4,>=0.1.125->langchain-community<0.4.0,>=0.3.0->langchain_experimental) (0.28.1)\n",
      "Requirement already satisfied: orjson<4.0.0,>=3.9.14 in c:\\users\\user\\desktop\\agent\\venv\\lib\\site-packages (from langsmith<0.4,>=0.1.125->langchain-community<0.4.0,>=0.3.0->langchain_experimental) (3.10.15)\n",
      "Requirement already satisfied: requests-toolbelt<2.0.0,>=1.0.0 in c:\\users\\user\\desktop\\agent\\venv\\lib\\site-packages (from langsmith<0.4,>=0.1.125->langchain-community<0.4.0,>=0.3.0->langchain_experimental) (1.0.0)\n",
      "Requirement already satisfied: zstandard<0.24.0,>=0.23.0 in c:\\users\\user\\desktop\\agent\\venv\\lib\\site-packages (from langsmith<0.4,>=0.1.125->langchain-community<0.4.0,>=0.3.0->langchain_experimental) (0.23.0)\n",
      "Requirement already satisfied: annotated-types>=0.6.0 in c:\\users\\user\\desktop\\agent\\venv\\lib\\site-packages (from pydantic<3.0.0,>=2.5.2->langchain-core<0.4.0,>=0.3.28->langchain_experimental) (0.7.0)\n",
      "Requirement already satisfied: pydantic-core==2.27.2 in c:\\users\\user\\desktop\\agent\\venv\\lib\\site-packages (from pydantic<3.0.0,>=2.5.2->langchain-core<0.4.0,>=0.3.28->langchain_experimental) (2.27.2)\n",
      "Requirement already satisfied: python-dotenv>=0.21.0 in c:\\users\\user\\desktop\\agent\\venv\\lib\\site-packages (from pydantic-settings<3.0.0,>=2.4.0->langchain-community<0.4.0,>=0.3.0->langchain_experimental) (1.0.1)\n",
      "Requirement already satisfied: charset-normalizer<4,>=2 in c:\\users\\user\\desktop\\agent\\venv\\lib\\site-packages (from requests<3,>=2->langchain-community<0.4.0,>=0.3.0->langchain_experimental) (3.4.1)\n",
      "Requirement already satisfied: idna<4,>=2.5 in c:\\users\\user\\desktop\\agent\\venv\\lib\\site-packages (from requests<3,>=2->langchain-community<0.4.0,>=0.3.0->langchain_experimental) (3.10)\n",
      "Requirement already satisfied: urllib3<3,>=1.21.1 in c:\\users\\user\\desktop\\agent\\venv\\lib\\site-packages (from requests<3,>=2->langchain-community<0.4.0,>=0.3.0->langchain_experimental) (2.3.0)\n",
      "Requirement already satisfied: certifi>=2017.4.17 in c:\\users\\user\\desktop\\agent\\venv\\lib\\site-packages (from requests<3,>=2->langchain-community<0.4.0,>=0.3.0->langchain_experimental) (2025.1.31)\n",
      "Requirement already satisfied: greenlet!=0.4.17 in c:\\users\\user\\desktop\\agent\\venv\\lib\\site-packages (from SQLAlchemy<3,>=1.4->langchain-community<0.4.0,>=0.3.0->langchain_experimental) (3.1.1)\n",
      "Requirement already satisfied: anyio in c:\\users\\user\\desktop\\agent\\venv\\lib\\site-packages (from httpx<1,>=0.23.0->langsmith<0.4,>=0.1.125->langchain-community<0.4.0,>=0.3.0->langchain_experimental) (4.9.0)\n",
      "Requirement already satisfied: httpcore==1.* in c:\\users\\user\\desktop\\agent\\venv\\lib\\site-packages (from httpx<1,>=0.23.0->langsmith<0.4,>=0.1.125->langchain-community<0.4.0,>=0.3.0->langchain_experimental) (1.0.7)\n",
      "Requirement already satisfied: h11<0.15,>=0.13 in c:\\users\\user\\desktop\\agent\\venv\\lib\\site-packages (from httpcore==1.*->httpx<1,>=0.23.0->langsmith<0.4,>=0.1.125->langchain-community<0.4.0,>=0.3.0->langchain_experimental) (0.14.0)\n",
      "Requirement already satisfied: mypy-extensions>=0.3.0 in c:\\users\\user\\desktop\\agent\\venv\\lib\\site-packages (from typing-inspect<1,>=0.4.0->dataclasses-json<0.7,>=0.5.7->langchain-community<0.4.0,>=0.3.0->langchain_experimental) (1.0.0)\n",
      "Requirement already satisfied: exceptiongroup>=1.0.2 in c:\\users\\user\\desktop\\agent\\venv\\lib\\site-packages (from anyio->httpx<1,>=0.23.0->langsmith<0.4,>=0.1.125->langchain-community<0.4.0,>=0.3.0->langchain_experimental) (1.2.2)\n",
      "Requirement already satisfied: sniffio>=1.1 in c:\\users\\user\\desktop\\agent\\venv\\lib\\site-packages (from anyio->httpx<1,>=0.23.0->langsmith<0.4,>=0.1.125->langchain-community<0.4.0,>=0.3.0->langchain_experimental) (1.3.1)\n",
      "Using cached langchain_experimental-0.3.4-py3-none-any.whl (209 kB)\n",
      "Installing collected packages: langchain_experimental\n",
      "Successfully installed langchain_experimental-0.3.4\n"
     ]
    }
   ],
   "source": [
    "! pip install langchain_experimental"
   ]
  },
  {
   "cell_type": "code",
   "execution_count": null,
   "metadata": {},
   "outputs": [],
   "source": []
  },
  {
   "cell_type": "markdown",
   "metadata": {},
   "source": [
    "# 보고서를 작성하면서 작성 결과를 이메일로 작성해주는 Agent"
   ]
  },
  {
   "cell_type": "code",
   "execution_count": 2,
   "metadata": {},
   "outputs": [],
   "source": [
    "import operator\n",
    "from typing import Annotated, Sequence\n",
    "from typing_extensions import TypedDict\n",
    "from langchain_core.messages import BaseMessage\n",
    "\n",
    "\n",
    "# 상태 정의\n",
    "class AgentState(TypedDict):\n",
    "    messages: Annotated[\n",
    "        Sequence[BaseMessage], operator.add\n",
    "    ]  # Agent 간 공유하는 메시지 목록\n",
    "    sender: Annotated[str, \"The sender of the last message\"]  # 마지막 메시지의 발신자"
   ]
  },
  {
   "cell_type": "code",
   "execution_count": 3,
   "metadata": {},
   "outputs": [],
   "source": [
    "# 도구 정의 \n",
    "\n",
    "from typing import Annotated,Optional, List\n",
    "\n",
    "from langchain_community.tools import TavilySearchResults\n",
    "from langchain_core.tools import tool\n",
    "from langchain_experimental.utilities import PythonREPL"
   ]
  },
  {
   "cell_type": "code",
   "execution_count": 4,
   "metadata": {},
   "outputs": [],
   "source": [
    "import os\n",
    "from dotenv import load_dotenv\n",
    "from tavily import TavilyClient\n",
    "load_dotenv(\"C:/Users/user/Desktop/agent/.env\") \n",
    "\n",
    "from langchain.tools import tool\n",
    "import os\n",
    "from tavily import TavilyClient\n",
    "\n",
    "tavily_client = TavilyClient(api_key=os.getenv(\"TAVILY_API_KEY\"))\n",
    "\n",
    "@tool\n",
    "def tavily_search(query: str) -> str:\n",
    "    \"\"\"\n",
    "    주어진 질문을 Tavily로 검색하고 결과를 텍스트로 반환합니다.\n",
    "    \"\"\"\n",
    "    search_results = tavily_client.search(\n",
    "        query=query, \n",
    "        max_results=5, \n",
    "        search_depth=\"advanced\", \n",
    "        include_raw_content=True\n",
    "    )\n",
    "\n",
    "    aggregated_results = \"\\n\\n\".join([\n",
    "        f\"제목: {res['title']}\\n링크: {res['url']}\\n내용: {res['content']}\"\n",
    "        for res in search_results['results']\n",
    "    ])\n",
    "\n",
    "    return aggregated_results\n",
    "\n",
    "\n",
    "\n",
    "\n"
   ]
  },
  {
   "cell_type": "code",
   "execution_count": 101,
   "metadata": {},
   "outputs": [
    {
     "name": "stdout",
     "output_type": "stream",
     "text": [
      "Collecting tavily-python\n",
      "  Using cached tavily_python-0.5.1-py3-none-any.whl.metadata (91 kB)\n",
      "Requirement already satisfied: requests in c:\\users\\user\\desktop\\agent\\venv\\lib\\site-packages (from tavily-python) (2.32.3)\n",
      "Requirement already satisfied: tiktoken>=0.5.1 in c:\\users\\user\\desktop\\agent\\venv\\lib\\site-packages (from tavily-python) (0.9.0)\n",
      "Requirement already satisfied: httpx in c:\\users\\user\\desktop\\agent\\venv\\lib\\site-packages (from tavily-python) (0.28.1)\n",
      "Requirement already satisfied: regex>=2022.1.18 in c:\\users\\user\\desktop\\agent\\venv\\lib\\site-packages (from tiktoken>=0.5.1->tavily-python) (2024.11.6)\n",
      "Requirement already satisfied: charset-normalizer<4,>=2 in c:\\users\\user\\desktop\\agent\\venv\\lib\\site-packages (from requests->tavily-python) (3.4.1)\n",
      "Requirement already satisfied: idna<4,>=2.5 in c:\\users\\user\\desktop\\agent\\venv\\lib\\site-packages (from requests->tavily-python) (3.10)\n",
      "Requirement already satisfied: urllib3<3,>=1.21.1 in c:\\users\\user\\desktop\\agent\\venv\\lib\\site-packages (from requests->tavily-python) (2.3.0)\n",
      "Requirement already satisfied: certifi>=2017.4.17 in c:\\users\\user\\desktop\\agent\\venv\\lib\\site-packages (from requests->tavily-python) (2025.1.31)\n",
      "Requirement already satisfied: anyio in c:\\users\\user\\desktop\\agent\\venv\\lib\\site-packages (from httpx->tavily-python) (4.9.0)\n",
      "Requirement already satisfied: httpcore==1.* in c:\\users\\user\\desktop\\agent\\venv\\lib\\site-packages (from httpx->tavily-python) (1.0.7)\n",
      "Requirement already satisfied: h11<0.15,>=0.13 in c:\\users\\user\\desktop\\agent\\venv\\lib\\site-packages (from httpcore==1.*->httpx->tavily-python) (0.14.0)\n",
      "Requirement already satisfied: exceptiongroup>=1.0.2 in c:\\users\\user\\desktop\\agent\\venv\\lib\\site-packages (from anyio->httpx->tavily-python) (1.2.2)\n",
      "Requirement already satisfied: sniffio>=1.1 in c:\\users\\user\\desktop\\agent\\venv\\lib\\site-packages (from anyio->httpx->tavily-python) (1.3.1)\n",
      "Requirement already satisfied: typing_extensions>=4.5 in c:\\users\\user\\desktop\\agent\\venv\\lib\\site-packages (from anyio->httpx->tavily-python) (4.12.2)\n",
      "Using cached tavily_python-0.5.1-py3-none-any.whl (43 kB)\n",
      "Installing collected packages: tavily-python\n",
      "Successfully installed tavily-python-0.5.1\n"
     ]
    }
   ],
   "source": [
    "! pip install tavily-python"
   ]
  },
  {
   "cell_type": "code",
   "execution_count": 29,
   "metadata": {},
   "outputs": [],
   "source": [
    "! pip install -qU duckduckgo-search"
   ]
  },
  {
   "cell_type": "code",
   "execution_count": 26,
   "metadata": {},
   "outputs": [
    {
     "name": "stdout",
     "output_type": "stream",
     "text": [
      "Requirement already satisfied: langchain_community in c:\\users\\user\\desktop\\agent\\venv\\lib\\site-packages (0.3.19)\n",
      "Requirement already satisfied: langchain-core<1.0.0,>=0.3.41 in c:\\users\\user\\desktop\\agent\\venv\\lib\\site-packages (from langchain_community) (0.3.45)\n",
      "Requirement already satisfied: langchain<1.0.0,>=0.3.20 in c:\\users\\user\\desktop\\agent\\venv\\lib\\site-packages (from langchain_community) (0.3.20)\n",
      "Requirement already satisfied: SQLAlchemy<3,>=1.4 in c:\\users\\user\\desktop\\agent\\venv\\lib\\site-packages (from langchain_community) (2.0.39)\n",
      "Requirement already satisfied: requests<3,>=2 in c:\\users\\user\\desktop\\agent\\venv\\lib\\site-packages (from langchain_community) (2.32.3)\n",
      "Requirement already satisfied: PyYAML>=5.3 in c:\\users\\user\\desktop\\agent\\venv\\lib\\site-packages (from langchain_community) (6.0.2)\n",
      "Requirement already satisfied: aiohttp<4.0.0,>=3.8.3 in c:\\users\\user\\desktop\\agent\\venv\\lib\\site-packages (from langchain_community) (3.11.14)\n",
      "Requirement already satisfied: tenacity!=8.4.0,<10,>=8.1.0 in c:\\users\\user\\desktop\\agent\\venv\\lib\\site-packages (from langchain_community) (9.0.0)\n",
      "Requirement already satisfied: dataclasses-json<0.7,>=0.5.7 in c:\\users\\user\\desktop\\agent\\venv\\lib\\site-packages (from langchain_community) (0.6.7)\n",
      "Requirement already satisfied: pydantic-settings<3.0.0,>=2.4.0 in c:\\users\\user\\desktop\\agent\\venv\\lib\\site-packages (from langchain_community) (2.8.1)\n",
      "Requirement already satisfied: langsmith<0.4,>=0.1.125 in c:\\users\\user\\desktop\\agent\\venv\\lib\\site-packages (from langchain_community) (0.3.15)\n",
      "Requirement already satisfied: httpx-sse<1.0.0,>=0.4.0 in c:\\users\\user\\desktop\\agent\\venv\\lib\\site-packages (from langchain_community) (0.4.0)\n",
      "Requirement already satisfied: numpy<3,>=1.26.2 in c:\\users\\user\\desktop\\agent\\venv\\lib\\site-packages (from langchain_community) (2.2.4)\n",
      "Requirement already satisfied: aiohappyeyeballs>=2.3.0 in c:\\users\\user\\desktop\\agent\\venv\\lib\\site-packages (from aiohttp<4.0.0,>=3.8.3->langchain_community) (2.6.1)\n",
      "Requirement already satisfied: aiosignal>=1.1.2 in c:\\users\\user\\desktop\\agent\\venv\\lib\\site-packages (from aiohttp<4.0.0,>=3.8.3->langchain_community) (1.3.2)\n",
      "Requirement already satisfied: async-timeout<6.0,>=4.0 in c:\\users\\user\\desktop\\agent\\venv\\lib\\site-packages (from aiohttp<4.0.0,>=3.8.3->langchain_community) (4.0.3)\n",
      "Requirement already satisfied: attrs>=17.3.0 in c:\\users\\user\\desktop\\agent\\venv\\lib\\site-packages (from aiohttp<4.0.0,>=3.8.3->langchain_community) (25.3.0)\n",
      "Requirement already satisfied: frozenlist>=1.1.1 in c:\\users\\user\\desktop\\agent\\venv\\lib\\site-packages (from aiohttp<4.0.0,>=3.8.3->langchain_community) (1.5.0)\n",
      "Requirement already satisfied: multidict<7.0,>=4.5 in c:\\users\\user\\desktop\\agent\\venv\\lib\\site-packages (from aiohttp<4.0.0,>=3.8.3->langchain_community) (6.1.0)\n",
      "Requirement already satisfied: propcache>=0.2.0 in c:\\users\\user\\desktop\\agent\\venv\\lib\\site-packages (from aiohttp<4.0.0,>=3.8.3->langchain_community) (0.3.0)\n",
      "Requirement already satisfied: yarl<2.0,>=1.17.0 in c:\\users\\user\\desktop\\agent\\venv\\lib\\site-packages (from aiohttp<4.0.0,>=3.8.3->langchain_community) (1.18.3)\n",
      "Requirement already satisfied: marshmallow<4.0.0,>=3.18.0 in c:\\users\\user\\desktop\\agent\\venv\\lib\\site-packages (from dataclasses-json<0.7,>=0.5.7->langchain_community) (3.26.1)\n",
      "Requirement already satisfied: typing-inspect<1,>=0.4.0 in c:\\users\\user\\desktop\\agent\\venv\\lib\\site-packages (from dataclasses-json<0.7,>=0.5.7->langchain_community) (0.9.0)\n",
      "Requirement already satisfied: langchain-text-splitters<1.0.0,>=0.3.6 in c:\\users\\user\\desktop\\agent\\venv\\lib\\site-packages (from langchain<1.0.0,>=0.3.20->langchain_community) (0.3.6)\n",
      "Requirement already satisfied: pydantic<3.0.0,>=2.7.4 in c:\\users\\user\\desktop\\agent\\venv\\lib\\site-packages (from langchain<1.0.0,>=0.3.20->langchain_community) (2.10.6)\n",
      "Requirement already satisfied: jsonpatch<2.0,>=1.33 in c:\\users\\user\\desktop\\agent\\venv\\lib\\site-packages (from langchain-core<1.0.0,>=0.3.41->langchain_community) (1.33)\n",
      "Requirement already satisfied: packaging<25,>=23.2 in c:\\users\\user\\desktop\\agent\\venv\\lib\\site-packages (from langchain-core<1.0.0,>=0.3.41->langchain_community) (24.2)\n",
      "Requirement already satisfied: typing-extensions>=4.7 in c:\\users\\user\\desktop\\agent\\venv\\lib\\site-packages (from langchain-core<1.0.0,>=0.3.41->langchain_community) (4.12.2)\n",
      "Requirement already satisfied: httpx<1,>=0.23.0 in c:\\users\\user\\desktop\\agent\\venv\\lib\\site-packages (from langsmith<0.4,>=0.1.125->langchain_community) (0.28.1)\n",
      "Requirement already satisfied: orjson<4.0.0,>=3.9.14 in c:\\users\\user\\desktop\\agent\\venv\\lib\\site-packages (from langsmith<0.4,>=0.1.125->langchain_community) (3.10.15)\n",
      "Requirement already satisfied: requests-toolbelt<2.0.0,>=1.0.0 in c:\\users\\user\\desktop\\agent\\venv\\lib\\site-packages (from langsmith<0.4,>=0.1.125->langchain_community) (1.0.0)\n",
      "Requirement already satisfied: zstandard<0.24.0,>=0.23.0 in c:\\users\\user\\desktop\\agent\\venv\\lib\\site-packages (from langsmith<0.4,>=0.1.125->langchain_community) (0.23.0)\n",
      "Requirement already satisfied: python-dotenv>=0.21.0 in c:\\users\\user\\desktop\\agent\\venv\\lib\\site-packages (from pydantic-settings<3.0.0,>=2.4.0->langchain_community) (1.0.1)\n",
      "Requirement already satisfied: charset-normalizer<4,>=2 in c:\\users\\user\\desktop\\agent\\venv\\lib\\site-packages (from requests<3,>=2->langchain_community) (3.4.1)\n",
      "Requirement already satisfied: idna<4,>=2.5 in c:\\users\\user\\desktop\\agent\\venv\\lib\\site-packages (from requests<3,>=2->langchain_community) (3.10)\n",
      "Requirement already satisfied: urllib3<3,>=1.21.1 in c:\\users\\user\\desktop\\agent\\venv\\lib\\site-packages (from requests<3,>=2->langchain_community) (2.3.0)\n",
      "Requirement already satisfied: certifi>=2017.4.17 in c:\\users\\user\\desktop\\agent\\venv\\lib\\site-packages (from requests<3,>=2->langchain_community) (2025.1.31)\n",
      "Requirement already satisfied: greenlet!=0.4.17 in c:\\users\\user\\desktop\\agent\\venv\\lib\\site-packages (from SQLAlchemy<3,>=1.4->langchain_community) (3.1.1)\n",
      "Requirement already satisfied: anyio in c:\\users\\user\\desktop\\agent\\venv\\lib\\site-packages (from httpx<1,>=0.23.0->langsmith<0.4,>=0.1.125->langchain_community) (4.9.0)\n",
      "Requirement already satisfied: httpcore==1.* in c:\\users\\user\\desktop\\agent\\venv\\lib\\site-packages (from httpx<1,>=0.23.0->langsmith<0.4,>=0.1.125->langchain_community) (1.0.7)\n",
      "Requirement already satisfied: h11<0.15,>=0.13 in c:\\users\\user\\desktop\\agent\\venv\\lib\\site-packages (from httpcore==1.*->httpx<1,>=0.23.0->langsmith<0.4,>=0.1.125->langchain_community) (0.14.0)\n",
      "Requirement already satisfied: jsonpointer>=1.9 in c:\\users\\user\\desktop\\agent\\venv\\lib\\site-packages (from jsonpatch<2.0,>=1.33->langchain-core<1.0.0,>=0.3.41->langchain_community) (3.0.0)\n",
      "Requirement already satisfied: annotated-types>=0.6.0 in c:\\users\\user\\desktop\\agent\\venv\\lib\\site-packages (from pydantic<3.0.0,>=2.7.4->langchain<1.0.0,>=0.3.20->langchain_community) (0.7.0)\n",
      "Requirement already satisfied: pydantic-core==2.27.2 in c:\\users\\user\\desktop\\agent\\venv\\lib\\site-packages (from pydantic<3.0.0,>=2.7.4->langchain<1.0.0,>=0.3.20->langchain_community) (2.27.2)\n",
      "Requirement already satisfied: mypy-extensions>=0.3.0 in c:\\users\\user\\desktop\\agent\\venv\\lib\\site-packages (from typing-inspect<1,>=0.4.0->dataclasses-json<0.7,>=0.5.7->langchain_community) (1.0.0)\n",
      "Requirement already satisfied: exceptiongroup>=1.0.2 in c:\\users\\user\\desktop\\agent\\venv\\lib\\site-packages (from anyio->httpx<1,>=0.23.0->langsmith<0.4,>=0.1.125->langchain_community) (1.2.2)\n",
      "Requirement already satisfied: sniffio>=1.1 in c:\\users\\user\\desktop\\agent\\venv\\lib\\site-packages (from anyio->httpx<1,>=0.23.0->langsmith<0.4,>=0.1.125->langchain_community) (1.3.1)\n"
     ]
    }
   ],
   "source": [
    "! pip install langchain_community"
   ]
  },
  {
   "cell_type": "code",
   "execution_count": 36,
   "metadata": {},
   "outputs": [
    {
     "name": "stdout",
     "output_type": "stream",
     "text": [
      "[{'snippet': \"배우 '김수현'씨를 둘러싼 논란에 방송가의 고심도 깊어지고 있습니다. 김수현 씨가 등장한 예능 프로그램은 사과문을 발표했고, 제작비 600억 원이 투입된 차기작 드라마에도 이목이 쏠립니다. MBC 예능 프로그램 '굿데이'가 ...\", 'title': '[잇슈 컬처] 김수현 출연 예능 공식 사과…600억 원 투입된 드라마는? | Kbs 뉴스', 'link': 'https://news.kbs.co.kr/news/view.do?ncd=8202974'}, {'snippet': '김새론 유족 측은 김수현 소속사 골드메달리스트가 지난해 5월 \\'7억원을 변제하지 않으면 법적 대응 할 것\\'이란 내용의 1차 내용증명을 보냈다고 설명했다. 부 변호사는 \"2차 내용증명에는 향후 SNS (소셜네트워크서비스)에 이런 사진을 올리거나 소속사 중 어느 누구와 접촉을 하거나 드라마 (당시 ...', 'title': '\"김수현 측, 김새론에 \\'눈물의 여왕 손해 보면 배상\\' 2차 내용증명 보냈다\" - 머니투데이', 'link': 'https://news.mt.co.kr/mtview.php?no=2025031719252731784'}, {'snippet': '사진=텐아시아DB 고(故) 김새론 측이 김수현 측에게 2차 내용증명을 받았다고 폭로했다. 김새론 유족의 법률대리인인 법무법인 부유의 부지석 대표 ...', 'title': '종합 故 김새론 김수현 지켜주려 했는데…유족 측 2차 내용증명→친동생 증언 폭로 | 텐아시아', 'link': 'https://tenasia.hankyung.com/article/2025031802774'}, {'snippet': '김수현의 소속사 골드메달리스트는 지난 14일 \"김수현 씨는 김새론 씨가 성인이 된 후인 2019년 여름부터 2020년 가을까지 교제했다\"며 \"미성년자 시절 ...', 'title': '\\'흑백요리사2\\' 백종원 손절?…\\'굿데이\\'는 \"김수현 최대한 편집\"', 'link': 'https://www.dailian.co.kr/news/view/1473343/'}]\n"
     ]
    }
   ],
   "source": [
    "# 뉴스 검색 툴 \n",
    "\n",
    "from langchain_community.utilities import DuckDuckGoSearchAPIWrapper\n",
    "from langchain_community.tools import DuckDuckGoSearchResults\n",
    "\n",
    "wrapper = DuckDuckGoSearchAPIWrapper(region=\"ko-kr\", time=\"d\", max_results=5)\n",
    "\n",
    "search = DuckDuckGoSearchResults(api_wrapper=wrapper, source=\"news\", output_format=\"list\")\n",
    "\n",
    "print(search.invoke(\"김수현\"))"
   ]
  },
  {
   "cell_type": "code",
   "execution_count": 43,
   "metadata": {},
   "outputs": [
    {
     "name": "stdout",
     "output_type": "stream",
     "text": [
      "4\n"
     ]
    }
   ],
   "source": [
    "print(len(search.invoke(\"김수현\")))"
   ]
  },
  {
   "cell_type": "code",
   "execution_count": null,
   "metadata": {},
   "outputs": [],
   "source": [
    "@tool\n",
    "def duckduckgo_news_search(query: str, region: str = \"ko-kr\", max_result: int = 5) -> List[dict]:\n",
    "    \"\"\"_summary_\n",
    "\n",
    "    Args:\n",
    "        query (str): input text search \n",
    "        region (str, optional): region . Defaults to \"ko-kr\".\n",
    "        max_result (int, optional): result len. Defaults to 5.\n",
    "\n",
    "    Returns:\n",
    "        List[dict]: news list\n",
    "    \"\"\"\n",
    "\n",
    "    return results"
   ]
  },
  {
   "cell_type": "code",
   "execution_count": 19,
   "metadata": {},
   "outputs": [],
   "source": [
    "import requests\n",
    "from langchain.tools import tool\n",
    "from typing import Dict \n",
    "from langchain.schema import Document\n",
    "from langchain_openai import ChatOpenAI\n",
    "from langchain_text_splitters import RecursiveCharacterTextSplitter\n",
    "from langchain.chains import load_summarize_chain\n",
    "from langchain_core.prompts import PromptTemplate\n",
    "from langchain_community.utilities import DuckDuckGoSearchAPIWrapper\n",
    "from langchain_community.tools import DuckDuckGoSearchResults\n",
    "from bs4 import BeautifulSoup as bs \n",
    "\n",
    "@tool\n",
    "def content_crawler(query: str, region: str = \"ko-kr\", max_result: int = 5) -> List[Dict]:\n",
    "    \"\"\"\n",
    "    사용자의 검색어를 기반으로 DuckDuckGo에서 뉴스 검색 후, 웹 페이지 내용을 크롤링하여 요약.\n",
    "\n",
    "    Args:\n",
    "        query (str): 사용자가 입력한 검색어\n",
    "        region (str, optional): 검색 지역. 기본값은 \"ko-kr\" (한국).\n",
    "        max_result (int, optional): 검색할 최대 결과 개수. 기본값은 5.\n",
    "\n",
    "    Returns:\n",
    "        List[Dict]: 요약된 뉴스 데이터 리스트\n",
    "    \"\"\"\n",
    "    try:\n",
    "        # LangChain LLM 모델 설정\n",
    "        llm = ChatOpenAI(temperature=0, model=\"gpt-4o-mini-2024-07-18\")\n",
    "\n",
    "        # DuckDuckGo 검색 API 설정\n",
    "        wrapper = DuckDuckGoSearchAPIWrapper(region=region, time=\"d\", max_results=max_result) \n",
    "        search = DuckDuckGoSearchResults(api_wrapper=wrapper, source=\"news\", output_format=\"list\")\n",
    "        results = search.run(query)\n",
    "        \n",
    "        headers = {\n",
    "            \"User-Agent\": \"Mozilla/5.0 (Windows NT 10.0; Win64; x64) AppleWebKit/537.36 (KHTML, like Gecko) Chrome/134.0.0.0 Safari/537.36\"\n",
    "        }\n",
    "\n",
    "        summaries = []  # 요약 결과를 저장할 리스트\n",
    "        \n",
    "        for result in results:\n",
    "            url = result[\"link\"]\n",
    "\n",
    "            # HTTP 요청하여 페이지 크롤링\n",
    "            response = requests.get(url, headers=headers, timeout=10)\n",
    "            soup = bs(response.text, \"lxml\")\n",
    "            text_content = soup.get_text(separator=\"\\n\", strip=True)\n",
    "\n",
    "            # 텍스트 분할\n",
    "            text_splitter = RecursiveCharacterTextSplitter(\n",
    "                separators=[\"\\n\\n\", \"\\n\"], chunk_size=10000, chunk_overlap=500\n",
    "            )\n",
    "            split_texts = text_splitter.split_text(text_content)\n",
    "\n",
    "            # ✅ 수정된 부분: Document 객체로 변환\n",
    "            docs = [Document(page_content=text) for text in split_texts]\n",
    "\n",
    "            # 요약 프롬프트 설정\n",
    "            map_prompt = \"\"\"\n",
    "            해당 chunk된 내용을 자세하게 요약해주세요:\n",
    "            \"{text}\"\n",
    "            요약문:\n",
    "            \"\"\"\n",
    "            map_prompt_template = PromptTemplate(template=map_prompt, input_variables=[\"text\"])\n",
    "\n",
    "            # 요약 체인 설정\n",
    "            summary_chain = load_summarize_chain(\n",
    "                llm=llm,\n",
    "                chain_type='map_reduce',\n",
    "                map_prompt=map_prompt_template,\n",
    "                combine_prompt=map_prompt_template,\n",
    "                verbose=False\n",
    "            )\n",
    "\n",
    "            # 요약 실행\n",
    "            output = summary_chain.invoke({\"input_documents\": docs})[\"output_text\"]\n",
    "            summaries.append({\"url\": url, \"summary\": output})\n",
    "\n",
    "        return [i[\"summary\"] for i in summaries]\n",
    "\n",
    "    except Exception as e:\n",
    "        return [{\"error\": str(e)}]\n"
   ]
  },
  {
   "cell_type": "code",
   "execution_count": 20,
   "metadata": {},
   "outputs": [
    {
     "data": {
      "text/plain": [
       "['故 김새론의 유족이 김수현에게 2차 내용 증명을 받았다는 사실이 드러났다. 김새론의 대리인인 부지석 변호사는 이 내용 증명이 이사 중 발견되었으며, 김새론이 처음 받은 내용 증명에 의구심을 품고 김수현에게 연락을 시도했으나 응답이 없었다고 밝혔다. 2차 내용 증명에는 김새론에게 연락하지 말라는 내용이 포함되어 있었다. 김새론은 김수현을 신뢰했으나 이 사실을 가족에게 알리지 않았고, 결국 힘든 상황에서 잘못된 선택을 한 것으로 보인다. 이에 대해 누리꾼들은 김새론의 어려움을 이해해주길 바라는 반응을 보였다. 반면, 김수현의 소속사는 두 사람의 교제 사실을 부인하고 있으며, 유족 측은 2015년부터 약 6년간 만났다고 주장하고 있다. 또한, 한 유튜버는 김수현이 미성년자와의 교제를 인정하지 않으면 증거를 공개하겠다고 경고했다.',\n",
       " '김수현과 고 김새론의 유족 간 갈등이 심화되며 고인의 사생활이 공개되고 있다. 유족은 김수현의 사과를 요구하고 김새론과의 관계를 폭로하려 하고, 김수현 측은 이를 반박하고 있다. 최근 유튜브에서 김새론과 김수현의 데이트 영상이 공개되었으나, 김수현 소속사는 사실이 아니라고 주장하고 있다. 유족은 김새론이 2015년부터 김수현과 교제했다고 주장하지만, 소속사는 2019년부터의 교제를 주장하며 해명하지 않고 있다. 이로 인해 대중의 신뢰가 떨어지고 있으며, 고인의 사생활이 언론에 의해 대대적으로 보도되고 있다. 고 김새론은 생전에는 자신의 관계를 알리지 않았던 것으로 보인다.',\n",
       " '김수현과 고(故) 김새론의 유족 간 갈등이 심화되고 있다. 갈등의 핵심은 두 사람의 교제 시기에 대한 의견 차이로, 유족 측은 2015년부터 6년간 교제했다고 주장하며 공개 사과를 요구하고 있는 반면, 김수현 측은 2019년 여름부터 2020년 가을까지 교제했다고 주장하고 있다. 유족 측은 과거 사진 자료를 제시하며 주장을 뒷받침하고 있으며, 김수현 측은 이를 반박하고 있다. 김수현의 소속사 골드메달리스트는 유족 측의 주장을 허위 사실 유포로 간주하고 공식 입장을 발표했다. 또한, 문화평론가 김갑수가 유튜브 방송에서 논란의 발언을 해 비판을 받았고, 방송 진행자는 사과하며 해당 코너를 폐지하겠다고 밝혔다. 양측의 갈등이 향후 어떻게 전개될지에 대한 관심이 집중되고 있다.',\n",
       " '故 김새론의 유족과 배우 김수현의 소속사 골드메달리스트 간의 갈등이 심화되고 있다. 유족 측은 골드메달리스트가 보낸 2차 내용증명을 \"협박\"으로 해석하며, 김새론이 소속사에 채무 변제를 압박받았다고 주장하고 있다. 반면 골드메달리스트 측은 해당 내용증명이 김새론의 우려를 해소하고 협의할 의사를 전달하기 위한 것이라고 반박하고 있다.\\n\\n김새론은 생전 7억 원의 채무를 골드메달리스트에 빌렸고, 채무 변제를 독촉받자 김수현에게 도움을 요청하는 문자를 보냈다. 골드메달리스트는 1차 내용증명 이후 2차 내용증명을 통해 채무 변제의 필요성을 강조했으며, 이는 임원들의 배임죄를 피하기 위한 절차라고 설명했다.\\n\\n현재 논란은 김수현과 김새론의 과거 관계와 골드메달리스트의 채무 압박 의혹에 집중되고 있으며, 양측의 해석 차이로 인해 갈등이 계속되고 있다. 유족 측은 김수현과의 연락을 자제하라는 내용이 협박이라고 주장하고, 골드메달리스트 측은 그런 의도가 없었다고 반박하고 있다.\\n\\n또한, KBO 유튜브 채널에 대한 긍정적인 기대감이 표현되며, 류선규의 비즈볼 코너에서 다루어지고 있다. KBO 유튜브 채널은 \\'어마어마한 야구 보물 창고\\'로 묘사되며, 앞으로의 콘텐츠에 대한 기대가 커지고 있다. 연예계에서는 김새론과 휘성의 소식이 전해지며 침통한 분위기가 감돌고 있으며, 휘성의 삶과 돈스파이크의 마약 사건 후 근황도 언급되고 있다. 이 외에도 강하늘과 스테이씨의 인터뷰, 다양한 연예 및 스포츠 소식이 포함되어 있다.']"
      ]
     },
     "execution_count": 20,
     "metadata": {},
     "output_type": "execute_result"
    }
   ],
   "source": [
    "content_crawler(\"김수현\")"
   ]
  },
  {
   "cell_type": "code",
   "execution_count": 13,
   "metadata": {},
   "outputs": [],
   "source": [
    "from langchain_core.messages import HumanMessage\n",
    "from langchain_openai import ChatOpenAI\n",
    "from langgraph.prebuilt import create_react_agent\n",
    "from langgraph.graph import MessagesState\n",
    "\n",
    "\n",
    "def make_system_prompt(suffix: str) -> str:\n",
    "    return (\n",
    "        \"You are a helpful AI assistant, collaborating with other assistants.\"\n",
    "        \" Use the provided tools to progress towards answering the question.\"\n",
    "        \" If you are unable to fully answer, that's OK, another assistant with different tools \"\n",
    "        \" will help where you left off. Execute what you can to make progress.\"\n",
    "        \" If you or any of the other assistants have the final answer or deliverable,\"\n",
    "        \" prefix your response with FINAL ANSWER so the team knows to stop.\"\n",
    "        f\"\\n{suffix}\"\n",
    "    )\n",
    "\n",
    "\n",
    "# LLM 정의\n",
    "researcher = ChatOpenAI(model=\"gpt-4o-2024-11-20\")\n",
    "\n",
    "# Research Agent 생성\n",
    "research_agent = create_react_agent(\n",
    "    researcher,\n",
    "    tools=[tavily_search],\n",
    "    state_modifier=make_system_prompt(\n",
    "        \"You are a research assistant specializing in general information retrieval and analysis. \"\n",
    "        \"Your primary role is to gather, analyze, and summarize research materials. \"\n",
    "        \"However, if the request explicitly involves news, do NOT process it yourself. \"\n",
    "        \"Instead, respond with: '뉴스 관련 요청입니다. news_researcher에게 작업을 위임합니다.' \"\n",
    "        \"For all other research tasks, retrieve relevant information and provide well-structured insights.\"\n",
    "    ),\n",
    ")\n",
    "\n",
    "\n",
    "# Research Agent 노드 정의\n",
    "def research_node(state: MessagesState) -> MessagesState:\n",
    "    result = research_agent.invoke(state)\n",
    "\n",
    "    # 마지막 메시지를 HumanMessage 로 변환\n",
    "    last_message = HumanMessage(\n",
    "        content=result[\"messages\"][-1].content, name=\"researcher\"\n",
    "    )\n",
    "    return {\n",
    "        # Research Agent 의 메시지 목록 반환\n",
    "        \"messages\": [last_message],\n",
    "    }\n"
   ]
  },
  {
   "cell_type": "code",
   "execution_count": 21,
   "metadata": {},
   "outputs": [],
   "source": [
    "news_search = ChatOpenAI(model=\"gpt-4o-mini-2024-07-18\")\n",
    "\n",
    "\n",
    "news_research_agent = create_react_agent(\n",
    "    news_search,\n",
    "    tools=[content_crawler],\n",
    "    state_modifier=make_system_prompt(\n",
    "        \"You are a specialized news research assistant responsible for searching, crawling, and summarizing news articles. \"\n",
    "        \"Your goal is to provide concise, fact-based summaries without adding personal opinions or interpretations. \"\n",
    "        \"You do NOT handle general research tasks. \"\n",
    "        \"If the request is NOT related to news, respond with: '일반 자료조사 요청입니다. researcher에게 작업을 위임합니다.' \"\n",
    "        \"For news-related tasks, extract and summarize key information objectively.\"\n",
    "        \" After you finish summarizing, clearly add '최종 markdown 정리 완료' at the end of your response.\"\n",
    "    ),\n",
    ")\n",
    "\n",
    "\n",
    "def news_research_node(state: MessagesState) -> MessagesState:\n",
    "    result = news_research_agent.invoke(state)\n",
    "\n",
    "    # 마지막 메시지를 HumanMessage 로 변환\n",
    "    last_message = HumanMessage(\n",
    "        content=result[\"messages\"][-1].content, name=\"news_researcher\"\n",
    "    )\n",
    "    return {\n",
    "        # News Research Agent의 메시지 목록 반환\n",
    "        \"messages\": [last_message],\n",
    "    }"
   ]
  },
  {
   "cell_type": "code",
   "execution_count": 15,
   "metadata": {},
   "outputs": [],
   "source": [
    "markdown_model = ChatOpenAI(model=\"gpt-3.5-turbo-0125\")\n",
    "\n",
    "markdown_agent = create_react_agent(\n",
    "    markdown_model,\n",
    "    tools=[],  # 도구가 필요 없는 순수 Markdown 변환용\n",
    "    state_modifier=make_system_prompt(\n",
    "        \"Your sole task is converting provided information into clean, organized Markdown format.\"\n",
    "        \" Clearly structure the content using headings, bullet points, and proper Markdown syntax.\"\n",
    "    ),\n",
    ")\n",
    "\n",
    "def markdown_node(state: MessagesState) -> MessagesState:\n",
    "    result = markdown_agent.invoke(state)\n",
    "\n",
    "    # 결과 메시지를 HumanMessage로 변환 (선택적으로 AIMessage로도 가능)\n",
    "    last_message = HumanMessage(\n",
    "        content=result[\"messages\"][-1].content, name=\"markdown_formatter\"\n",
    "    )\n",
    "    return {\n",
    "        \"messages\": [last_message],\n",
    "    }"
   ]
  },
  {
   "cell_type": "code",
   "execution_count": 28,
   "metadata": {},
   "outputs": [],
   "source": [
    "from langgraph.graph import StateGraph, START, END\n",
    "from langgraph.checkpoint.memory import MemorySaver\n",
    "\n",
    "graph = StateGraph(MessagesState)\n",
    "\n",
    "# 노드 추가\n",
    "graph.add_node(\"researcher\", research_node)\n",
    "graph.add_node(\"news_researcher\", news_research_node)\n",
    "graph.add_node(\"markdown_formatter\", markdown_node)\n",
    "\n",
    "def route(state: MessagesState):\n",
    "    last_message = state[\"messages\"][-1].content.lower()\n",
    "\n",
    "    if \"최종 markdown 정리 완료\" in last_message:\n",
    "        return \"markdown\"\n",
    "    elif \"일반 자료조사 요청입니다\" in last_message:\n",
    "        return \"continue\"\n",
    "    elif \"news\" in last_message or \"뉴스\" in last_message or \"위임\" in last_message:\n",
    "        return \"news\"\n",
    "    else:\n",
    "        return \"markdown\"\n",
    "\n",
    "\n",
    "graph.add_conditional_edges(\n",
    "    \"researcher\",\n",
    "    route,\n",
    "    {\n",
    "        \"continue\" : \"researcher\",\n",
    "        \"news\": \"news_researcher\",\n",
    "        \"markdown\": \"markdown_formatter\",\n",
    "    }\n",
    ")\n",
    "\n",
    "graph.add_conditional_edges(\n",
    "    \"news_researcher\",\n",
    "    route,\n",
    "    {\n",
    "        \"news\": \"news_researcher\",\n",
    "        \"markdown\": \"markdown_formatter\",\n",
    "    }\n",
    ")\n",
    "\n",
    "graph.add_edge(\"markdown_formatter\", END) \n",
    "graph.set_entry_point(\"researcher\")\n",
    "app = graph.compile(checkpointer=MemorySaver())\n"
   ]
  },
  {
   "cell_type": "code",
   "execution_count": 29,
   "metadata": {},
   "outputs": [
    {
     "data": {
      "image/png": "[encoded data removed]",
      "text/plain": [
       "<IPython.core.display.Image object>"
      ]
     },
     "metadata": {},
     "output_type": "display_data"
    }
   ],
   "source": [
    "from langchain_teddynote.graphs import visualize_graph\n",
    "\n",
    "visualize_graph(app, xray=True)"
   ]
  },
  {
   "cell_type": "code",
   "execution_count": 30,
   "metadata": {},
   "outputs": [
    {
     "name": "stdout",
     "output_type": "stream",
     "text": [
      "\n",
      "==================================================\n",
      "🔄 Node: \u001b[1;36mresearcher\u001b[0m 🔄\n",
      "- - - - - - - - - - - - - - - - - - - - - - - - - \n",
      "================================\u001b[1m Human Message \u001b[0m=================================\n",
      "Name: researcher\n",
      "\n",
      "뉴스 관련 요청입니다. news_researcher에게 작업을 위임합니다.\n",
      "==================================================\n",
      "\n",
      "==================================================\n",
      "🔄 Node: \u001b[1;36mnews_researcher\u001b[0m 🔄\n",
      "- - - - - - - - - - - - - - - - - - - - - - - - - \n",
      "================================\u001b[1m Human Message \u001b[0m=================================\n",
      "Name: news_researcher\n",
      "\n",
      "김수현과 고(故) 김새론 사건 관련 뉴스 요약입니다.\n",
      "\n",
      "## 사건 배경\n",
      "- 김수현과 김새론의 유족 간에 갈등이 심화되고 있으며, 갈등의 핵심은 두 사람의 교제 시기에 대한 의견 차이입니다.\n",
      "- 유족 측은 김수현과 김새론이 2015년부터 6년간 교제했다고 주장하며 공개 사과를 요구하고 있습니다. 반면 김수현 측은 2019년 여름부터 2020년 가을까지 교제했다고 주장하고 있습니다. \n",
      "\n",
      "## 유족과 김수현의 공식 입장\n",
      "- 김수현의 소속사 골드메달리스트는 유족 측의 주장을 허위 사실 유포로 간주하고 공식 입장을 발표했습니다.\n",
      "- 유족 측은 고 김새론이 김수현에게 \"살려달라\"고 메시지를 보냈다는 주장도 하고 있습니다. 이에 대해 골드메달리스트 측은 채무 변제를 촉구하기 위한 내용증명이었다고 반박하고 있습니다.\n",
      "\n",
      "## 사건의 진전\n",
      "- 김새론의 변호사에 따르면, 유족이 김수현에게 보내는 2차 내용증명은 가족이 이사 중 발견한 것이며, 김새론은 1차 내용증명을 처음 믿지 않았다고 주장하기도 했습니다.\n",
      "- 유족은 김수현이 협박을 했다고 해석하고 있으며, 법적 대응도 예고하고 있습니다.\n",
      "\n",
      "## 최근 언급된 발언 및 사회적 반응\n",
      "- 문화평론가 김갑수가 논란의 발언을 해 비판받고, 방송 진행자가 사과했습니다.\n",
      "- 네티즌들은 김새론의 상황에 공감하며 비판적인 반응을 보였고, 사건에 대한 사회적 관심이 집중되고 있습니다.\n",
      "\n",
      "최종 markdown 정리 완료\n",
      "==================================================\n",
      "\n",
      "==================================================\n",
      "🔄 Node: \u001b[1;36mmarkdown_formatter\u001b[0m 🔄\n",
      "- - - - - - - - - - - - - - - - - - - - - - - - - \n",
      "================================\u001b[1m Human Message \u001b[0m=================================\n",
      "Name: markdown_formatter\n",
      "\n",
      "## 사건 배경\n",
      "- 김수현과 김새론의 유족 간에 갈등이 심화되고 있음\n",
      "- 핵심 갈등: 두 사람의 교제 시기에 대한 의견 차이\n",
      "  - 유족 측 주장: 2015년부터 6년간 교제\n",
      "  - 김수현 측 주장: 2019년 여름부터 2020년 가을까지 교제\n",
      "\n",
      "## 유족과 김수현의 공식 입장\n",
      "- 김수현 소속사 골드메달리스트: 유족 주장은 허위 사실 유포로 간주하며 공식 입장 발표\n",
      "- 유족 측: 김새론이 김수현에게 \"살려달라\" 메시지를 보냈다고 주장\n",
      "  - 골드메달리스트 측: 채무 변제 촉구 내용증명이라고 반박\n",
      "\n",
      "## 사건의 진전\n",
      "- 김새론 변호사: 유족이 김수현에게 2차 내용증명, 김새론 초기에는 1차 내용증명 믿지 않았다고 주장\n",
      "- 유족: 김수현 협박 시도로 해석, 법적 대응 예고\n",
      "\n",
      "## 최근 발언 및 사회적 반응\n",
      "- 문화평론가 김갑수 발언으로 비판받아 방송 진행자가 사과\n",
      "- 네티즌: 김새론 상황에 공감, 비판적 반응\n",
      "- 사회적 관심 집중, 논란 확산함.\n",
      "\n",
      "이상으로 문서 마칩니다.\n",
      "==================================================\n"
     ]
    }
   ],
   "source": [
    "from langchain_core.runnables import RunnableConfig\n",
    "from langchain_teddynote.messages import random_uuid, invoke_graph\n",
    "from langchain_core.messages import HumanMessage\n",
    "\n",
    "# config 설정(재귀 최대 횟수, thread_id)\n",
    "config = RunnableConfig(recursion_limit=10, configurable={\"thread_id\": random_uuid()})\n",
    "\n",
    "inputs = {\n",
    "    \"messages\": [\n",
    "        HumanMessage(\n",
    "            content=\"김수현 김새론 사건 관련 뉴스 markdown으로 최종 정리해줘.\"\n",
    "        )\n",
    "    ],\n",
    "}\n",
    "\n",
    "# 정확한 노드 이름으로 수정!\n",
    "invoke_graph(\n",
    "    app, \n",
    "    inputs, \n",
    "    config, \n",
    "    node_names=[\"researcher\", \"news_researcher\", \"markdown_formatter\"]\n",
    ")\n"
   ]
  },
  {
   "cell_type": "code",
   "execution_count": 53,
   "metadata": {},
   "outputs": [
    {
     "name": "stdout",
     "output_type": "stream",
     "text": [
      "^C\n"
     ]
    }
   ],
   "source": [
    "! pip uninstall  reportlab "
   ]
  },
  {
   "cell_type": "code",
   "execution_count": null,
   "metadata": {},
   "outputs": [
    {
     "name": "stdout",
     "output_type": "stream",
     "text": [
      "^C\n"
     ]
    }
   ],
   "source": [
    "! pip uninstall weasyprint[cairo]"
   ]
  },
  {
   "cell_type": "code",
   "execution_count": 44,
   "metadata": {},
   "outputs": [
    {
     "name": "stdout",
     "output_type": "stream",
     "text": [
      "^C\n"
     ]
    }
   ],
   "source": [
    "! pip uninstall weasyprint"
   ]
  },
  {
   "cell_type": "code",
   "execution_count": 57,
   "metadata": {},
   "outputs": [],
   "source": [
    "markdown_text = \"\"\"\n",
    "김수현과 고(故) 김새론 사건 관련 뉴스 요약입니다.\n",
    "\n",
    "## 사건 배경\n",
    "- 김수현과 김새론의 유족 간에 갈등이 심화되고 있으며, 갈등의 핵심은 두 사람의 교제 시기에 대한 의견 차이입니다.\n",
    "- 유족 측은 김수현과 김새론이 2015년부터 6년간 교제했다고 주장하며 공개 사과를 요구하고 있습니다. 반면 김수현 측은 2019년 여름부터 2020년 가을까지 교제했다고 주장하고 있습니다. \n",
    "\n",
    "## 유족과 김수현의 공식 입장\n",
    "- 김수현의 소속사 골드메달리스트는 유족 측의 주장을 허위 사실 유포로 간주하고 공식 입장을 발표했습니다.\n",
    "- 유족 측은 고 김새론이 김수현에게 \"살려달라\"고 메시지를 보냈다는 주장도 하고 있습니다. 이에 대해 골드메달리스트 측은 채무 변제를 촉구하기 위한 내용증명이었다고 반박하고 있습니다.\n",
    "...\n",
    "- 사회적 관심 집중, 논란 확산함.\n",
    "\n",
    "\"\"\""
   ]
  },
  {
   "cell_type": "code",
   "execution_count": null,
   "metadata": {},
   "outputs": [],
   "source": [
    "import markdown\n",
    "\n",
    "@tool \n",
    "def convert_text_to_markdown(input_text: str, output_md_path: str = None):\n",
    "    \"\"\"\n",
    "    일반 텍스트를 Markdown 형식으로 변환하는 함수.\n",
    "\n",
    "    Args:\n",
    "        input_text (str): 변환할 일반 텍스트\n",
    "        output_md_path (str): 저장할 Markdown 파일 경로 (선택 사항)\n",
    "\n",
    "    Returns:\n",
    "        str: 변환된 Markdown 텍스트\n",
    "    \"\"\"\n",
    "    md_content = markdown.markdown(input_text)\n",
    "\n",
    "    # Markdown 파일로 저장할 경우\n",
    "    if output_md_path:\n",
    "        with open(output_md_path, \"w\", encoding=\"utf-8\") as f:\n",
    "            f.write(md_content)\n",
    "\n",
    "    return md_content"
   ]
  },
  {
   "cell_type": "code",
   "execution_count": 61,
   "metadata": {},
   "outputs": [
    {
     "data": {
      "text/plain": [
       "'<p>김수현과 고(故) 김새론 사건 관련 뉴스 요약입니다.</p>\\n<h2>사건 배경</h2>\\n<ul>\\n<li>김수현과 김새론의 유족 간에 갈등이 심화되고 있으며, 갈등의 핵심은 두 사람의 교제 시기에 대한 의견 차이입니다.</li>\\n<li>유족 측은 김수현과 김새론이 2015년부터 6년간 교제했다고 주장하며 공개 사과를 요구하고 있습니다. 반면 김수현 측은 2019년 여름부터 2020년 가을까지 교제했다고 주장하고 있습니다. </li>\\n</ul>\\n<h2>유족과 김수현의 공식 입장</h2>\\n<ul>\\n<li>김수현의 소속사 골드메달리스트는 유족 측의 주장을 허위 사실 유포로 간주하고 공식 입장을 발표했습니다.</li>\\n<li>유족 측은 고 김새론이 김수현에게 \"살려달라\"고 메시지를 보냈다는 주장도 하고 있습니다. 이에 대해 골드메달리스트 측은 채무 변제를 촉구하기 위한 내용증명이었다고 반박하고 있습니다.\\n...</li>\\n<li>사회적 관심 집중, 논란 확산함.</li>\\n</ul>'"
      ]
     },
     "execution_count": 61,
     "metadata": {},
     "output_type": "execute_result"
    }
   ],
   "source": [
    "convert_text_to_markdown(input_text=markdown_text, output_md_path=\"C:/Users/user/Desktop/agent/data/data.md\")"
   ]
  },
  {
   "cell_type": "code",
   "execution_count": 22,
   "metadata": {},
   "outputs": [
    {
     "name": "stdout",
     "output_type": "stream",
     "text": [
      "Collecting langchain_teddynote\n",
      "  Downloading langchain_teddynote-0.3.44-py3-none-any.whl.metadata (867 bytes)\n",
      "Requirement already satisfied: langchain in c:\\users\\user\\desktop\\agent\\venv\\lib\\site-packages (from langchain_teddynote) (0.3.20)\n",
      "Requirement already satisfied: langgraph in c:\\users\\user\\desktop\\agent\\venv\\lib\\site-packages (from langchain_teddynote) (0.3.11)\n",
      "Collecting kiwipiepy (from langchain_teddynote)\n",
      "  Using cached kiwipiepy-0.20.4-cp310-cp310-win_amd64.whl.metadata (1.3 kB)\n",
      "Collecting rank_bm25 (from langchain_teddynote)\n",
      "  Using cached rank_bm25-0.2.2-py3-none-any.whl.metadata (3.2 kB)\n",
      "Collecting pinecone-client[grpc] (from langchain_teddynote)\n",
      "  Using cached pinecone_client-6.0.0-py3-none-any.whl.metadata (3.4 kB)\n",
      "Collecting pinecone-text (from langchain_teddynote)\n",
      "  Using cached pinecone_text-0.10.0-py3-none-any.whl.metadata (10 kB)\n",
      "Collecting olefile (from langchain_teddynote)\n",
      "  Using cached olefile-0.47-py2.py3-none-any.whl.metadata (9.7 kB)\n",
      "Collecting pdf2image (from langchain_teddynote)\n",
      "  Using cached pdf2image-1.17.0-py3-none-any.whl.metadata (6.2 kB)\n",
      "Requirement already satisfied: openai in c:\\users\\user\\desktop\\agent\\venv\\lib\\site-packages (from langchain_teddynote) (1.66.3)\n",
      "Collecting anthropic (from langchain_teddynote)\n",
      "  Using cached anthropic-0.49.0-py3-none-any.whl.metadata (24 kB)\n",
      "Collecting deepl (from langchain_teddynote)\n",
      "  Downloading deepl-1.21.1-py3-none-any.whl.metadata (30 kB)\n",
      "Collecting feedparser (from langchain_teddynote)\n",
      "  Using cached feedparser-6.0.11-py3-none-any.whl.metadata (2.4 kB)\n",
      "Requirement already satisfied: tavily-python in c:\\users\\user\\desktop\\agent\\venv\\lib\\site-packages (from langchain_teddynote) (0.5.1)\n",
      "Collecting pandas (from langchain_teddynote)\n",
      "  Using cached pandas-2.2.3-cp310-cp310-win_amd64.whl.metadata (19 kB)\n",
      "Requirement already satisfied: anyio<5,>=3.5.0 in c:\\users\\user\\desktop\\agent\\venv\\lib\\site-packages (from anthropic->langchain_teddynote) (4.9.0)\n",
      "Requirement already satisfied: distro<2,>=1.7.0 in c:\\users\\user\\desktop\\agent\\venv\\lib\\site-packages (from anthropic->langchain_teddynote) (1.9.0)\n",
      "Requirement already satisfied: httpx<1,>=0.23.0 in c:\\users\\user\\desktop\\agent\\venv\\lib\\site-packages (from anthropic->langchain_teddynote) (0.28.1)\n",
      "Requirement already satisfied: jiter<1,>=0.4.0 in c:\\users\\user\\desktop\\agent\\venv\\lib\\site-packages (from anthropic->langchain_teddynote) (0.9.0)\n",
      "Requirement already satisfied: pydantic<3,>=1.9.0 in c:\\users\\user\\desktop\\agent\\venv\\lib\\site-packages (from anthropic->langchain_teddynote) (2.10.6)\n",
      "Requirement already satisfied: sniffio in c:\\users\\user\\desktop\\agent\\venv\\lib\\site-packages (from anthropic->langchain_teddynote) (1.3.1)\n",
      "Requirement already satisfied: typing-extensions<5,>=4.10 in c:\\users\\user\\desktop\\agent\\venv\\lib\\site-packages (from anthropic->langchain_teddynote) (4.12.2)\n",
      "Requirement already satisfied: requests<3,>=2 in c:\\users\\user\\desktop\\agent\\venv\\lib\\site-packages (from deepl->langchain_teddynote) (2.32.3)\n",
      "Collecting sgmllib3k (from feedparser->langchain_teddynote)\n",
      "  Using cached sgmllib3k-1.0.0-py3-none-any.whl\n",
      "Collecting kiwipiepy_model<0.21,>=0.20 (from kiwipiepy->langchain_teddynote)\n",
      "  Using cached kiwipiepy_model-0.20.0-py3-none-any.whl\n",
      "Requirement already satisfied: numpy in c:\\users\\user\\desktop\\agent\\venv\\lib\\site-packages (from kiwipiepy->langchain_teddynote) (2.2.4)\n",
      "Requirement already satisfied: tqdm in c:\\users\\user\\desktop\\agent\\venv\\lib\\site-packages (from kiwipiepy->langchain_teddynote) (4.67.1)\n",
      "Requirement already satisfied: langchain-core<1.0.0,>=0.3.41 in c:\\users\\user\\desktop\\agent\\venv\\lib\\site-packages (from langchain->langchain_teddynote) (0.3.45)\n",
      "Requirement already satisfied: langchain-text-splitters<1.0.0,>=0.3.6 in c:\\users\\user\\desktop\\agent\\venv\\lib\\site-packages (from langchain->langchain_teddynote) (0.3.6)\n",
      "Requirement already satisfied: langsmith<0.4,>=0.1.17 in c:\\users\\user\\desktop\\agent\\venv\\lib\\site-packages (from langchain->langchain_teddynote) (0.3.15)\n",
      "Requirement already satisfied: SQLAlchemy<3,>=1.4 in c:\\users\\user\\desktop\\agent\\venv\\lib\\site-packages (from langchain->langchain_teddynote) (2.0.39)\n",
      "Requirement already satisfied: PyYAML>=5.3 in c:\\users\\user\\desktop\\agent\\venv\\lib\\site-packages (from langchain->langchain_teddynote) (6.0.2)\n",
      "Requirement already satisfied: async-timeout<5.0.0,>=4.0.0 in c:\\users\\user\\desktop\\agent\\venv\\lib\\site-packages (from langchain->langchain_teddynote) (4.0.3)\n",
      "Requirement already satisfied: langgraph-checkpoint<3.0.0,>=2.0.10 in c:\\users\\user\\desktop\\agent\\venv\\lib\\site-packages (from langgraph->langchain_teddynote) (2.0.20)\n",
      "Requirement already satisfied: langgraph-prebuilt<0.2,>=0.1.1 in c:\\users\\user\\desktop\\agent\\venv\\lib\\site-packages (from langgraph->langchain_teddynote) (0.1.3)\n",
      "Requirement already satisfied: langgraph-sdk<0.2.0,>=0.1.42 in c:\\users\\user\\desktop\\agent\\venv\\lib\\site-packages (from langgraph->langchain_teddynote) (0.1.57)\n",
      "Requirement already satisfied: python-dateutil>=2.8.2 in c:\\users\\user\\desktop\\agent\\venv\\lib\\site-packages (from pandas->langchain_teddynote) (2.9.0.post0)\n",
      "Collecting pytz>=2020.1 (from pandas->langchain_teddynote)\n",
      "  Using cached pytz-2025.1-py2.py3-none-any.whl.metadata (22 kB)\n",
      "Collecting tzdata>=2022.7 (from pandas->langchain_teddynote)\n",
      "  Using cached tzdata-2025.1-py2.py3-none-any.whl.metadata (1.4 kB)\n",
      "Collecting pillow (from pdf2image->langchain_teddynote)\n",
      "  Downloading pillow-11.1.0-cp310-cp310-win_amd64.whl.metadata (9.3 kB)\n",
      "Requirement already satisfied: certifi>=2019.11.17 in c:\\users\\user\\desktop\\agent\\venv\\lib\\site-packages (from pinecone-client[grpc]->langchain_teddynote) (2025.1.31)\n",
      "Collecting pinecone-plugin-interface<0.0.8,>=0.0.7 (from pinecone-client[grpc]->langchain_teddynote)\n",
      "  Using cached pinecone_plugin_interface-0.0.7-py3-none-any.whl.metadata (1.2 kB)\n",
      "Requirement already satisfied: urllib3>=1.26.0 in c:\\users\\user\\desktop\\agent\\venv\\lib\\site-packages (from pinecone-client[grpc]->langchain_teddynote) (2.3.0)\n",
      "Collecting googleapis-common-protos>=1.66.0 (from pinecone-client[grpc]->langchain_teddynote)\n",
      "  Downloading googleapis_common_protos-1.69.2-py3-none-any.whl.metadata (9.3 kB)\n",
      "Collecting grpcio>=1.44.0 (from pinecone-client[grpc]->langchain_teddynote)\n",
      "  Downloading grpcio-1.71.0-cp310-cp310-win_amd64.whl.metadata (4.0 kB)\n",
      "Collecting lz4>=3.1.3 (from pinecone-client[grpc]->langchain_teddynote)\n",
      "  Using cached lz4-4.4.3-cp310-cp310-win_amd64.whl.metadata (3.9 kB)\n",
      "Collecting protobuf<6.0,>=5.29 (from pinecone-client[grpc]->langchain_teddynote)\n",
      "  Downloading protobuf-5.29.3-cp310-abi3-win_amd64.whl.metadata (592 bytes)\n",
      "Collecting protoc-gen-openapiv2<0.0.2,>=0.0.1 (from pinecone-client[grpc]->langchain_teddynote)\n",
      "  Using cached protoc_gen_openapiv2-0.0.1-py3-none-any.whl.metadata (1.5 kB)\n",
      "Collecting mmh3<5.0.0,>=4.1.0 (from pinecone-text->langchain_teddynote)\n",
      "  Using cached mmh3-4.1.0-cp310-cp310-win_amd64.whl.metadata (13 kB)\n",
      "Collecting nltk<4.0.0,>=3.9.1 (from pinecone-text->langchain_teddynote)\n",
      "  Using cached nltk-3.9.1-py3-none-any.whl.metadata (2.9 kB)\n",
      "Collecting numpy (from kiwipiepy->langchain_teddynote)\n",
      "  Using cached numpy-1.26.4-cp310-cp310-win_amd64.whl.metadata (61 kB)\n",
      "Requirement already satisfied: python-dotenv<2.0.0,>=1.0.1 in c:\\users\\user\\desktop\\agent\\venv\\lib\\site-packages (from pinecone-text->langchain_teddynote) (1.0.1)\n",
      "Collecting types-requests<3.0.0,>=2.25.0 (from pinecone-text->langchain_teddynote)\n",
      "  Downloading types_requests-2.32.0.20250306-py3-none-any.whl.metadata (2.3 kB)\n",
      "Requirement already satisfied: tiktoken>=0.5.1 in c:\\users\\user\\desktop\\agent\\venv\\lib\\site-packages (from tavily-python->langchain_teddynote) (0.9.0)\n",
      "Requirement already satisfied: exceptiongroup>=1.0.2 in c:\\users\\user\\desktop\\agent\\venv\\lib\\site-packages (from anyio<5,>=3.5.0->anthropic->langchain_teddynote) (1.2.2)\n",
      "Requirement already satisfied: idna>=2.8 in c:\\users\\user\\desktop\\agent\\venv\\lib\\site-packages (from anyio<5,>=3.5.0->anthropic->langchain_teddynote) (3.10)\n",
      "Requirement already satisfied: httpcore==1.* in c:\\users\\user\\desktop\\agent\\venv\\lib\\site-packages (from httpx<1,>=0.23.0->anthropic->langchain_teddynote) (1.0.7)\n",
      "Requirement already satisfied: h11<0.15,>=0.13 in c:\\users\\user\\desktop\\agent\\venv\\lib\\site-packages (from httpcore==1.*->httpx<1,>=0.23.0->anthropic->langchain_teddynote) (0.14.0)\n",
      "Requirement already satisfied: tenacity!=8.4.0,<10.0.0,>=8.1.0 in c:\\users\\user\\desktop\\agent\\venv\\lib\\site-packages (from langchain-core<1.0.0,>=0.3.41->langchain->langchain_teddynote) (9.0.0)\n",
      "Requirement already satisfied: jsonpatch<2.0,>=1.33 in c:\\users\\user\\desktop\\agent\\venv\\lib\\site-packages (from langchain-core<1.0.0,>=0.3.41->langchain->langchain_teddynote) (1.33)\n",
      "Requirement already satisfied: packaging<25,>=23.2 in c:\\users\\user\\desktop\\agent\\venv\\lib\\site-packages (from langchain-core<1.0.0,>=0.3.41->langchain->langchain_teddynote) (24.2)\n",
      "Requirement already satisfied: msgpack<2.0.0,>=1.1.0 in c:\\users\\user\\desktop\\agent\\venv\\lib\\site-packages (from langgraph-checkpoint<3.0.0,>=2.0.10->langgraph->langchain_teddynote) (1.1.0)\n",
      "Requirement already satisfied: orjson>=3.10.1 in c:\\users\\user\\desktop\\agent\\venv\\lib\\site-packages (from langgraph-sdk<0.2.0,>=0.1.42->langgraph->langchain_teddynote) (3.10.15)\n",
      "Requirement already satisfied: requests-toolbelt<2.0.0,>=1.0.0 in c:\\users\\user\\desktop\\agent\\venv\\lib\\site-packages (from langsmith<0.4,>=0.1.17->langchain->langchain_teddynote) (1.0.0)\n",
      "Requirement already satisfied: zstandard<0.24.0,>=0.23.0 in c:\\users\\user\\desktop\\agent\\venv\\lib\\site-packages (from langsmith<0.4,>=0.1.17->langchain->langchain_teddynote) (0.23.0)\n",
      "Requirement already satisfied: click in c:\\users\\user\\desktop\\agent\\venv\\lib\\site-packages (from nltk<4.0.0,>=3.9.1->pinecone-text->langchain_teddynote) (8.1.8)\n",
      "Collecting joblib (from nltk<4.0.0,>=3.9.1->pinecone-text->langchain_teddynote)\n",
      "  Using cached joblib-1.4.2-py3-none-any.whl.metadata (5.4 kB)\n",
      "Requirement already satisfied: regex>=2021.8.3 in c:\\users\\user\\desktop\\agent\\venv\\lib\\site-packages (from nltk<4.0.0,>=3.9.1->pinecone-text->langchain_teddynote) (2024.11.6)\n",
      "Requirement already satisfied: annotated-types>=0.6.0 in c:\\users\\user\\desktop\\agent\\venv\\lib\\site-packages (from pydantic<3,>=1.9.0->anthropic->langchain_teddynote) (0.7.0)\n",
      "Requirement already satisfied: pydantic-core==2.27.2 in c:\\users\\user\\desktop\\agent\\venv\\lib\\site-packages (from pydantic<3,>=1.9.0->anthropic->langchain_teddynote) (2.27.2)\n",
      "Requirement already satisfied: six>=1.5 in c:\\users\\user\\desktop\\agent\\venv\\lib\\site-packages (from python-dateutil>=2.8.2->pandas->langchain_teddynote) (1.17.0)\n",
      "Requirement already satisfied: charset-normalizer<4,>=2 in c:\\users\\user\\desktop\\agent\\venv\\lib\\site-packages (from requests<3,>=2->deepl->langchain_teddynote) (3.4.1)\n",
      "Requirement already satisfied: greenlet!=0.4.17 in c:\\users\\user\\desktop\\agent\\venv\\lib\\site-packages (from SQLAlchemy<3,>=1.4->langchain->langchain_teddynote) (3.1.1)\n",
      "Requirement already satisfied: colorama in c:\\users\\user\\desktop\\agent\\venv\\lib\\site-packages (from tqdm->kiwipiepy->langchain_teddynote) (0.4.6)\n",
      "Requirement already satisfied: jsonpointer>=1.9 in c:\\users\\user\\desktop\\agent\\venv\\lib\\site-packages (from jsonpatch<2.0,>=1.33->langchain-core<1.0.0,>=0.3.41->langchain->langchain_teddynote) (3.0.0)\n",
      "Downloading langchain_teddynote-0.3.44-py3-none-any.whl (48 kB)\n",
      "Using cached anthropic-0.49.0-py3-none-any.whl (243 kB)\n",
      "Downloading deepl-1.21.1-py3-none-any.whl (38 kB)\n",
      "Using cached feedparser-6.0.11-py3-none-any.whl (81 kB)\n",
      "Using cached kiwipiepy-0.20.4-cp310-cp310-win_amd64.whl (1.4 MB)\n",
      "Using cached olefile-0.47-py2.py3-none-any.whl (114 kB)\n",
      "Using cached pandas-2.2.3-cp310-cp310-win_amd64.whl (11.6 MB)\n",
      "Using cached pdf2image-1.17.0-py3-none-any.whl (11 kB)\n",
      "Using cached pinecone_text-0.10.0-py3-none-any.whl (22 kB)\n",
      "Using cached rank_bm25-0.2.2-py3-none-any.whl (8.6 kB)\n",
      "Downloading googleapis_common_protos-1.69.2-py3-none-any.whl (293 kB)\n",
      "Downloading grpcio-1.71.0-cp310-cp310-win_amd64.whl (4.3 MB)\n",
      "   ---------------------------------------- 0.0/4.3 MB ? eta -:--:--\n",
      "   ---------------------------------------- 4.3/4.3 MB 42.7 MB/s eta 0:00:00\n",
      "Using cached lz4-4.4.3-cp310-cp310-win_amd64.whl (99 kB)\n",
      "Using cached mmh3-4.1.0-cp310-cp310-win_amd64.whl (31 kB)\n",
      "Using cached nltk-3.9.1-py3-none-any.whl (1.5 MB)\n",
      "Using cached numpy-1.26.4-cp310-cp310-win_amd64.whl (15.8 MB)\n",
      "Using cached pinecone_plugin_interface-0.0.7-py3-none-any.whl (6.2 kB)\n",
      "Downloading protobuf-5.29.3-cp310-abi3-win_amd64.whl (434 kB)\n",
      "Using cached protoc_gen_openapiv2-0.0.1-py3-none-any.whl (7.9 kB)\n",
      "Using cached pytz-2025.1-py2.py3-none-any.whl (507 kB)\n",
      "Downloading types_requests-2.32.0.20250306-py3-none-any.whl (20 kB)\n",
      "Using cached tzdata-2025.1-py2.py3-none-any.whl (346 kB)\n",
      "Downloading pillow-11.1.0-cp310-cp310-win_amd64.whl (2.6 MB)\n",
      "   ---------------------------------------- 0.0/2.6 MB ? eta -:--:--\n",
      "   ---------------------------------------- 2.6/2.6 MB 30.3 MB/s eta 0:00:00\n",
      "Using cached pinecone_client-6.0.0-py3-none-any.whl (6.7 kB)\n",
      "Using cached joblib-1.4.2-py3-none-any.whl (301 kB)\n",
      "Installing collected packages: sgmllib3k, pytz, mmh3, kiwipiepy_model, tzdata, types-requests, protobuf, pinecone-plugin-interface, pillow, olefile, numpy, lz4, joblib, grpcio, feedparser, rank_bm25, pinecone-client, pdf2image, pandas, nltk, kiwipiepy, googleapis-common-protos, deepl, protoc-gen-openapiv2, pinecone-text, anthropic, langchain_teddynote\n",
      "  Attempting uninstall: numpy\n",
      "    Found existing installation: numpy 2.2.4\n",
      "    Uninstalling numpy-2.2.4:\n",
      "      Successfully uninstalled numpy-2.2.4\n",
      "Successfully installed anthropic-0.49.0 deepl-1.21.1 feedparser-6.0.11 googleapis-common-protos-1.69.2 grpcio-1.71.0 joblib-1.4.2 kiwipiepy-0.20.4 kiwipiepy_model-0.20.0 langchain_teddynote-0.3.44 lz4-4.4.3 mmh3-4.1.0 nltk-3.9.1 numpy-1.26.4 olefile-0.47 pandas-2.2.3 pdf2image-1.17.0 pillow-11.1.0 pinecone-client-6.0.0 pinecone-plugin-interface-0.0.7 pinecone-text-0.10.0 protobuf-5.29.3 protoc-gen-openapiv2-0.0.1 pytz-2025.1 rank_bm25-0.2.2 sgmllib3k-1.0.0 types-requests-2.32.0.20250306 tzdata-2025.1\n"
     ]
    }
   ],
   "source": [
    "! pip install langchain_teddynote"
   ]
  },
  {
   "cell_type": "code",
   "execution_count": 45,
   "metadata": {},
   "outputs": [
    {
     "name": "stdout",
     "output_type": "stream",
     "text": [
      "Collecting langchain_openai\n",
      "  Downloading langchain_openai-0.3.8-py3-none-any.whl.metadata (2.3 kB)\n",
      "Requirement already satisfied: langchain-core<1.0.0,>=0.3.42 in c:\\users\\user\\desktop\\agent\\venv\\lib\\site-packages (from langchain_openai) (0.3.45)\n",
      "Requirement already satisfied: openai<2.0.0,>=1.58.1 in c:\\users\\user\\desktop\\agent\\venv\\lib\\site-packages (from langchain_openai) (1.66.3)\n",
      "Collecting tiktoken<1,>=0.7 (from langchain_openai)\n",
      "  Using cached tiktoken-0.9.0-cp310-cp310-win_amd64.whl.metadata (6.8 kB)\n",
      "Requirement already satisfied: langsmith<0.4,>=0.1.125 in c:\\users\\user\\desktop\\agent\\venv\\lib\\site-packages (from langchain-core<1.0.0,>=0.3.42->langchain_openai) (0.3.15)\n",
      "Requirement already satisfied: tenacity!=8.4.0,<10.0.0,>=8.1.0 in c:\\users\\user\\desktop\\agent\\venv\\lib\\site-packages (from langchain-core<1.0.0,>=0.3.42->langchain_openai) (9.0.0)\n",
      "Requirement already satisfied: jsonpatch<2.0,>=1.33 in c:\\users\\user\\desktop\\agent\\venv\\lib\\site-packages (from langchain-core<1.0.0,>=0.3.42->langchain_openai) (1.33)\n",
      "Requirement already satisfied: PyYAML>=5.3 in c:\\users\\user\\desktop\\agent\\venv\\lib\\site-packages (from langchain-core<1.0.0,>=0.3.42->langchain_openai) (6.0.2)\n",
      "Requirement already satisfied: packaging<25,>=23.2 in c:\\users\\user\\desktop\\agent\\venv\\lib\\site-packages (from langchain-core<1.0.0,>=0.3.42->langchain_openai) (24.2)\n",
      "Requirement already satisfied: typing-extensions>=4.7 in c:\\users\\user\\desktop\\agent\\venv\\lib\\site-packages (from langchain-core<1.0.0,>=0.3.42->langchain_openai) (4.12.2)\n",
      "Requirement already satisfied: pydantic<3.0.0,>=2.5.2 in c:\\users\\user\\desktop\\agent\\venv\\lib\\site-packages (from langchain-core<1.0.0,>=0.3.42->langchain_openai) (2.10.6)\n",
      "Requirement already satisfied: anyio<5,>=3.5.0 in c:\\users\\user\\desktop\\agent\\venv\\lib\\site-packages (from openai<2.0.0,>=1.58.1->langchain_openai) (4.9.0)\n",
      "Requirement already satisfied: distro<2,>=1.7.0 in c:\\users\\user\\desktop\\agent\\venv\\lib\\site-packages (from openai<2.0.0,>=1.58.1->langchain_openai) (1.9.0)\n",
      "Requirement already satisfied: httpx<1,>=0.23.0 in c:\\users\\user\\desktop\\agent\\venv\\lib\\site-packages (from openai<2.0.0,>=1.58.1->langchain_openai) (0.28.1)\n",
      "Requirement already satisfied: jiter<1,>=0.4.0 in c:\\users\\user\\desktop\\agent\\venv\\lib\\site-packages (from openai<2.0.0,>=1.58.1->langchain_openai) (0.9.0)\n",
      "Requirement already satisfied: sniffio in c:\\users\\user\\desktop\\agent\\venv\\lib\\site-packages (from openai<2.0.0,>=1.58.1->langchain_openai) (1.3.1)\n",
      "Requirement already satisfied: tqdm>4 in c:\\users\\user\\desktop\\agent\\venv\\lib\\site-packages (from openai<2.0.0,>=1.58.1->langchain_openai) (4.67.1)\n",
      "Collecting regex>=2022.1.18 (from tiktoken<1,>=0.7->langchain_openai)\n",
      "  Using cached regex-2024.11.6-cp310-cp310-win_amd64.whl.metadata (41 kB)\n",
      "Requirement already satisfied: requests>=2.26.0 in c:\\users\\user\\desktop\\agent\\venv\\lib\\site-packages (from tiktoken<1,>=0.7->langchain_openai) (2.32.3)\n",
      "Requirement already satisfied: exceptiongroup>=1.0.2 in c:\\users\\user\\desktop\\agent\\venv\\lib\\site-packages (from anyio<5,>=3.5.0->openai<2.0.0,>=1.58.1->langchain_openai) (1.2.2)\n",
      "Requirement already satisfied: idna>=2.8 in c:\\users\\user\\desktop\\agent\\venv\\lib\\site-packages (from anyio<5,>=3.5.0->openai<2.0.0,>=1.58.1->langchain_openai) (3.10)\n",
      "Requirement already satisfied: certifi in c:\\users\\user\\desktop\\agent\\venv\\lib\\site-packages (from httpx<1,>=0.23.0->openai<2.0.0,>=1.58.1->langchain_openai) (2025.1.31)\n",
      "Requirement already satisfied: httpcore==1.* in c:\\users\\user\\desktop\\agent\\venv\\lib\\site-packages (from httpx<1,>=0.23.0->openai<2.0.0,>=1.58.1->langchain_openai) (1.0.7)\n",
      "Requirement already satisfied: h11<0.15,>=0.13 in c:\\users\\user\\desktop\\agent\\venv\\lib\\site-packages (from httpcore==1.*->httpx<1,>=0.23.0->openai<2.0.0,>=1.58.1->langchain_openai) (0.14.0)\n",
      "Requirement already satisfied: jsonpointer>=1.9 in c:\\users\\user\\desktop\\agent\\venv\\lib\\site-packages (from jsonpatch<2.0,>=1.33->langchain-core<1.0.0,>=0.3.42->langchain_openai) (3.0.0)\n",
      "Requirement already satisfied: orjson<4.0.0,>=3.9.14 in c:\\users\\user\\desktop\\agent\\venv\\lib\\site-packages (from langsmith<0.4,>=0.1.125->langchain-core<1.0.0,>=0.3.42->langchain_openai) (3.10.15)\n",
      "Requirement already satisfied: requests-toolbelt<2.0.0,>=1.0.0 in c:\\users\\user\\desktop\\agent\\venv\\lib\\site-packages (from langsmith<0.4,>=0.1.125->langchain-core<1.0.0,>=0.3.42->langchain_openai) (1.0.0)\n",
      "Requirement already satisfied: zstandard<0.24.0,>=0.23.0 in c:\\users\\user\\desktop\\agent\\venv\\lib\\site-packages (from langsmith<0.4,>=0.1.125->langchain-core<1.0.0,>=0.3.42->langchain_openai) (0.23.0)\n",
      "Requirement already satisfied: annotated-types>=0.6.0 in c:\\users\\user\\desktop\\agent\\venv\\lib\\site-packages (from pydantic<3.0.0,>=2.5.2->langchain-core<1.0.0,>=0.3.42->langchain_openai) (0.7.0)\n",
      "Requirement already satisfied: pydantic-core==2.27.2 in c:\\users\\user\\desktop\\agent\\venv\\lib\\site-packages (from pydantic<3.0.0,>=2.5.2->langchain-core<1.0.0,>=0.3.42->langchain_openai) (2.27.2)\n",
      "Requirement already satisfied: charset-normalizer<4,>=2 in c:\\users\\user\\desktop\\agent\\venv\\lib\\site-packages (from requests>=2.26.0->tiktoken<1,>=0.7->langchain_openai) (3.4.1)\n",
      "Requirement already satisfied: urllib3<3,>=1.21.1 in c:\\users\\user\\desktop\\agent\\venv\\lib\\site-packages (from requests>=2.26.0->tiktoken<1,>=0.7->langchain_openai) (2.3.0)\n",
      "Requirement already satisfied: colorama in c:\\users\\user\\desktop\\agent\\venv\\lib\\site-packages (from tqdm>4->openai<2.0.0,>=1.58.1->langchain_openai) (0.4.6)\n",
      "Downloading langchain_openai-0.3.8-py3-none-any.whl (55 kB)\n",
      "Using cached tiktoken-0.9.0-cp310-cp310-win_amd64.whl (894 kB)\n",
      "Using cached regex-2024.11.6-cp310-cp310-win_amd64.whl (274 kB)\n",
      "Installing collected packages: regex, tiktoken, langchain_openai\n",
      "Successfully installed langchain_openai-0.3.8 regex-2024.11.6 tiktoken-0.9.0\n"
     ]
    }
   ],
   "source": [
    "! pip install langchain_openai"
   ]
  },
  {
   "cell_type": "code",
   "execution_count": 31,
   "metadata": {},
   "outputs": [],
   "source": [
    "def duckduckgo_news_search(query: str, region: str = \"ko-kr\", max_result: int = 5) -> List[dict]:\n",
    "    \"\"\"_summary_\n",
    "\n",
    "    Args:\n",
    "        query (str): input text search \n",
    "        region (str, optional): region . Defaults to \"ko-kr\".\n",
    "        max_result (int, optional): result len. Defaults to 5.\n",
    "\n",
    "    Returns:\n",
    "        List[dict]: news list\n",
    "    \"\"\"\n",
    "    wrapper = DuckDuckGoSearchAPIWrapper(region=region, time=\"d\", max_results=max_result)\n",
    "    search = DuckDuckGoSearchResults(api_wrapper=wrapper, source=\"news\", output_format=\"list\")\n",
    "    results = search.run(query)\n",
    "    return results"
   ]
  },
  {
   "cell_type": "code",
   "execution_count": 37,
   "metadata": {},
   "outputs": [
    {
     "data": {
      "text/plain": [
       "[{'snippet': '한눈에 보는 오늘 : 사회 - 뉴스 : 김새론, 김수현 /사진=변성현 한경닷컴 기자고(故) 김새론이 골드메달리스트로부터 받은 1, 2차 내용증명을 확인한 결과 채무변제를 강경하게 촉구하던 소속사가 김수현과의 사진 공개 후 \"채무 변제와 방법을 협의하자\"며 입장을 다소 바꾼 것으로 확인됐다.',\n",
       "  'title': '[단독] 김수현 측, 김새론 사진 공개에 태도 돌변…\"협의 의사\" : 네이트 뉴스',\n",
       "  'link': 'https://news.nate.com/view/20250318n11338'},\n",
       " {'snippet': '배우 김수현(왼쪽)과 고 김새론 경향신문 자료사진 ... 시기 등에 있어 전향적으로 협의할 의사가 있다\"면서 \"이 사건 채무와 관련해 의뢰인 회사 소속 임직원 또는 배우들에게 연락하는 일은 삼가해 줄 것을 요청한다\"고 했다.',\n",
       "  'title': '김수현 측, 김새론에 \"직접 연락하지 말라\" 내용증명 압박 - 스포츠경향',\n",
       "  'link': 'https://sports.khan.co.kr/article/202503181103003'},\n",
       " {'snippet': '김새론 유족의 법률대리인인 법무법인 부유의 부지석 대표변호사는 17일 오후 서울경찰청 앞에서 기자회견을 열고 \"김수현 소속사가 1차 내용증명을 보낸 후 고인이 김수현에게 \\'살려 달라\\'는 문자를 보내자 김수현은 연락 한 통 없었고 대신 소속사를 통해 2 ...',\n",
       "  'title': '김새론 사진 올리자 \"법적문제\"…김수현 \\'2차 내용증명\\' 보니',\n",
       "  'link': 'https://www.kmib.co.kr/article/view.asp?arcid=0027871125'},\n",
       " {'snippet': '사진=텐아시아DB 고(故) 김새론 측이 김수현 측에게 2차 내용증명을 받았다고 폭로했다. 김새론 유족의 법률대리인인 법무법인 부유의 부지석 대표 ...',\n",
       "  'title': '종합 故 김새론 김수현 지켜주려 했는데…유족 측 2차 내용증명→친동생 증언 폭로 | 텐아시아',\n",
       "  'link': 'https://tenasia.hankyung.com/article/2025031802774'}]"
      ]
     },
     "execution_count": 37,
     "metadata": {},
     "output_type": "execute_result"
    }
   ],
   "source": [
    "duckduckgo_news_search(\"김수현 김새론 사건\")"
   ]
  },
  {
   "cell_type": "code",
   "execution_count": null,
   "metadata": {},
   "outputs": [],
   "source": [
    "from pydantic import BaseModel\n",
    "from bs4 import BeautifulSoup as bs \n",
    "import requests\n",
    "from langchain.chat_models import ChatOpenAI\n",
    "from langchain.text_splitter import RecursiveCharacterTextSplitter\n",
    "from langchain.chains.summarize import load_summarize_chain\n",
    "from langchain import PromptTemplate\n",
    "from langchain.tools import tool  # @tool 데코레이터\n",
    "from langchain.schema import BaseMessage, AIMessage\n",
    "from typing import TypedDict, Sequence, Annotated\n",
    "\n",
    "def content_crawler(url: str) -> str:\n",
    "    \"\"\"_summary_\n",
    "\n",
    "\n",
    "    Args:\n",
    "        url (str): Duck Duck Go Search 통해 파싱한 링크\n",
    "\n",
    "    Returns:\n",
    "        str: 정리된 내용 \n",
    "    \"\"\"\n",
    "    try:\n",
    "        headers = {\n",
    "            \"User-Agent\": \"Mozilla/5.0 (Windows NT 10.0; Win64; x64) AppleWebKit/537.36 (KHTML, like Gecko) Chrome/134.0.0.0 Safari/537.36\"\n",
    "        }\n",
    "        \n",
    "        for result in url:\n",
    "            urls = result[\"link\"]\n",
    "            \n",
    "            response = requests.get(urls, headers=headers, timeout=10)\n",
    "            soup = bs(response.text, \"lxml\")\n",
    "            text_content = soup.get_text(separator=\"\\n\", strip=True)\n",
    "            text_splitter = RecursiveCharacterTextSplitter(\n",
    "                separators=[\"\\n\\n\", \"\\n\"], chunk_size=10000, chunk_overlap=500\n",
    "            )\n",
    "            docs = text_splitter.create_documents([text_content])\n",
    "            \n",
    "            return docs\n",
    "    except Exception as e:\n",
    "        return f\"Error: {str(e)}\"\n"
   ]
  },
  {
   "cell_type": "code",
   "execution_count": null,
   "metadata": {},
   "outputs": [
    {
     "data": {
      "text/plain": [
       "[Document(metadata={}, page_content='[단독] 김수현 측, 김새론 사진 공개에 태도 돌변…\"협의 의사\" : 네이트 연예\\nNATE\\n연예\\n뉴스\\n스포츠\\n판\\n날씨\\n네이트 메인으로\\n|\\n사이트맵\\n검색영역\\n검색\\n홈\\n연예가화제\\n방송/가요\\n영화\\n해외연예\\nPOLL\\n포토/TV\\n아이돌24시\\n[단독] 김수현 측, 김새론 사진 공개에 태도 돌변…\"협의 의사\"\\n한국경제\\n원문\\n기사전송\\n2025-03-18 10:31\\n최종수정\\n2025-03-18 14:09\\n-\\n-\\n공유하기\\n네이트온\\n페이스북\\n엑스\\nURL복사\\nAI\\n챗으로 요약\\n가\\n1\\n작게\\n가\\n2\\n보통\\n가\\n3\\n크게\\n가\\n4\\n아주\\n크게\\n가\\n5\\n가장\\n크게\\nAI\\n요약\\n기사 제목과 본문 내용을 자동 요약한 내용입니다.\\n전체 내용을 이해하기 위해서는 기사 본문 전체를 확인하는 것이 더 좋습니다.\\nAI\\n챗이 열심히 분석 중입니다. 잠시만 기다려주세요.\\nAI\\n챗\\n바로가기\\n김새론 측 \"사실상 법적대응 하겠다는 협박\"\\n소속사 \"김새론과 골드메달리스트 사이 문제\"\\n김새론, 김수현 /사진=변성현 한경닷컴 기자\\n고(故) 김새론이 골드메달리스트로부터 받은 1, 2차 내용증명을 확인한 결과 채무변제를 강경하게 촉구하던 소속사가 김수현과의 사진 공개 후 \"채무 변제와 방법을 협의하자\"며 입장을 다소 바꾼 것으로 확인됐다.\\n한경닷컴이 18일 입수한 내용증명 2건 중 첫번째 문서에는 \"골드메달리스트이 대리인으로서 다음과 같이 귀하에 대하여 채무변제를 촉구한다\"는 내용이 담겼다. 해당 내용증명은 2024년 3월 15일 자로 발송됐으며 의뢰인란엔 \\'골드메달리스트\\'가, 수신인엔 김새론의 개명 후 이름인 \\'김아임\\'이 기재되어 있다.\\n이어 \"2022년 11월 22일 의뢰인으로부터 6억8640만9653원을 차용하며 이를 2023년 12월 31일까지 변제하기로 하는 금전소비대차계약을 체결한 바 있다\"며 \"귀하는 대여금 채무의 변제기가 도래하였음에도 이를 변제하지 않고 있다\"고 했다.\\n그러면서 \"저희 법무법인은 의뢰인을 대리하여 귀하에게 위 대여금 채무의 변제를 촉구하오니 조속한 시일 내 아래 계좌로 위 대여금 전액을 입금하시길 바란다. 만일 귀하께서 위 대여금을 입금하지 않을 경우 귀하에 대하여 민형사상 법적 조치를 취할 예정임을 알려드린다\"고 덧붙였다.\\n김수현 소속사 골드메달리스트가 김새론(개명 후 김아임)에게 보낸 1차 내용증명. /사진=권영찬 한국자살방지협회 소장 제공\\n이후 김새론은 김수현과 소속사 임직원들에 채무 변제 기간을 연장해 달라는 취지의 연락을 했으나 답을 받지 못했다. 김새론은 자신의 연락을 받지 않는 김수현에게 수차례 전화와 문자를 보냈으며 닿지 않자 지인의 전화를 이용해 걸기도 했다. 당시 문자 메시지에는 \"안 갚는 게 아니고 못 갚는거다. 살려달라\"는 내용이 담겼다. 하지만 김수현이 이에 응답하지 않자 김새론은 3월 24일 새벽 자신의 소셜미디어에 김수현과 볼을 맞댄 사진을 게재했다 3분만에 삭제했다. 소속사 측으로 연락이 오게 하기 위해서였다.\\n김새론 유족 측은 이런 일이 발생한 뒤 김새론이 2차 내용증명을 받았다며 문건을 공개했다.\\n김수현 측 법무법인은 3월 25일 내용증명을 보내 \"3월 15일자 내용증명을 통해 채무 변제를 촉구한 바 있다\"며 \"채무변제를 촉구하게 된 이유는 의뢰인 회사가 귀하의 대여금 채무 변제기가 도래했음에도 이를 귀하께 청구하지 않을 경우 의뢰인 회사 임원들에게 배임죄가 성립할 소지가 있기 때문\"이라고 설명했다.\\n또 \"채무변제의 어려움을 호소한 것과 관련해 귀하와 채무 변제의 방법, 시기 등에 있어서 전향적으로 협의할 의사가 있다. 귀하가 가능한 채무변제 일정을 법무법인에 제시해 주기를 바란다\"고 부연했다.\\n아울러 채무변제와 관련해 골드메달리스트 임직원과 배우에게 연락하는 일을 삼가해 달라고 강조했다.\\n김새론이 소셜미디어에 올린 사진을 언급하며 김수현이 당시 출연 중이던 드라마 \\'눈물의 여왕\\'에 대한 이야기도 꺼냈다.\\n김수현 측 법률대리인은 \"해당 배우는 현재 방영 중인 드라마에 출연 중인 관계로 귀하의 행위는 해당 배우와 의뢰인 회사뿐 아니라 드라마 제작사, 타 출연 배우, 스텝, 방송국, OTT 등의 관계자들에게 영향을 미칠 수 있으며 나아가 큰 법적 문제를 야기할 수 있는 중차대한 사안\"이라고 지적했다.\\n그러면서 \"3월 24일경의 행위와 같이 의뢰인 회사를 비롯한 관계자들 영업에 큰 차질을 빚을 수 있는 행위는 자제해 주실 것을 당부드린다\"고 말했다.\\n1차 내용증명을 보낸 뒤 10일 만에 김수현 소속사 측이 김새론에게 보낸 2차 내용 증명. /사진=권영찬 한국자살방지협회 소장 제공\\n1차 내용증명에서 강경한 입장을 보였던 김수현 측은 2차 내용증명에서는 정중한 표현과 부탁조의 문구를 담았다. 이는 김새론이 사진을 공개한 후 김수현 측에 미묘한 변화가 있었던 것으로 보이며, 전향적으로 협의할 의사가 있음을 내비친 배경으로 해석된다.\\n하지만 김새론 유가족 법률대리인인 부지석 변호사는 \"소속사가 말한 거처럼 배임죄에 해당하기 때문에 어쩔 수 없다는 점이 언급되기는 하지만, 사실상 기간을 줄 테니 반드시 채무를 변제하라는 내용이었다\"고 주장했다.\\n부 변호사는 \"김수현 소속사 배우들과 직접 연락하지 말라고 하고, 사진을 올린 행위에 대해서 법적 대응을 하겠다는 협박 내용이었다\"고 강조했다. 김새론 측은 2차 내용증명 이후 김수현으로부터 연락은 단 한 차례도 없었다고 덧붙였다.\\n이에 김새론 유가족은 김수현에 대한 법적 대응을 시사했다.\\n한편 가세연은 지난 10일 김새론이 만 15세였던 2015년 11월부터 김수현과 6년간 교제했고, 골드메달리스트가 음주 교통사고 등 수습 금액인 7억원의 돈을 돌려줄 것을 요구하는 내용증명을 발송했다고 주장했다.\\n이와 관련해 김수현 소속사 골드메달리스트는 \"김수현과 김새론은 김새론이 성인이 된 이후인 2019년 여름부터 2020년 가을까지 교제했다. 김수현이 미성년자 시절의 김새론과 사귀었다는 것은 사실이 아니다\"라고 선을 그었다.\\n김수현이 김새론의 경제적 문제를 외면하고 내용증명을 보냈다는 의혹과 관련해 \"채무 문제는 모두 골드메달리스트와 김새론 간의 문제였다. 김수현이 김새론에게 개인적으로 돈을 빌려줬다거나, 이를 갑자기 돌려받으려 했다는 것은 억측이다. 김수현은 김새론에게 돈을 빌려준 적도 없고, 변제를 촉구한 사실도 없으며, 그럴 지위에 있지 않았다\"라고 해명했다.\\n김예랑 한경닷컴 기자 yesrang@hankyung.com\\n관련기사\\n\"오늘도 불기둥 가즈아\" 방산주 종토방 축제\\n콧대 높던 5성급마저…제주 심상치 않다는데\\n맘스터치, 日서 잘 나가더니…역대급 프로젝트\\n\\'치킨집보다 훨씬 낫네\\'…고스펙 6070 우르르\\n사지마비 환자가 \\'대박\\'…머스크 \\'또\\' 일냈다\\n최고예요\\n0\\n훈훈해요\\n0\\n어이없어요\\n0\\n속상해요\\n0\\n화나요\\n0\\n오늘의 연예 포토\\n김수현 측 \"故 김새론 집 엘베男, 김수현...\\n김수현 측, 12페이지 걸쳐 반박 \"故 김새...\\n\"김수현 언팔해\" 정해인 임시완, 해외 팬...\\n김수현 측, 김새론 사진 공개에 태도 돌...\\n이전\\n1\\n/1\\n다음\\n썰\\n커뮤니티에서 이 기사의 반응은?\\n자세히 보기 닫기\\n게시글의 내용은 \\'썰\\'커뮤니티 사용자들의 자유로운 의견으로\\n네이트 뉴스와는 무관하며, \\'인기 많은\\' 게시글 순으로 노출됩니다.\\n더보기\\n기사에 대해 최초 썰 작성자가 될 수 있습니다!\\n링크로 이야기하는 네이트 썰에서 기사에 대한 이야기를 나눠보세요.\\n썰 작성하러 가기\\n이 기사에 대해 이야기를 나누고 싶다면?\\n링크로 이야기하는 네이트썰에 참여하세요!\\n썰 작성하러 가기\\n이 기사에 대한 AI요약 의견\\n자세히 보기 닫기\\nOpenAI에서 제공하는 생성형 AI모델을 기반으로 썰 게시글의\\n긍정 및 부정 의견을 분석하여 결과를 제공하기 때문에 정확하지 않을 수 있습니다.\\n긍정/부정 의견\\n자세히 보기\\n긍정적 의견\\n부정적 의견\\n종합 의견\\n틈틈이 짧은 재미! 추천 숏폼\\n[연예]\\n아이돌 24시\\n르세라핌 김채원, 아찔하게 흘러...\\n태연, 입술도 안 바른 진짜 민낯...\\n있지 예지 \\'초미니 원피스로 드...\\n아일릿 윤아, 밤중 입국에 \\'민낯...\\n네이트 홈으로\\n연예 홈으로\\n맨위로\\n실시간 급상승 관심뉴스\\n시사\\n1\\n응급실 뺑뺑이 돌다 구급차 출산…국회 온 119대원, 조끼 벗고 일침\\n동일\\n2\\n\\'尹 탄핵\\' 외치다 쓰러진 민주당원 사망…李 \"가슴이 미어져\"\\n동일\\n3\\n\"벌써 며칠째\"…아파트 출입구 막은 테슬라 \\'주차빌런\\'\\n동일\\n4\\n박찬대 \"참을 만큼 참았다…최상목, 내일까지 마은혁 임명하라\"\\n동일\\n5\\n검찰, 김성훈 구속영장 청구 고심…\"경찰 소명 여전히 부족\"\\n동일\\n6\\n국방부, 707단장 등 계엄관련 기소된 군인 6명 보직해임\\n동일\\n7\\n\"\\'각하\\' 보고 싶습니다\"…이철우 경북지사가 올린 사진\\n동일\\n8\\n崔대행 \"헌재 결정 존중·수용해 주실 것을 국민께 간곡히 호소\"\\n상승\\n1\\n9\\n이낙연 \"민주당, 싫어하는 사람 더 많은 이재명 말고 다른 후보 내야\"\\n상승\\n1\\n10\\n신천지 2인자, \"이만희 총회장  윤OO과 직접 통화\"\\n상승\\n1\\n11\\n\"ADHD로 수감 생활 어려워요\"…\\'서부지법 난동\\' 가담자 보석 신청\\n상승\\n1\\n12\\n법원 출석하는 김혜경\\n상승\\n3\\n13\\n尹 탄핵 여전히 \\'안갯속\\'…4월 선고설도 솔솔\\n상승\\n1\\n14\\n\"이재명 대통령 되면 히틀러 나라 돼\"…국민의힘 당직자 연수에서 나온 주장들\\n하락\\n6\\n15\\n차기 대통령 적합도, 이재명 45%로 \\'1위\\'…김문수 17%·한동훈 5%\\n상승\\n1\\n랭킹 TOP 100 전체보기\\n이전\\n1\\n/2\\n다음\\n16\\n개 300만마리 총살·독살…월드컵 개최지의 \\'잔혹 거리 청소\\'\\n하락\\n3\\n17\\n단식중 구급대에 의해 병원으로 이송되는 민형배 의원\\n동일\\n18\\n崔대행, \\'개의 정족수 3인\\' 방통위법 거부권…\"위헌성 상당\"\\n동일\\n19\\n헌재 게시판에 \\'국민저항권 발동\\' 글 쇄도…\\'제2 서부지법 난동\\' 우려\\n상승\\n2\\n20\\n\"가슴 만져\" \"유산시켜\"…\\'90대 이웃 성폭행\\' 이장, 피해자 더 있나\\n동일\\n21\\n실내 흡연 지적했더니…\"담배 냄새 싫어하는 건 개취\"\\n상승\\n1\\n22\\n유골함 훔친 중국인에 제주 술렁…경찰 \\'무사증 보완반\\' 꾸렸다\\n상승\\n2\\n23\\n이준석 \"尹대통령, 4년 중임제였어도 사고쳤을 것…아주 이상한 사람\"\\n하락\\n4\\n24\\n권성동 \"지방에 추가 주택 구입시 다주택자 중과세 폐지\"\\n하락\\n1\\n25\\n尹이 말해야 끝난다…\\'헌재 결정 승복\\' 공방 속 열흘째 침묵\\n동일\\n26\\n25세 만삭 아내가 남긴 \\'95억 사망보험금\\'…돈벼락 진실은?\\n동일\\n27\\n\"尹 탄핵 가능성 60~70%\"…헌재 선고 후 韓 경제 향방은\\n동일\\n28\\n대치동 초등생에 \"아빠 의사냐\"\"아파트 어디?\"…\\'호구조사\\' 논란\\n상승\\n3\\n29\\n폭설에도 은박지 두르고 1인시위\\n하락\\n1\\n30\\n계엄으로 두쪽난 대한민국…\"尹, 헌재 승복‧통합 메시지 내야\"\\n하락\\n1\\n랭킹 TOP 100 전체보기\\n이전\\n2\\n/2\\n다음\\n실시간 급상승 시사 관심뉴스 더보기\\n스포츠\\n1\\n신유빈, 中 대회 3일 만에 \\'광고 모델료\\' 1억 원 기부…소아·청소년 환아 지원\\n동일\\n2\\n\\'홍명보호\\' 대충격! 네덜란드서 쏟아진 \\'맹비난\\'…막 복귀한 \\'황인범 차출\\'→\"터무니 없다\"\\n상승\\n1\\n3\\n\"168㎝ 이상, 항공과 女학생\"…기아챔피언스필드 \\'알바\\' 자격 논란\\n상승\\n1\\n4\\n\\'후지산이 무너지고 있습니다\\' 송재익 캐스터 별세\\n하락\\n2\\n5\\n\"후지산이 무너지고 있습니다\" 송재익 캐스터 별세(종합)\\nnew\\n6\\n\"일하는데 왜 돈 없어? 막 써서겠지\"…캥거루족 울린 윤성빈 경솔 발언\\n하락\\n1\\n7\\n에브라, 충격 폭로 \"박지성 성격 나쁜 편…사람들 착각\"  (맨인유럽)\\n하락\\n1\\n8\\n\\'韓 유일 40홈런 유격수\\' 강정호의 자신감 \"3개월 준비하고 KBO 가면 골든글러브 받을 수 있지 않을까\"\\n하락\\n1\\n9\\n\"팬들과 그라운드가 그립다\"…조규성, 깔끔해진 머리로 근황 공개\\n동일\\n10\\n\"단독콘서트예요?\" 고척만 생존, 폭설에 4구장 취소…키움의 마지막 점검 \\'5억팔\\' 정현우 출격→\"5이닝 예정\"\\n상승\\n1\\n11\\n\"러시아 쇼트트랙 상징\"…푸틴 훈장→영웅 대접, 빅토르 안 향한 러 빙상연맹 극찬\\n상승\\n2\\n12\\n\\'꿀 떨어지네\\' 손흥민, QPR 떠난 \\'토트넘 후배\\' 양민혁 오랜만에 보자 \"잘 지냈어?\" 화답\\n상승\\n2\\n13\\n토트넘 포기 선언, \\'1120\\'억에 결국 매각한다…레알 마드리드 이적 \\'가속화\\'\\n하락\\n3\\n14\\n박지성, 붕어빵 子과 다정한 산책 데이트 근황…커플룩도 맞췄네\\n상승\\n2\\n15\\n오현규,\\'머리카락은 자르겠습니다\\'\\n상승\\n11\\n랭킹 TOP 100 전체보기\\n이전\\n1\\n/2\\n다음\\n16\\n\"나를 강하게 유지해준다\"…\\'40세\\' 호날두, \\'최고의 몸 유지 비결\\'은 포르투갈 전통 요리\\n하락\\n8\\n17\\n토트넘 결단 \"포스테코글루 경질\" 英 텔레그래프\\n하락\\n5\\n18\\n안면 보호 마스크 쓴 조현우\\n상승\\n1\\n19\\n\"ABS, 구장별로 미세하게 다른 느낌…(KBO가)다시 조정하지 않겠나\" 꽃범호 솔직반응, 땅에 박힌 공도 스트라이크\\n하락\\n4\\n20\\n1억 단기 알바가 14억 정규직 됐다…한화 154km 외인의 대반전 드라마, 올해는 벌써부터 맹활약 예고\\n하락\\n3\\n21\\n\\'초유의 시범경기 벤클 경험\\' 이호준 감독 \"내가 LG에 밉보였나 싶었다니까요\"\\n하락\\n3\\n22\\n푸이그의 호언장담 \"키움 꼴찌 안 해, 절대 10등은 아니다\"\\n상승\\n2\\n23\\n홍명보 \\'작심 발언\\'에 해외 팬들이 분노 \"돈은 뮌헨이 주는데\"\\n동일\\n24\\n\\'타율 9푼5리\\' 65억 포수, 개막전 코앞인데 문제없나…\"포수 트레이드 없다\"고 했는데\\n상승\\n16\\n25\\n\"후지산이 무너졌다\" 송재익 캐스터, 별세···향년 82세\\n상승\\n6\\n26\\n역린 건드린 KIA 홍종표…야유보다 무서운 無응원\\n하락\\n6\\n27\\n\\'누가 우리 꼴찌래\\' 신인 여동욱, 김원중 무너뜨린 결승포…키움, 롯데 꺾고 시범경기 공동 3위 마감 \\'대반전\\'\\n하락\\n6\\n28\\n\"손흥민, 화난 표정 지어도 동정심 안 생겨\" 토트넘팬들 선 넘네…\\'10년 448경기 173골\\' 레전드를 계약 해지?\\n하락\\n3\\n29\\n\\'김민재 부상 OUT\\' 홍명보 감독 분노→독일 현지 들끓는다…\"韓 감독, KIM 부상 바이에른 뮌헨 탓으로 돌려\"\\n하락\\n7\\n30\\n\\'177㎏ 참치해체쇼\\' 못 간 LAD 감독 \"질투난다\" 고백, 대신 \"난 스테이크 먹었어, 인생 최고였지\"\\n상승\\n9\\n랭킹 TOP 100 전체보기\\n이전\\n2\\n/2\\n다음\\n실시간 급상승 스포츠 관심뉴스 더보기\\n연예\\n1\\n김수현, 디즈니+가 움직이면 \\'파산\\' 가능성↑\\n동일\\n2\\n김수현 측, 김새론 사진 공개에 태도 돌변…\"협의 의사\"\\n동일\\n3\\n김수현 측 \"故김새론 \\'눈여\\'로 협박 NO…서예지 음해도 사실 아냐\" 12페이지로 반박\\n동일\\n4\\n김수현 측 \"故김새론 조문 다녀왔다…팬 SNS 계정 사진은 타인\"\\n동일\\n5\\n\"김수현 김새론 만남 뭐가 문제?\"라던 김갑수, 결국 \\'매불쇼\\' 코너 영구 폐지\\n동일\\n6\\n김수현 측 \"故 김새론 집 엘베男, 김수현 아닌 타인\"\\n상승\\n4\\n7\\n한가인 이어 이청아?…\\'이수지 패러디\\' 또 지목 당했다 \\'갑론을박\\'\\n상승\\n1\\n8\\n성동일 子 성준, 한양대 공대 진학…\"대치동서 알바, 수학 머리 타고나\" (가장멋진류진)\\n하락\\n1\\n9\\n\"김수현, 미성년과 교제? 나쁜일 아냐…일찍 사회화된 15살이 27살 만난 것\" 김갑수 발언 논란\\n하락\\n3\\n10\\n김장훈, 티켓 판매 부진으로 공연 취소 \"혼란한 시국 탓 문화 죽었다\"\\n하락\\n1\\n11\\n중학생 故 김새론과 김수현 연애, 가족 뭐했냐고? \"돈 많은 남자라고 좋아했겠냐\"(가세연)\\n동일\\n12\\n\\'유산\\' 박시은♥진태현, 아이 포기 안 했다…새벽 텐트 속 \"간절한 마음\" (\\'동상이몽2\\')\\n동일\\n13\\n백종원 고개 숙였는데 또 논란…\"농약분무기 주스, 플라스틱 전자레인지 사용\"\\n동일\\n14\\n\\'공항이 마비\\' 김지원 \\'엄청난 인기를 알 수 있었던 출국길 현장\\'\\n상승\\n2\\n15\\n아이유·박보검, 이렇게 잘 어울려도 되나…애순♥관식 넷플 화보 공개\\n하락\\n1\\n랭킹 TOP 100 전체보기\\n이전\\n1\\n/2\\n다음\\n16\\n\"김수현 언팔해\" 정해인 임시완, 해외 팬 댓글 폭주…88즈 한달만 파국\\n상승\\n5\\n17\\n뉴진스 다니엘 \"혹독한 연습생 시절, 민희진 등장 후 완전히 달라져\"\\n동일\\n18\\n김수현 손절, 해외가 더 빠르네…뒤도 안 돌아보고 입간판 \\'쓰레기行\\'\\n동일\\n19\\n김갑수 \"김수현-고 김새론 미성년 연애 논란, 범죄처럼 난리\" (매불쇼)\\n상승\\n1\\n20\\n\\'뇌 신경마비\\' 김윤아, 안타까운 근황…선천성 면역결핍으로 또 병원行\\n하락\\n5\\n21\\n\\'사별\\' 송선미, 배우 공정환과 새출발 \"다정다감하고 후배 잘 챙겨\"(아침마당)\\n하락\\n2\\n22\\n\\'故 신사동호랭이\\' 티알엔터, 파산…투자 중단·매출 하락으로 경영난\\nnew\\n23\\n태연, 입술도 안 바른 진짜 민낯…\\'다만세\\' 시절 그대로네\\n하락\\n1\\n24\\n\\'60대 제니\\' 박준금, 루이비통 입고 럭셔리 우아美 폭발! 20대 옷태 초동안 미니룩\\n하락\\n1\\n25\\n\"난 안 착하다\" 주장한 강하늘, 미담 또 추가 \"배달기사 막 대하면 못 참아\"(스트리밍)\\n상승\\n6\\n26\\n박서준, 김수현 저격? \\'파리에서 가로\\'…\"우정 종잇장만도 못해\" 가세연 주장\\n하락\\n1\\n27\\n한소희, 논란 후 마음고생 심했나 \"책임감 있는 솔직함 배우려 노력중\"\\n하락\\n1\\n28\\n\"김수현, 미성년자 강간? 개인 특성…김새론 비린내 나\" 김갑수 발언 논란 (\\'매불쇼\\')\\n동일\\n29\\n노홍철, CGV 뺨치는 개인 영화관서 여유…업소용 팝콘 기계까지 \\'깜짝\\'\\n하락\\n2\\n30\\n故 서희원 장례, 구준엽 장모·어린 아들 참석 못 했다,왜? 전남편 불참\\n동일\\n랭킹 TOP 100 전체보기\\n이전\\n2\\n/2\\n다음\\n실시간 급상승 연예 관심뉴스 더보기\\nBiz. 추천\\n1\\n쿠팡 로켓배송\\n2\\n중고차엔카\\n3\\n치과보험\\n4\\n분홍코끼리신발\\n5\\n낚시용품쇼핑몰\\n6\\n내보험 다 보여줘\\n7\\ndb다이렉트 실손보험\\n8\\n간병 보험추천\\n9\\n갤럭시S25\\n10\\n골드바\\n연예 hot포토\\n박보검, 무쇠 관식의 미소\\n황정음, 다시금 꺼내든 섹시 수영복…핫한 볼...\\n이전 슬라이드\\n1\\n/1\\n다음 슬라이드\\n연예 hot포토 더보기\\n★ 시/선/집/중\\n김수현 측 \"故김새론 협박 NO\" 12페이지로 반박\\n(엑스포츠뉴스 오승현 기자) 배우 김수현 소속사가 故 김새론 유...\\nㄴ\"조문 다녀왔다…팬 SNS 계정 사진은 타인\"\\n\\'유산\\' 박시은♥진태현, 아이 포기 안 했다 \"간절\"\\n김수현, 디즈니+가 움직이면 \\'파산\\' 가능성↑\\n한가인 이어 이청아?…\\'이수지 패러디\\' 또 지목\\n뉴진스 다니엘 \"연습생 시절, 민희진 등장 후...\"\\n\\'원정 도박\\' 신정환 \"한 번 죽지, 두 번 죽어?\"\\n★ 시/선/집/중 더보기\\n아이돌 24시\\n블핑 제니, 노출 논란에 묻히기 아까운 블루스타킹 자...\\n제시카, 소시 탈퇴 10년 후 뉴욕서 쿨한 근황…힙한 ...\\n이전\\n1\\n/4\\n다음\\n아이돌 24시 더보기\\nPOLL\\n주말 안방극장 빅매치, 당신의 선택은?\\n박형식 \\'보물섬\\'\\nVS\\n이제훈 \\'협상의 기술\\'\\n투표하기\\n결과보기\\n이전\\n1\\n/1\\n다음\\n공감 많은 뉴스\\n연예\\n공감별\\n1\\n\"김수현, 미성년과 교제? 나쁜일 아냐…일찍 사회화된 15살이 27살 만난 것\" 김갑수 발언 논란[SC이슈]\\n공감수\\n1,551\\n2\\n[단독] 김수현 측, 김새론 사진 공개에 태도 돌변…\"협의 의사\"\\n공감수\\n755\\n3\\n이진호, 결국 입 열었다 \"故 김새론 납골당 확인? 마지막 인사하려 한 것\"\\n공감수\\n511\\n4\\n중학생 故 김새론과 김수현 연애, 가족 뭐했냐고? \"돈 많은 남자라고 좋아했겠냐\"(가세연)\\n공감수\\n496\\n5\\n성동일 子 성준, 한양대 공대 진학…\"대치동서 알바, 수학 머리 타고나\" (가장멋진류진)\\n공감수\\n473\\n이전\\n1\\n/2\\n다음\\n6\\n박서준, 김수현 저격? \\'파리에서 가로\\'…\"우정 종잇장만도 못해\" 가세연 주장\\n공감수\\n363\\n7\\n\\'얼마나 예쁘길래\\' SM 설립이래 미국계 여가수, 눈도 작은데 예뻐…이수만이 제일 칭찬할만해\\n공감수\\n330\\n8\\n김장훈, 티켓 판매 부진으로 공연 취소 \"혼란한 시국 탓 문화 죽었다\" [전문]\\n공감수\\n311\\n9\\n\\'뇌 신경마비\\' 김윤아, 안타까운 근황…선천성 면역결핍으로 또 병원行\\n공감수\\n310\\n10\\n\\'사별\\' 송선미, 배우 공정환과 새출발 \"다정다감하고 후배 잘 챙겨\"(아침마당)\\n공감수\\n289\\n이전\\n2\\n/2\\n다음\\n공감 많은 뉴스 더보기\\n최고\\n훈훈\\n어이\\n속상\\n화나\\n1\\n성동일 子 성준, 한양대 공대 진학…\"대치동서 알바, 수학 머리 타고나\" (가장멋진류진)\\n451\\n2\\n응급실 뺑뺑이 돌다 구급차 출산…국회 온 119대원, 조끼 벗고 일침\\n393\\n3\\n박찬대 \"참을 만큼 참았다…최상목, 내일까지 마은혁 임명하라\"\\n304\\n4\\n신유빈, 中 대회 3일 만에 \\'광고 모델료\\' 1억 원 기부…소아·청소년 환아 지원\\n276\\n5\\n김수현, 디즈니+가 움직이면 \\'파산\\' 가능성↑\\n215\\n이전\\n1\\n/2\\n다음\\n6\\n\"이재명 대통령 되면 히틀러 나라 돼\"…국민의힘 당직자 연수에서 나온 주장들\\n197\\n7\\n차기 대통령 적합도, 이재명 45%로 \\'1위\\'…김문수 17%·한동훈 5%\\n117\\n8'),\n",
       " Document(metadata={}, page_content='공감수\\n311\\n9\\n\\'뇌 신경마비\\' 김윤아, 안타까운 근황…선천성 면역결핍으로 또 병원行\\n공감수\\n310\\n10\\n\\'사별\\' 송선미, 배우 공정환과 새출발 \"다정다감하고 후배 잘 챙겨\"(아침마당)\\n공감수\\n289\\n이전\\n2\\n/2\\n다음\\n공감 많은 뉴스 더보기\\n최고\\n훈훈\\n어이\\n속상\\n화나\\n1\\n성동일 子 성준, 한양대 공대 진학…\"대치동서 알바, 수학 머리 타고나\" (가장멋진류진)\\n451\\n2\\n응급실 뺑뺑이 돌다 구급차 출산…국회 온 119대원, 조끼 벗고 일침\\n393\\n3\\n박찬대 \"참을 만큼 참았다…최상목, 내일까지 마은혁 임명하라\"\\n304\\n4\\n신유빈, 中 대회 3일 만에 \\'광고 모델료\\' 1억 원 기부…소아·청소년 환아 지원\\n276\\n5\\n김수현, 디즈니+가 움직이면 \\'파산\\' 가능성↑\\n215\\n이전\\n1\\n/2\\n다음\\n6\\n\"이재명 대통령 되면 히틀러 나라 돼\"…국민의힘 당직자 연수에서 나온 주장들\\n197\\n7\\n차기 대통령 적합도, 이재명 45%로 \\'1위\\'…김문수 17%·한동훈 5%\\n117\\n8\\n김수현 손절, 해외가 더 빠르네…뒤도 안 돌아보고 입간판 \\'쓰레기行\\' [엑\\'s 이슈]\\n99\\n9\\n폭설에도 은박지 두르고 1인시위\\n95\\n10\\n박지원 \"경제손실 계속되면 나라 망한다…21일까지 尹탄핵 결정 촉구\"\\n93\\n이전\\n2\\n/2\\n다음\\n공감 많은 뉴스 더보기\\nTV 인기 영상\\n03:13\\n자꾸만 집에 있는 귀중품들이 없어졌던 고민남... CCTV 확인 결과 범인은? | KBS Joy 250317 방송\\n무엇이든 물어보살\\n01:03\\n이시영, 8년 만 파경 ＂이혼 절차 진행 중＂ / KNN\\nKNN뉴스\\n02:06\\n절친 아내의 심각한 절도사건, 이후 그녀의 외도까지 목격한 고민남! | KBS Joy 250317 방송\\n무엇이든 물어보살\\n이전\\n1\\n/3\\n다음\\n03:49\\n＂엄마라는 말만 들어도 울컥해요..＂ \\'트로트 신동\\' 황민호의 애틋한 가족애!\\n절친 토큐멘터리 4인용식탁\\n03:52\\n태진아 - 네 박자(송대관) | KBS 250317 방송\\n가요무대\\n06:45\\n두 차례의 미국 비자 거절🙅\\u200d♂️ 태원의 전과 때문이 아니다?😱 TV CHOSUN 250317 방송\\n조선의 사랑꾼\\n이전\\n2\\n/3\\n다음\\n09:57\\n소개팅녀에게 이런 모습이~? 천정명을 위한 단독 공연💕 | tvN STORY 250317 방송\\n이젠 사랑할 수 있을까\\n01:30\\n윤진이, 폭풍 성장한 ‘첫째’ 제이에 흐뭇♥\\n동상이몽2_너는 내 운명\\n02:31\\n한그루 말에 찜찜…나영희, ‘불안감’ 엄습 [신데렐라 게임] | KBS 250317 방송\\n신데렐라 게임\\n이전\\n3\\n/3\\n다음\\n더보기\\n랭킹\\n뉴스\\n조회순\\n댓글순\\n올려순\\n1\\n김수현 측 \"故김새론 조문 다녀왔다…팬 SNS 계정 사진은 타인\"\\n2\\n김수현 측 \"故김새론 \\'눈여\\'로 협박 NO…서예지 음해도 사실 아냐\" 12페이지로 반박\\n3\\n김수현, 디즈니+가 움직이면 \\'파산\\' 가능성↑\\n4\\n응급실 뺑뺑이 돌다 구급차 출산…국회 온 119대원, 조끼 벗고 일침\\n5\\n\"후지산이 무너지고 있습니다\" 송재익 캐스터 별세(종합)\\n6\\n\\'尹 탄핵\\' 외치다 쓰러진 민주당원 사망…李 \"가슴이 미어져\"\\n7\\n\"벌써 며칠째\"…아파트 출입구 막은 테슬라 \\'주차빌런\\'\\n8\\n\"ADHD로 수감 생활 어려워요\"…\\'서부지법 난동\\' 가담자 보석 신청\\n9\\n양수 터진 임산부, 구급차에서 출산…\"병원 40곳이 이송거부\"\\n10\\n\"168㎝ 이상, 항공과 女학생\"…기아챔피언스필드 \\'알바\\' 자격 논란\\n이전\\n1\\n/2\\n다음\\n11\\n\\'후지산이 무너지고 있습니다\\' 송재익 캐스터 별세\\n12\\n\"일하는데 왜 돈 없어? 막 써서겠지\"…캥거루족 울린 윤성빈 경솔 발언\\n13\\n대치동 초등생에 \"아빠 의사냐\"\"아파트 어디?\"…\\'호구조사\\' 논란\\n14\\n홈플러스에 쌓인 포인트만 114억…최악의 경우 휴지조각\\n15\\n박찬대 \"참을 만큼 참았다…최상목, 내일까지 마은혁 임명하라\"\\n16\\n\"\\'각하\\' 보고 싶습니다\"…이철우 경북지사가 올린 사진\\n17\\n신유빈, 中 대회 3일 만에 \\'광고 모델료\\' 1억 원 기부…소아·청소년 환아 지원\\n18\\n이낙연 \"민주당, 싫어하는 사람 더 많은 이재명 말고 다른 후보 내야\"\\n19\\n\"이재명 대통령 되면 히틀러 나라 돼\"…국민의힘 당직자 연수에서 나온 주장들\\n20\\n개 300만마리 총살·독살…월드컵 개최지의 \\'잔혹 거리 청소\\'\\n이전\\n2\\n/2\\n다음\\n조회순 랭킹뉴스 더보기\\n1\\n\"이재명 대통령 되면 히틀러 나라 돼\"…국민의힘 당직자 연수에서 나온 주장들\\n2\\n\"\\'각하\\' 보고 싶습니다\"…이철우 경북지사가 올린 사진\\n3\\n신천지 2인자, \"이만희 총회장  윤OO과 직접 통화\"\\n4\\n\"김수현, 미성년과 교제? 나쁜일 아냐…일찍 사회화된 15살이 27살 만난 것\" 김갑수 발언 논란\\n5\\n崔대행 \"헌재 결정 존중·수용해 주실 것을 국민께 간곡히 호소\"\\n6\\n\\'尹 탄핵\\' 외치다 쓰러진 민주당원 사망…李 \"가슴이 미어져\"\\n7\\n\"벌써 며칠째\"…아파트 출입구 막은 테슬라 \\'주차빌런\\'\\n8\\n박찬대 \"참을 만큼 참았다…최상목, 내일까지 마은혁 임명하라\"\\n9\\n김수현 측, 김새론 사진 공개에 태도 돌변…\"협의 의사\"\\n10\\n중학생 故 김새론과 김수현 연애, 가족 뭐했냐고? \"돈 많은 남자라고 좋아했겠냐\"(가세연)\\n이전\\n1\\n/2\\n다음\\n11\\n\"尹 탄핵 가능성 60~70%\"…헌재 선고 후 韓 경제 향방은\\n12\\n尹 탄핵 여전히 \\'안갯속\\'…4월 선고설도 솔솔\\n13\\n김수현, 디즈니+가 움직이면 \\'파산\\' 가능성↑\\n14\\n이낙연 \"민주당, 싫어하는 사람 더 많은 이재명 말고 다른 후보 내야\"\\n15\\n崔대행, \\'개의 정족수 3인\\' 방통위법 거부권…\"위헌성 상당\"\\n16\\n단식중 구급대에 의해 병원으로 이송되는 민형배 의원\\n17\\n권성동 \"지방에 추가 주택 구입시 다주택자 중과세 폐지\"\\n18\\n검찰, 김성훈 구속영장 청구 고심…\"경찰 소명 여전히 부족\"\\n19\\n\"ADHD로 수감 생활 어려워요\"…\\'서부지법 난동\\' 가담자 보석 신청\\n20\\n이준석 \"尹대통령, 4년 중임제였어도 사고쳤을 것…아주 이상한 사람\"\\n이전\\n2\\n/2\\n다음\\n댓글순 랭킹뉴스 더보기\\n1\\n신천지 2인자, \"이만희 총회장  윤OO과 직접 통화\"\\n2\\n김수현 측, 김새론 사진 공개에 태도 돌변…\"협의 의사\"\\n3\\n응급실 뺑뺑이 돌다 구급차 출산…국회 온 119대원, 조끼 벗고 일침\\n4\\n\\'尹 탄핵\\' 외치다 쓰러진 민주당원 사망…李 \"가슴이 미어져\"\\n5\\n\"벌써 며칠째\"…아파트 출입구 막은 테슬라 \\'주차빌런\\'\\n6\\n김수현, 디즈니+가 움직이면 \\'파산\\' 가능성↑\\n7\\n\"가슴 만져\" \"유산시켜\"…\\'90대 이웃 성폭행\\' 이장, 피해자 더 있나\\n8\\n성동일 子 성준, 한양대 공대 진학…\"대치동서 알바, 수학 머리 타고나\" (가장멋진류진)\\n9\\n박찬대 \"참을 만큼 참았다…최상목, 내일까지 마은혁 임명하라\"\\n10\\n\"김수현, 미성년과 교제? 나쁜일 아냐…일찍 사회화된 15살이 27살 만난 것\" 김갑수 발언 논란\\n이전\\n1\\n/2\\n다음\\n11\\n검찰, 김성훈 구속영장 청구 고심…\"경찰 소명 여전히 부족\"\\n12\\n신유빈, 中 대회 3일 만에 \\'광고 모델료\\' 1억 원 기부…소아·청소년 환아 지원\\n13\\n개 300만마리 총살·독살…월드컵 개최지의 \\'잔혹 거리 청소\\'\\n14\\n25세 만삭 아내가 남긴 \\'95억 사망보험금\\'…돈벼락 진실은?\\n15\\n\"이재명 대통령 되면 히틀러 나라 돼\"…국민의힘 당직자 연수에서 나온 주장들\\n16\\n\\'계엄 블랙박스\\' 경호처 비화폰 기록 원격 삭제된 정황\\n17\\n국방부, 707단장 등 계엄관련 기소된 군인 6명 보직해임\\n18\\n실내 흡연 지적했더니…\"담배 냄새 싫어하는 건 개취\"\\n19\\n\"김수현 김새론 만남 뭐가 문제?\"라던 김갑수, 결국 \\'매불쇼\\' 코너 영구 폐지\\n20\\n백종원 고개 숙였는데 또 논란…\"농약분무기 주스, 플라스틱 전자레인지 사용\"\\n이전\\n2\\n/2\\n다음\\n올려순 랭킹뉴스 더보기\\n톡커들의 선택 연예톡\\n실시간 급상승 톡커들의 선택 더보기\\n1\\n기자 : 저러다가 김수현씨가 큰일나면 어떡해요?\\n(125)\\n조회 184,003\\n추천 860\\n2\\n엔믹스 ‘KNOW ABOUT ME’ 어때?\\n(200)\\n조회 52,294\\n추천 101\\n3\\n성찬 ㅈㄴ 진국이네ㅋㅋㅋ\\n(87)\\n조회 62,648\\n추천 163\\n4\\n실시간 철거중인 김수현\\n(32)\\n조회 137,174\\n추천 713\\n5\\n배우 이엘 트위터\\n(30)\\n조회 69,220\\n추천 583\\n이전\\n1\\n/3\\n다음\\n6\\n김새론한테 2차 내용증명 보냈다네\\n(25)\\n조회 18,367\\n추천 206\\n7\\n얘넨 이제 엔믹스한테도 완전 밟히네\\n(32)\\n조회 33,381\\n추천 117\\n8\\n진심 김수현뉴스 유튜브댓글 ㅈㄴ환멸남\\n(23)\\n조회 30,692\\n추천 126\\n9\\n가세연 오늘자 썸넬\\n(23)\\n조회 83,534\\n추천 297\\n10\\n김수현은 김새론 좋아한게 아니라\\n(18)\\n조회 29,471\\n추천 213\\n이전\\n2\\n/3\\n다음\\n11\\n이번에도 표절논란 나온 르세라핌\\n(16)\\n조회 10,737\\n추천 100\\n12\\n가세연 탄핵반대 머리띠 졸웃김 ㅋㅋㅋㅋㅋ\\n(31)\\n조회 22,016\\n추천 83\\n13\\n르세라핌은 왜이렇게 성적에 집착함\\n(42)\\n조회 21,102\\n추천 63\\n14\\n내 생각에 김새론 여론 더 난리나는게\\n(10)\\n조회 9,119\\n추천 85\\n15\\n물결 모양의 머리를 가진 루카\\n(35)\\n조회 33,407\\n추천 50\\n이전\\n3\\n/3\\n다음\\n네이트 공용 푸터 영역\\n서비스 이용약관\\n|\\n개인정보처리방침\\n|\\n청소년보호정책\\n|\\n광고문의\\n|\\n고객센터\\n|\\n뉴스 전체서비스\\n© NATE Communications')]"
      ]
     },
     "execution_count": 50,
     "metadata": {},
     "output_type": "execute_result"
    }
   ],
   "source": []
  },
  {
   "cell_type": "code",
   "execution_count": 72,
   "metadata": {},
   "outputs": [],
   "source": [
    "def tavily_search(query: str) -> str:\n",
    "    \"\"\"\n",
    "    주어진 질문을 Tavily로 검색하고 결과를 텍스트로 반환합니다.\n",
    "    \"\"\"\n",
    "    search_results = tavily_client.search(\n",
    "        query=query, \n",
    "        max_results=5, \n",
    "        search_depth=\"advanced\", \n",
    "        include_raw_content=True\n",
    "    )\n",
    "\n",
    "    aggregated_results = \"\\n\\n\".join([\n",
    "        f\"제목: {res['title']}\\n링크: {res['url']}\\n내용: {res['content']}\"\n",
    "        for res in search_results['results']\n",
    "    ])\n",
    "\n",
    "    return aggregated_results"
   ]
  },
  {
   "cell_type": "code",
   "execution_count": 73,
   "metadata": {},
   "outputs": [
    {
     "data": {
      "text/plain": [
       "'제목: 김수현 (1988년) - 위키백과, 우리 모두의 백과사전\\n링크: https://ko.wikipedia.org/wiki/%EA%B9%80%EC%88%98%ED%98%84_(1988%EB%85%84)\\n내용: 김수현은 1988년 2월 16일 서울특별시에서 태어났다. 그는 서울특별시 강남구 소재의 초등학교, 중학교, 그리고 고등학교를 졸업했다.[1] 그의 아버지는 1980년대 \\'말하라 사랑이 어떻게 왔는가를\\', \\'밤부두\\' 등을 히트 시키며 활약했던 록밴드 세븐돌핀스의 보컬로 유명한 김충훈으로 알려졌다.[2] 김수현은 가난한 환경에서 자랐지만, 어머니의 권유로 아들의 워낙 내성적인 성격을 너무 걱정한 나머지 고등학교에 진학할 무렵, “웅변학원이라도 다닐래?”라고 권유해 봤지만 김수현은 선뜻 용기를 내지 못했고, “그럼 연극이라도 해볼래?” 어머니의 또 다른 권유로 시작한 연극은 그의 성격을 조금씩 바꿔나가게 되었다. 김수현의 고등학교 3학년 담임교사는 당시 김수현에 대해 “학교에 대본을 가져와서 틈틈이 외우고 발성연습도 했다. 그런 모습을 보며 수현이가 연기자의 길을 걷는다고 해도 손색이 없겠다고 생각을 했다”고 언급했다.[3][4] [...] 목차\\n\\n김수현 (1988년)\\n\\n\\n\\n김수현\\n2024년 모습\\n출생 | 1988년 2월 16일(1988-02-16)(37세)대한민국서울특별시강남구일원동\\n국적 | 대한민국\\n다른이름 | Kim Soo-hyun\\n직업 | 배우\\n활동기간 | 2007년~현재\\n종교 | 개신교\\n웹사이트 | 김수현 골드메달리스트김수현 인스타그램김수현 웨이보\\n김수현(金秀賢, 1988년 2월 16일~)은 대한민국의 배우이다..\\n\\n신체: 178cm AB형\\n\\n학력\\n\\n성장 과정 [...] 2007 ~ 2010\\xa0: 초기 경력\\n\\n김수현은 2007년 7월 말부터 방송 된 MBC 일일시트콤 《김치 치즈 스마일》에서 수영부원 김수현 역할을 연기하며 연예계에 정식 데뷔했다.[9] 톱스타이자 정치인이었던 김을동 선배는 MBC 일일시트콤 《김치 치즈 스마일》에서 김수현을 체벌하면서도 한편 \"수현이 너는 대스타가 될 거다\"라고 김수현의 스타성을 예언했다. 이후 음악채널 KMTV 《소년소녀 가요백서》에서 카라 출신 한승연과 공동 MC를 맡았고, KBS2 《해피선데이 - 이 맛에 산다》에 고정 출연하였다.[10] 이듬해 2008년, KBS1 특집 청소년 드라마 《정글피쉬》를 통해 정극에서 처음으로 주연을 맡았고, 제작 발표회 현장에서는 “생각했던 대로 연기가 나오지 않은 것 같아 아쉬운 마음이 크다”며 말을 잇지 못한 채 눈물을 보이기도 했다.[11] 같은 해, 단편 영화 《체리블로섬》에 출연하였다.[12]\\n\\n제목: 김수현 (1988년) - 위키백과, 우리 모두의 백과사전\\n링크: https://ko.wikipedia.org/wiki/%EA%B9%80%EC%88%98%ED%98%84_(1988%EB%85%84)\\n내용: 김수현은 1988년 2월 16일 서울특별시에서 태어났다. 그는 서울특별시 강남구 소재의 초등학교, 중학교, 그리고 고등학교를 졸업했다.[1] 그의 아버지는 1980년대 \\'말하라 사랑이 어떻게 왔는가를\\', \\'밤부두\\' 등을 히트 시키며 활약했던 록밴드 세븐돌핀스의 보컬로 유명한 김충훈으로 알려졌다.[2] 김수현은 가난한 환경에서 자랐지만, 어머니의 권유로 아들의 워낙 내성적인 성격을 너무 걱정한 나머지 고등학교에 진학할 무렵, “웅변학원이라도 다닐래?”라고 권유해 봤지만 김수현은 선뜻 용기를 내지 못했고, “그럼 연극이라도 해볼래?” 어머니의 또 다른 권유로 시작한 연극은 그의 성격을 조금씩 바꿔나가게 되었다. 김수현의 고등학교 3학년 담임교사는 당시 김수현에 대해 “학교에 대본을 가져와서 틈틈이 외우고 발성연습도 했다. 그런 모습을 보며 수현이가 연기자의 길을 걷는다고 해도 손색이 없겠다고 생각을 했다”고 언급했다.[3][4] [...] 목차\\n\\n김수현 (1988년)\\n\\n\\n\\n김수현\\n2024년 모습\\n출생 | 1988년 2월 16일(1988-02-16)(37세)대한민국서울특별시강남구일원동\\n국적 | 대한민국\\n다른이름 | Kim Soo-hyun\\n직업 | 배우\\n활동기간 | 2007년~현재\\n종교 | 개신교\\n웹사이트 | 김수현 골드메달리스트김수현 인스타그램김수현 웨이보\\n김수현(金秀賢, 1988년 2월 16일~)은 대한민국의 배우이다..\\n\\n신체: 178cm AB형\\n\\n학력\\n\\n성장 과정 [...] 2007 ~ 2010\\xa0: 초기 경력\\n\\n김수현은 2007년 7월 말부터 방송 된 MBC 일일시트콤 《김치 치즈 스마일》에서 수영부원 김수현 역할을 연기하며 연예계에 정식 데뷔했다.[9] 톱스타이자 정치인이었던 김을동 선배는 MBC 일일시트콤 《김치 치즈 스마일》에서 김수현을 체벌하면서도 한편 \"수현이 너는 대스타가 될 거다\"라고 김수현의 스타성을 예언했다. 이후 음악채널 KMTV 《소년소녀 가요백서》에서 카라 출신 한승연과 공동 MC를 맡았고, KBS2 《해피선데이 - 이 맛에 산다》에 고정 출연하였다.[10] 이듬해 2008년, KBS1 특집 청소년 드라마 《정글피쉬》를 통해 정극에서 처음으로 주연을 맡았고, 제작 발표회 현장에서는 “생각했던 대로 연기가 나오지 않은 것 같아 아쉬운 마음이 크다”며 말을 잇지 못한 채 눈물을 보이기도 했다.[11] 같은 해, 단편 영화 《체리블로섬》에 출연하였다.[12]\\n\\n제목: 김수현-김새론 열애설 및 미성년자 교제 의혹 - 나무위키\\n링크: https://namu.wiki/w/%EA%B9%80%EC%88%98%ED%98%84-%EA%B9%80%EC%83%88%EB%A1%A0%20%EC%97%B4%EC%95%A0%EC%84%A4%20%EB%B0%8F%20%EB%AF%B8%EC%84%B1%EB%85%84%EC%9E%90%20%EA%B5%90%EC%A0%9C%20%EC%9D%98%ED%98%B9\\n내용: 4.3. 광고계[편집]\\n김수현은 현재 K2 아이더, 샤브올데이 외에도 홈플러스, 신한금융그룹, 뚜레쥬르, 프라다, 조 말론 런던 등 10여 개가 넘는 브랜드의 모델로 활동 중이다. 그러다가 의혹이 제기되자 김수현을 모델로 발탁한 브랜드들이 신중한 모습을 보이고 있으며, 13일 가세연 영상이 공개된 이후로는 \\'신중하게 광고 철수\\'로 가닥을 잡는 모양새다. 김수현 \\'김새론 유족\\' 폭로에 광고계도 \\'손절\\' 조짐 이 경우 광고주들이 위약금 조항으로 소송을 걸게 된다면 수억~수십 억의 배상금을 내야 할 상황이다. [...] 2024년 3월 24일 김새론이 김수현과 찍은 사진을 공개하면서 두 사람의 열애설이 제기된 데에 이어, 김새론이 사망한 지 약 한 달 후인 2025년 3월 10일 김새론의 유가족들이 前 MBC 기자출신 김세의가 운영하는 가로세로연구소 유튜브 채널을 통해 김새론이 미성년자[1]였을 때부터 당시 20대 후반이던 김수현과 6년간 연애한 사실이 적혀 있는 \\'김새론의 생전 입장문 전문\\'을 폭로하고, 7억원의 빚을 갚기를 강요하는 내용증명을 폭로하면서 빚어진 의혹.  \\n2. 전개[편집]\\n2.1. 2024년 3월, 열애설 제기[편집]\\n2024년 3월 24일, 음주운전 물의로 자숙 중이었던 배우 김새론이 자신의 인스타그램 스토리를 통해 김수현과 얼굴을 맞대고 찍은 사진을 공개했다가 약 3분 만에 삭제했다. 공개된 사진 속 두 사람은 꽤나 다정한 듯한 포즈를 취하고 있어 열애설이 제기되었다. # [...] 김수현 소속사 공식 입장[ 펼치기 · 접기 ]안녕하세요. 주식회사 골드메달리스트입니다.금일 당사 소속 배우인 김수현 배우와 관련된 가로세로연구소의 유튜브 방송에 대한 공식입장입니다.가로세로연구소가 유튜브 방송을 통해 김수현 배우와 관련하여 주장한 내용은 명백한 허위사실입니다. 가로세로연구소는 당사와 김수현 배우가 유튜버 이진호와 결탁하여 故김새론 배우를 괴롭혔다는 취지로 주장을 하면서, 故김새론 배우가 15세부터 김수현 배우와 연애를 하였다는 주장, 故김새론 배우의 음주운전 사고 당시 소속사의 대처가 부당했다는 주장, 당사 소속 매니저가 유튜버 이진호와 친분이 있다는 주장 등 당사와 김수현 배우에게 악의적인 많은 주장들을 하였으나, 이는 모두 도저히 묵과할 수 없는 허위사실로서 당사는 가로세로연구소의 허위사실 유포에 대하여 취할 수 있는 가장 강력한 수준의 법적 대응을 검토할 예정입니다.당사는 한때 당사에 몸 담았던 故김새론 배우의 사망 소식에 비통한 심정을 느끼고 고인을 애도하고\\n\\n제목: 김수현-김새론 열애설 및 미성년자 교제 의혹 - 나무위키\\n링크: https://namu.wiki/w/%EA%B9%80%EC%88%98%ED%98%84-%EA%B9%80%EC%83%88%EB%A1%A0%20%EC%97%B4%EC%95%A0%EC%84%A4%20%EB%B0%8F%20%EB%AF%B8%EC%84%B1%EB%85%84%EC%9E%90%20%EA%B5%90%EC%A0%9C%20%EC%9D%98%ED%98%B9\\n내용: 4.3. 광고계[편집]\\n김수현은 현재 K2 아이더, 샤브올데이 외에도 홈플러스, 신한금융그룹, 뚜레쥬르, 프라다, 조 말론 런던 등 10여 개가 넘는 브랜드의 모델로 활동 중이다. 그러다가 의혹이 제기되자 김수현을 모델로 발탁한 브랜드들이 신중한 모습을 보이고 있으며, 13일 가세연 영상이 공개된 이후로는 \\'신중하게 광고 철수\\'로 가닥을 잡는 모양새다. 김수현 \\'김새론 유족\\' 폭로에 광고계도 \\'손절\\' 조짐 이 경우 광고주들이 위약금 조항으로 소송을 걸게 된다면 수억~수십 억의 배상금을 내야 할 상황이다. [...] 2024년 3월 24일 김새론이 김수현과 찍은 사진을 공개하면서 두 사람의 열애설이 제기된 데에 이어, 김새론이 사망한 지 약 한 달 후인 2025년 3월 10일 김새론의 유가족들이 前 MBC 기자출신 김세의가 운영하는 가로세로연구소 유튜브 채널을 통해 김새론이 미성년자[1]였을 때부터 당시 20대 후반이던 김수현과 6년간 연애한 사실이 적혀 있는 \\'김새론의 생전 입장문 전문\\'을 폭로하고, 7억원의 빚을 갚기를 강요하는 내용증명을 폭로하면서 빚어진 의혹.  \\n2. 전개[편집]\\n2.1. 2024년 3월, 열애설 제기[편집]\\n2024년 3월 24일, 음주운전 물의로 자숙 중이었던 배우 김새론이 자신의 인스타그램 스토리를 통해 김수현과 얼굴을 맞대고 찍은 사진을 공개했다가 약 3분 만에 삭제했다. 공개된 사진 속 두 사람은 꽤나 다정한 듯한 포즈를 취하고 있어 열애설이 제기되었다. # [...] 김수현 소속사 공식 입장[ 펼치기 · 접기 ]안녕하세요. 주식회사 골드메달리스트입니다.금일 당사 소속 배우인 김수현 배우와 관련된 가로세로연구소의 유튜브 방송에 대한 공식입장입니다.가로세로연구소가 유튜브 방송을 통해 김수현 배우와 관련하여 주장한 내용은 명백한 허위사실입니다. 가로세로연구소는 당사와 김수현 배우가 유튜버 이진호와 결탁하여 故김새론 배우를 괴롭혔다는 취지로 주장을 하면서, 故김새론 배우가 15세부터 김수현 배우와 연애를 하였다는 주장, 故김새론 배우의 음주운전 사고 당시 소속사의 대처가 부당했다는 주장, 당사 소속 매니저가 유튜버 이진호와 친분이 있다는 주장 등 당사와 김수현 배우에게 악의적인 많은 주장들을 하였으나, 이는 모두 도저히 묵과할 수 없는 허위사실로서 당사는 가로세로연구소의 허위사실 유포에 대하여 취할 수 있는 가장 강력한 수준의 법적 대응을 검토할 예정입니다.당사는 한때 당사에 몸 담았던 故김새론 배우의 사망 소식에 비통한 심정을 느끼고 고인을 애도하고\\n\\n제목: 김수현 입간판 내다버리고 주먹질까지…해외팬들이 더 비난, 왜?\\n링크: https://www.chosun.com/national/national_general/2025/03/17/DVT7ZROFZREOVDBISB63RWH3QY/\\n내용: 김수현 입간판에 주먹질을 하고 있는 해외 여성팬과 김수현 입간판을 내다 버리고 있는 해외 여성팬. /소셜미디어\\n배우 고(故) 김새론(25)과 미성년자 때부터 교제를 했다는 의혹이 제기된 배우 김수현(37)에 대해 해외 팬들 사이에서도 비난이 나오고 있다.\\n17일 틱톡 등 소셜미디어에는 해외 팬들이 김수현의 입간판을 내다 버리거나, 광고 사진을 철거하는 모습 등이 담긴 영상이 다수 올라왔다.\\n태국의 한 병원 관계자로 보이는 여성은 병원에 설치되어 있던 김수현 입간판을 치우는 영상을 공개하며 ‘병원에서 쓰레기를 수거하다’라는 자막을 달았다.\\n또 다른 외국 여성은 김수현 입간판을 세워놓고 손가락질을 하며 질책한 후 주먹을 날리는 영상도 찍어 올렸다.\\n이외에도 해외 팬들 사이에서는 김수현의 광고 사진과 브로마이드 등을 찢고 이를 인증하는 영상을 찍는 챌린지가 유행하고 있다.\\n김수현은 2012년 드라마 ‘별에서 온 그대’ 이후 아시아 전역에서 최고 수준의 인기를 누려왔다.\\n\\n제목: 김수현 입간판 내다버리고 주먹질까지…해외팬들이 더 비난, 왜?\\n링크: https://www.chosun.com/national/national_general/2025/03/17/DVT7ZROFZREOVDBISB63RWH3QY/\\n내용: 김수현 입간판에 주먹질을 하고 있는 해외 여성팬과 김수현 입간판을 내다 버리고 있는 해외 여성팬. /소셜미디어\\n배우 고(故) 김새론(25)과 미성년자 때부터 교제를 했다는 의혹이 제기된 배우 김수현(37)에 대해 해외 팬들 사이에서도 비난이 나오고 있다.\\n17일 틱톡 등 소셜미디어에는 해외 팬들이 김수현의 입간판을 내다 버리거나, 광고 사진을 철거하는 모습 등이 담긴 영상이 다수 올라왔다.\\n태국의 한 병원 관계자로 보이는 여성은 병원에 설치되어 있던 김수현 입간판을 치우는 영상을 공개하며 ‘병원에서 쓰레기를 수거하다’라는 자막을 달았다.\\n또 다른 외국 여성은 김수현 입간판을 세워놓고 손가락질을 하며 질책한 후 주먹을 날리는 영상도 찍어 올렸다.\\n이외에도 해외 팬들 사이에서는 김수현의 광고 사진과 브로마이드 등을 찢고 이를 인증하는 영상을 찍는 챌린지가 유행하고 있다.\\n김수현은 2012년 드라마 ‘별에서 온 그대’ 이후 아시아 전역에서 최고 수준의 인기를 누려왔다.'"
      ]
     },
     "execution_count": 73,
     "metadata": {},
     "output_type": "execute_result"
    }
   ],
   "source": [
    "tavily_search(\"김수현\")"
   ]
  },
  {
   "cell_type": "code",
   "execution_count": 1,
   "metadata": {},
   "outputs": [
    {
     "name": "stdout",
     "output_type": "stream",
     "text": [
      "Requirement already satisfied: langchain_mcp_adapters in c:\\users\\user\\desktop\\agent\\venv\\lib\\site-packages (0.0.5)\n",
      "Requirement already satisfied: langchain-core<0.4,>=0.3.36 in c:\\users\\user\\desktop\\agent\\venv\\lib\\site-packages (from langchain_mcp_adapters) (0.3.45)\n",
      "Requirement already satisfied: mcp<1.5,>=1.4.1 in c:\\users\\user\\desktop\\agent\\venv\\lib\\site-packages (from langchain_mcp_adapters) (1.4.1)\n",
      "Requirement already satisfied: langsmith<0.4,>=0.1.125 in c:\\users\\user\\desktop\\agent\\venv\\lib\\site-packages (from langchain-core<0.4,>=0.3.36->langchain_mcp_adapters) (0.3.15)\n",
      "Requirement already satisfied: tenacity!=8.4.0,<10.0.0,>=8.1.0 in c:\\users\\user\\desktop\\agent\\venv\\lib\\site-packages (from langchain-core<0.4,>=0.3.36->langchain_mcp_adapters) (9.0.0)\n",
      "Requirement already satisfied: jsonpatch<2.0,>=1.33 in c:\\users\\user\\desktop\\agent\\venv\\lib\\site-packages (from langchain-core<0.4,>=0.3.36->langchain_mcp_adapters) (1.33)\n",
      "Requirement already satisfied: PyYAML>=5.3 in c:\\users\\user\\desktop\\agent\\venv\\lib\\site-packages (from langchain-core<0.4,>=0.3.36->langchain_mcp_adapters) (6.0.2)\n",
      "Requirement already satisfied: packaging<25,>=23.2 in c:\\users\\user\\desktop\\agent\\venv\\lib\\site-packages (from langchain-core<0.4,>=0.3.36->langchain_mcp_adapters) (24.2)\n",
      "Requirement already satisfied: typing-extensions>=4.7 in c:\\users\\user\\desktop\\agent\\venv\\lib\\site-packages (from langchain-core<0.4,>=0.3.36->langchain_mcp_adapters) (4.12.2)\n",
      "Requirement already satisfied: pydantic<3.0.0,>=2.5.2 in c:\\users\\user\\desktop\\agent\\venv\\lib\\site-packages (from langchain-core<0.4,>=0.3.36->langchain_mcp_adapters) (2.10.6)\n",
      "Requirement already satisfied: anyio>=4.5 in c:\\users\\user\\desktop\\agent\\venv\\lib\\site-packages (from mcp<1.5,>=1.4.1->langchain_mcp_adapters) (4.9.0)\n",
      "Requirement already satisfied: httpx-sse>=0.4 in c:\\users\\user\\desktop\\agent\\venv\\lib\\site-packages (from mcp<1.5,>=1.4.1->langchain_mcp_adapters) (0.4.0)\n",
      "Requirement already satisfied: httpx>=0.27 in c:\\users\\user\\desktop\\agent\\venv\\lib\\site-packages (from mcp<1.5,>=1.4.1->langchain_mcp_adapters) (0.28.1)\n",
      "Requirement already satisfied: pydantic-settings>=2.5.2 in c:\\users\\user\\desktop\\agent\\venv\\lib\\site-packages (from mcp<1.5,>=1.4.1->langchain_mcp_adapters) (2.8.1)\n",
      "Requirement already satisfied: sse-starlette>=1.6.1 in c:\\users\\user\\desktop\\agent\\venv\\lib\\site-packages (from mcp<1.5,>=1.4.1->langchain_mcp_adapters) (2.2.1)\n",
      "Requirement already satisfied: starlette>=0.27 in c:\\users\\user\\desktop\\agent\\venv\\lib\\site-packages (from mcp<1.5,>=1.4.1->langchain_mcp_adapters) (0.46.1)\n",
      "Requirement already satisfied: uvicorn>=0.23.1 in c:\\users\\user\\desktop\\agent\\venv\\lib\\site-packages (from mcp<1.5,>=1.4.1->langchain_mcp_adapters) (0.34.0)\n",
      "Requirement already satisfied: exceptiongroup>=1.0.2 in c:\\users\\user\\desktop\\agent\\venv\\lib\\site-packages (from anyio>=4.5->mcp<1.5,>=1.4.1->langchain_mcp_adapters) (1.2.2)\n",
      "Requirement already satisfied: idna>=2.8 in c:\\users\\user\\desktop\\agent\\venv\\lib\\site-packages (from anyio>=4.5->mcp<1.5,>=1.4.1->langchain_mcp_adapters) (3.10)\n",
      "Requirement already satisfied: sniffio>=1.1 in c:\\users\\user\\desktop\\agent\\venv\\lib\\site-packages (from anyio>=4.5->mcp<1.5,>=1.4.1->langchain_mcp_adapters) (1.3.1)\n",
      "Requirement already satisfied: certifi in c:\\users\\user\\desktop\\agent\\venv\\lib\\site-packages (from httpx>=0.27->mcp<1.5,>=1.4.1->langchain_mcp_adapters) (2025.1.31)\n",
      "Requirement already satisfied: httpcore==1.* in c:\\users\\user\\desktop\\agent\\venv\\lib\\site-packages (from httpx>=0.27->mcp<1.5,>=1.4.1->langchain_mcp_adapters) (1.0.7)\n",
      "Requirement already satisfied: h11<0.15,>=0.13 in c:\\users\\user\\desktop\\agent\\venv\\lib\\site-packages (from httpcore==1.*->httpx>=0.27->mcp<1.5,>=1.4.1->langchain_mcp_adapters) (0.14.0)\n",
      "Requirement already satisfied: jsonpointer>=1.9 in c:\\users\\user\\desktop\\agent\\venv\\lib\\site-packages (from jsonpatch<2.0,>=1.33->langchain-core<0.4,>=0.3.36->langchain_mcp_adapters) (3.0.0)\n",
      "Requirement already satisfied: orjson<4.0.0,>=3.9.14 in c:\\users\\user\\desktop\\agent\\venv\\lib\\site-packages (from langsmith<0.4,>=0.1.125->langchain-core<0.4,>=0.3.36->langchain_mcp_adapters) (3.10.15)\n",
      "Requirement already satisfied: requests<3,>=2 in c:\\users\\user\\desktop\\agent\\venv\\lib\\site-packages (from langsmith<0.4,>=0.1.125->langchain-core<0.4,>=0.3.36->langchain_mcp_adapters) (2.32.3)\n",
      "Requirement already satisfied: requests-toolbelt<2.0.0,>=1.0.0 in c:\\users\\user\\desktop\\agent\\venv\\lib\\site-packages (from langsmith<0.4,>=0.1.125->langchain-core<0.4,>=0.3.36->langchain_mcp_adapters) (1.0.0)\n",
      "Requirement already satisfied: zstandard<0.24.0,>=0.23.0 in c:\\users\\user\\desktop\\agent\\venv\\lib\\site-packages (from langsmith<0.4,>=0.1.125->langchain-core<0.4,>=0.3.36->langchain_mcp_adapters) (0.23.0)\n",
      "Requirement already satisfied: annotated-types>=0.6.0 in c:\\users\\user\\desktop\\agent\\venv\\lib\\site-packages (from pydantic<3.0.0,>=2.5.2->langchain-core<0.4,>=0.3.36->langchain_mcp_adapters) (0.7.0)\n",
      "Requirement already satisfied: pydantic-core==2.27.2 in c:\\users\\user\\desktop\\agent\\venv\\lib\\site-packages (from pydantic<3.0.0,>=2.5.2->langchain-core<0.4,>=0.3.36->langchain_mcp_adapters) (2.27.2)\n",
      "Requirement already satisfied: python-dotenv>=0.21.0 in c:\\users\\user\\desktop\\agent\\venv\\lib\\site-packages (from pydantic-settings>=2.5.2->mcp<1.5,>=1.4.1->langchain_mcp_adapters) (1.0.1)\n",
      "Requirement already satisfied: click>=7.0 in c:\\users\\user\\desktop\\agent\\venv\\lib\\site-packages (from uvicorn>=0.23.1->mcp<1.5,>=1.4.1->langchain_mcp_adapters) (8.1.8)\n",
      "Requirement already satisfied: colorama in c:\\users\\user\\desktop\\agent\\venv\\lib\\site-packages (from click>=7.0->uvicorn>=0.23.1->mcp<1.5,>=1.4.1->langchain_mcp_adapters) (0.4.6)\n",
      "Requirement already satisfied: charset-normalizer<4,>=2 in c:\\users\\user\\desktop\\agent\\venv\\lib\\site-packages (from requests<3,>=2->langsmith<0.4,>=0.1.125->langchain-core<0.4,>=0.3.36->langchain_mcp_adapters) (3.4.1)\n",
      "Requirement already satisfied: urllib3<3,>=1.21.1 in c:\\users\\user\\desktop\\agent\\venv\\lib\\site-packages (from requests<3,>=2->langsmith<0.4,>=0.1.125->langchain-core<0.4,>=0.3.36->langchain_mcp_adapters) (2.3.0)\n"
     ]
    }
   ],
   "source": [
    "! pip install langchain_mcp_adapters"
   ]
  },
  {
   "cell_type": "code",
   "execution_count": 7,
   "metadata": {},
   "outputs": [
    {
     "name": "stdout",
     "output_type": "stream",
     "text": [
      "Requirement already satisfied: langchain_teddynote in c:\\users\\user\\desktop\\agent\\venv\\lib\\site-packages (0.3.44)\n",
      "Requirement already satisfied: langchain in c:\\users\\user\\desktop\\agent\\venv\\lib\\site-packages (from langchain_teddynote) (0.3.20)\n",
      "Requirement already satisfied: langgraph in c:\\users\\user\\desktop\\agent\\venv\\lib\\site-packages (from langchain_teddynote) (0.3.11)\n",
      "Requirement already satisfied: kiwipiepy in c:\\users\\user\\desktop\\agent\\venv\\lib\\site-packages (from langchain_teddynote) (0.20.4)\n",
      "Requirement already satisfied: rank_bm25 in c:\\users\\user\\desktop\\agent\\venv\\lib\\site-packages (from langchain_teddynote) (0.2.2)\n",
      "Requirement already satisfied: pinecone-client[grpc] in c:\\users\\user\\desktop\\agent\\venv\\lib\\site-packages (from langchain_teddynote) (6.0.0)\n",
      "Requirement already satisfied: pinecone-text in c:\\users\\user\\desktop\\agent\\venv\\lib\\site-packages (from langchain_teddynote) (0.10.0)\n",
      "Requirement already satisfied: olefile in c:\\users\\user\\desktop\\agent\\venv\\lib\\site-packages (from langchain_teddynote) (0.47)\n",
      "Requirement already satisfied: pdf2image in c:\\users\\user\\desktop\\agent\\venv\\lib\\site-packages (from langchain_teddynote) (1.17.0)\n",
      "Requirement already satisfied: openai in c:\\users\\user\\desktop\\agent\\venv\\lib\\site-packages (from langchain_teddynote) (1.66.3)\n",
      "Requirement already satisfied: anthropic in c:\\users\\user\\desktop\\agent\\venv\\lib\\site-packages (from langchain_teddynote) (0.49.0)\n",
      "Requirement already satisfied: deepl in c:\\users\\user\\desktop\\agent\\venv\\lib\\site-packages (from langchain_teddynote) (1.21.1)\n",
      "Requirement already satisfied: feedparser in c:\\users\\user\\desktop\\agent\\venv\\lib\\site-packages (from langchain_teddynote) (6.0.11)\n",
      "Requirement already satisfied: tavily-python in c:\\users\\user\\desktop\\agent\\venv\\lib\\site-packages (from langchain_teddynote) (0.5.1)\n",
      "Requirement already satisfied: pandas in c:\\users\\user\\desktop\\agent\\venv\\lib\\site-packages (from langchain_teddynote) (2.2.3)\n",
      "Requirement already satisfied: anyio<5,>=3.5.0 in c:\\users\\user\\desktop\\agent\\venv\\lib\\site-packages (from anthropic->langchain_teddynote) (4.9.0)\n",
      "Requirement already satisfied: distro<2,>=1.7.0 in c:\\users\\user\\desktop\\agent\\venv\\lib\\site-packages (from anthropic->langchain_teddynote) (1.9.0)\n",
      "Requirement already satisfied: httpx<1,>=0.23.0 in c:\\users\\user\\desktop\\agent\\venv\\lib\\site-packages (from anthropic->langchain_teddynote) (0.28.1)\n",
      "Requirement already satisfied: jiter<1,>=0.4.0 in c:\\users\\user\\desktop\\agent\\venv\\lib\\site-packages (from anthropic->langchain_teddynote) (0.9.0)\n",
      "Requirement already satisfied: pydantic<3,>=1.9.0 in c:\\users\\user\\desktop\\agent\\venv\\lib\\site-packages (from anthropic->langchain_teddynote) (2.10.6)\n",
      "Requirement already satisfied: sniffio in c:\\users\\user\\desktop\\agent\\venv\\lib\\site-packages (from anthropic->langchain_teddynote) (1.3.1)\n",
      "Requirement already satisfied: typing-extensions<5,>=4.10 in c:\\users\\user\\desktop\\agent\\venv\\lib\\site-packages (from anthropic->langchain_teddynote) (4.12.2)\n",
      "Requirement already satisfied: requests<3,>=2 in c:\\users\\user\\desktop\\agent\\venv\\lib\\site-packages (from deepl->langchain_teddynote) (2.32.3)\n",
      "Requirement already satisfied: sgmllib3k in c:\\users\\user\\desktop\\agent\\venv\\lib\\site-packages (from feedparser->langchain_teddynote) (1.0.0)\n",
      "Requirement already satisfied: kiwipiepy_model<0.21,>=0.20 in c:\\users\\user\\desktop\\agent\\venv\\lib\\site-packages (from kiwipiepy->langchain_teddynote) (0.20.0)\n",
      "Requirement already satisfied: numpy in c:\\users\\user\\desktop\\agent\\venv\\lib\\site-packages (from kiwipiepy->langchain_teddynote) (1.26.4)\n",
      "Requirement already satisfied: tqdm in c:\\users\\user\\desktop\\agent\\venv\\lib\\site-packages (from kiwipiepy->langchain_teddynote) (4.67.1)\n",
      "Requirement already satisfied: langchain-core<1.0.0,>=0.3.41 in c:\\users\\user\\desktop\\agent\\venv\\lib\\site-packages (from langchain->langchain_teddynote) (0.3.45)\n",
      "Requirement already satisfied: langchain-text-splitters<1.0.0,>=0.3.6 in c:\\users\\user\\desktop\\agent\\venv\\lib\\site-packages (from langchain->langchain_teddynote) (0.3.6)\n",
      "Requirement already satisfied: langsmith<0.4,>=0.1.17 in c:\\users\\user\\desktop\\agent\\venv\\lib\\site-packages (from langchain->langchain_teddynote) (0.3.15)\n",
      "Requirement already satisfied: SQLAlchemy<3,>=1.4 in c:\\users\\user\\desktop\\agent\\venv\\lib\\site-packages (from langchain->langchain_teddynote) (2.0.39)\n",
      "Requirement already satisfied: PyYAML>=5.3 in c:\\users\\user\\desktop\\agent\\venv\\lib\\site-packages (from langchain->langchain_teddynote) (6.0.2)\n",
      "Requirement already satisfied: async-timeout<5.0.0,>=4.0.0 in c:\\users\\user\\desktop\\agent\\venv\\lib\\site-packages (from langchain->langchain_teddynote) (4.0.3)\n",
      "Requirement already satisfied: langgraph-checkpoint<3.0.0,>=2.0.10 in c:\\users\\user\\desktop\\agent\\venv\\lib\\site-packages (from langgraph->langchain_teddynote) (2.0.20)\n",
      "Requirement already satisfied: langgraph-prebuilt<0.2,>=0.1.1 in c:\\users\\user\\desktop\\agent\\venv\\lib\\site-packages (from langgraph->langchain_teddynote) (0.1.3)\n",
      "Requirement already satisfied: langgraph-sdk<0.2.0,>=0.1.42 in c:\\users\\user\\desktop\\agent\\venv\\lib\\site-packages (from langgraph->langchain_teddynote) (0.1.57)\n",
      "Requirement already satisfied: python-dateutil>=2.8.2 in c:\\users\\user\\desktop\\agent\\venv\\lib\\site-packages (from pandas->langchain_teddynote) (2.9.0.post0)\n",
      "Requirement already satisfied: pytz>=2020.1 in c:\\users\\user\\desktop\\agent\\venv\\lib\\site-packages (from pandas->langchain_teddynote) (2025.1)\n",
      "Requirement already satisfied: tzdata>=2022.7 in c:\\users\\user\\desktop\\agent\\venv\\lib\\site-packages (from pandas->langchain_teddynote) (2025.1)\n",
      "Requirement already satisfied: pillow in c:\\users\\user\\desktop\\agent\\venv\\lib\\site-packages (from pdf2image->langchain_teddynote) (11.1.0)\n",
      "Requirement already satisfied: certifi>=2019.11.17 in c:\\users\\user\\desktop\\agent\\venv\\lib\\site-packages (from pinecone-client[grpc]->langchain_teddynote) (2025.1.31)\n",
      "Requirement already satisfied: pinecone-plugin-interface<0.0.8,>=0.0.7 in c:\\users\\user\\desktop\\agent\\venv\\lib\\site-packages (from pinecone-client[grpc]->langchain_teddynote) (0.0.7)\n",
      "Requirement already satisfied: urllib3>=1.26.0 in c:\\users\\user\\desktop\\agent\\venv\\lib\\site-packages (from pinecone-client[grpc]->langchain_teddynote) (2.3.0)\n",
      "Requirement already satisfied: googleapis-common-protos>=1.66.0 in c:\\users\\user\\desktop\\agent\\venv\\lib\\site-packages (from pinecone-client[grpc]->langchain_teddynote) (1.69.2)\n",
      "Requirement already satisfied: grpcio>=1.44.0 in c:\\users\\user\\desktop\\agent\\venv\\lib\\site-packages (from pinecone-client[grpc]->langchain_teddynote) (1.71.0)\n",
      "Requirement already satisfied: lz4>=3.1.3 in c:\\users\\user\\desktop\\agent\\venv\\lib\\site-packages (from pinecone-client[grpc]->langchain_teddynote) (4.4.3)\n",
      "Requirement already satisfied: protobuf<6.0,>=5.29 in c:\\users\\user\\desktop\\agent\\venv\\lib\\site-packages (from pinecone-client[grpc]->langchain_teddynote) (5.29.3)\n",
      "Requirement already satisfied: protoc-gen-openapiv2<0.0.2,>=0.0.1 in c:\\users\\user\\desktop\\agent\\venv\\lib\\site-packages (from pinecone-client[grpc]->langchain_teddynote) (0.0.1)\n",
      "Requirement already satisfied: mmh3<5.0.0,>=4.1.0 in c:\\users\\user\\desktop\\agent\\venv\\lib\\site-packages (from pinecone-text->langchain_teddynote) (4.1.0)\n",
      "Requirement already satisfied: nltk<4.0.0,>=3.9.1 in c:\\users\\user\\desktop\\agent\\venv\\lib\\site-packages (from pinecone-text->langchain_teddynote) (3.9.1)\n",
      "Requirement already satisfied: python-dotenv<2.0.0,>=1.0.1 in c:\\users\\user\\desktop\\agent\\venv\\lib\\site-packages (from pinecone-text->langchain_teddynote) (1.0.1)\n",
      "Requirement already satisfied: types-requests<3.0.0,>=2.25.0 in c:\\users\\user\\desktop\\agent\\venv\\lib\\site-packages (from pinecone-text->langchain_teddynote) (2.32.0.20250306)\n",
      "Requirement already satisfied: tiktoken>=0.5.1 in c:\\users\\user\\desktop\\agent\\venv\\lib\\site-packages (from tavily-python->langchain_teddynote) (0.9.0)\n",
      "Requirement already satisfied: exceptiongroup>=1.0.2 in c:\\users\\user\\desktop\\agent\\venv\\lib\\site-packages (from anyio<5,>=3.5.0->anthropic->langchain_teddynote) (1.2.2)\n",
      "Requirement already satisfied: idna>=2.8 in c:\\users\\user\\desktop\\agent\\venv\\lib\\site-packages (from anyio<5,>=3.5.0->anthropic->langchain_teddynote) (3.10)\n",
      "Requirement already satisfied: httpcore==1.* in c:\\users\\user\\desktop\\agent\\venv\\lib\\site-packages (from httpx<1,>=0.23.0->anthropic->langchain_teddynote) (1.0.7)\n",
      "Requirement already satisfied: h11<0.15,>=0.13 in c:\\users\\user\\desktop\\agent\\venv\\lib\\site-packages (from httpcore==1.*->httpx<1,>=0.23.0->anthropic->langchain_teddynote) (0.14.0)\n",
      "Requirement already satisfied: tenacity!=8.4.0,<10.0.0,>=8.1.0 in c:\\users\\user\\desktop\\agent\\venv\\lib\\site-packages (from langchain-core<1.0.0,>=0.3.41->langchain->langchain_teddynote) (9.0.0)\n",
      "Requirement already satisfied: jsonpatch<2.0,>=1.33 in c:\\users\\user\\desktop\\agent\\venv\\lib\\site-packages (from langchain-core<1.0.0,>=0.3.41->langchain->langchain_teddynote) (1.33)\n",
      "Requirement already satisfied: packaging<25,>=23.2 in c:\\users\\user\\desktop\\agent\\venv\\lib\\site-packages (from langchain-core<1.0.0,>=0.3.41->langchain->langchain_teddynote) (24.2)\n",
      "Requirement already satisfied: msgpack<2.0.0,>=1.1.0 in c:\\users\\user\\desktop\\agent\\venv\\lib\\site-packages (from langgraph-checkpoint<3.0.0,>=2.0.10->langgraph->langchain_teddynote) (1.1.0)\n",
      "Requirement already satisfied: orjson>=3.10.1 in c:\\users\\user\\desktop\\agent\\venv\\lib\\site-packages (from langgraph-sdk<0.2.0,>=0.1.42->langgraph->langchain_teddynote) (3.10.15)\n",
      "Requirement already satisfied: requests-toolbelt<2.0.0,>=1.0.0 in c:\\users\\user\\desktop\\agent\\venv\\lib\\site-packages (from langsmith<0.4,>=0.1.17->langchain->langchain_teddynote) (1.0.0)\n",
      "Requirement already satisfied: zstandard<0.24.0,>=0.23.0 in c:\\users\\user\\desktop\\agent\\venv\\lib\\site-packages (from langsmith<0.4,>=0.1.17->langchain->langchain_teddynote) (0.23.0)\n",
      "Requirement already satisfied: click in c:\\users\\user\\desktop\\agent\\venv\\lib\\site-packages (from nltk<4.0.0,>=3.9.1->pinecone-text->langchain_teddynote) (8.1.8)\n",
      "Requirement already satisfied: joblib in c:\\users\\user\\desktop\\agent\\venv\\lib\\site-packages (from nltk<4.0.0,>=3.9.1->pinecone-text->langchain_teddynote) (1.4.2)\n",
      "Requirement already satisfied: regex>=2021.8.3 in c:\\users\\user\\desktop\\agent\\venv\\lib\\site-packages (from nltk<4.0.0,>=3.9.1->pinecone-text->langchain_teddynote) (2024.11.6)\n",
      "Requirement already satisfied: annotated-types>=0.6.0 in c:\\users\\user\\desktop\\agent\\venv\\lib\\site-packages (from pydantic<3,>=1.9.0->anthropic->langchain_teddynote) (0.7.0)\n",
      "Requirement already satisfied: pydantic-core==2.27.2 in c:\\users\\user\\desktop\\agent\\venv\\lib\\site-packages (from pydantic<3,>=1.9.0->anthropic->langchain_teddynote) (2.27.2)\n",
      "Requirement already satisfied: six>=1.5 in c:\\users\\user\\desktop\\agent\\venv\\lib\\site-packages (from python-dateutil>=2.8.2->pandas->langchain_teddynote) (1.17.0)\n",
      "Requirement already satisfied: charset-normalizer<4,>=2 in c:\\users\\user\\desktop\\agent\\venv\\lib\\site-packages (from requests<3,>=2->deepl->langchain_teddynote) (3.4.1)\n",
      "Requirement already satisfied: greenlet!=0.4.17 in c:\\users\\user\\desktop\\agent\\venv\\lib\\site-packages (from SQLAlchemy<3,>=1.4->langchain->langchain_teddynote) (3.1.1)\n",
      "Requirement already satisfied: colorama in c:\\users\\user\\desktop\\agent\\venv\\lib\\site-packages (from tqdm->kiwipiepy->langchain_teddynote) (0.4.6)\n",
      "Requirement already satisfied: jsonpointer>=1.9 in c:\\users\\user\\desktop\\agent\\venv\\lib\\site-packages (from jsonpatch<2.0,>=1.33->langchain-core<1.0.0,>=0.3.41->langchain->langchain_teddynote) (3.0.0)\n"
     ]
    }
   ],
   "source": [
    "! pip install langchain_teddynote"
   ]
  }
 ],
 "metadata": {
  "kernelspec": {
   "display_name": "venv",
   "language": "python",
   "name": "python3"
  },
  "language_info": {
   "codemirror_mode": {
    "name": "ipython",
    "version": 3
   },
   "file_extension": ".py",
   "mimetype": "text/x-python",
   "name": "python",
   "nbconvert_exporter": "python",
   "pygments_lexer": "ipython3",
   "version": "3.10.0"
  }
 },
 "nbformat": 4,
 "nbformat_minor": 2
}
